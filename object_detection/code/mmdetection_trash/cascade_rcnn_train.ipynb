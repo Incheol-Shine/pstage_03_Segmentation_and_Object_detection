{
 "cells": [
  {
   "cell_type": "code",
   "execution_count": 1,
   "metadata": {
    "pycharm": {
     "name": "#%%\n"
    }
   },
   "outputs": [],
   "source": [
    "from mmcv import Config\n",
    "from mmdet.datasets import build_dataset\n",
    "from mmdet.models import build_detector\n",
    "from mmdet.apis import train_detector\n",
    "from mmdet.datasets import (build_dataloader, build_dataset,\n",
    "                            replace_ImageToTensor)"
   ]
  },
  {
   "cell_type": "code",
   "execution_count": 2,
   "metadata": {},
   "outputs": [
    {
     "name": "stderr",
     "output_type": "stream",
     "text": [
      "\u001b[34m\u001b[1mwandb\u001b[0m: Currently logged in as: \u001b[33mjongeson\u001b[0m (use `wandb login --relogin` to force relogin)\n"
     ]
    },
    {
     "data": {
      "text/html": [
       "\n",
       "                Tracking run with wandb version 0.10.30<br/>\n",
       "                Syncing run <strong style=\"color:#cdcd00\">light-rain-3</strong> to <a href=\"https://wandb.ai\" target=\"_blank\">Weights & Biases</a> <a href=\"https://docs.wandb.com/integrations/jupyter.html\" target=\"_blank\">(Documentation)</a>.<br/>\n",
       "                Project page: <a href=\"https://wandb.ai/jongeson/object_detection\" target=\"_blank\">https://wandb.ai/jongeson/object_detection</a><br/>\n",
       "                Run page: <a href=\"https://wandb.ai/jongeson/object_detection/runs/2mz0n27p\" target=\"_blank\">https://wandb.ai/jongeson/object_detection/runs/2mz0n27p</a><br/>\n",
       "                Run data is saved locally in <code>/opt/ml/code/mmdetection_trash/wandb/run-20210513_075222-2mz0n27p</code><br/><br/>\n",
       "            "
      ],
      "text/plain": [
       "<IPython.core.display.HTML object>"
      ]
     },
     "metadata": {},
     "output_type": "display_data"
    },
    {
     "data": {
      "text/html": [
       "<h1>Run(2mz0n27p)</h1><iframe src=\"https://wandb.ai/jongeson/object_detection/runs/2mz0n27p\" style=\"border:none;width:100%;height:400px\"></iframe>"
      ],
      "text/plain": [
       "<wandb.sdk.wandb_run.Run at 0x7f3e1d135310>"
      ]
     },
     "execution_count": 2,
     "metadata": {},
     "output_type": "execute_result"
    }
   ],
   "source": [
    "import wandb\n",
    "project_name = \"object_detection\"\n",
    "wandb.init(project=project_name, reinit=True)"
   ]
  },
  {
   "cell_type": "code",
   "execution_count": 3,
   "metadata": {
    "pycharm": {
     "name": "#%%\n"
    }
   },
   "outputs": [],
   "source": [
    "classes = (\"UNKNOWN\", \"General trash\", \"Paper\", \"Paper pack\", \"Metal\", \"Glass\", \n",
    "           \"Plastic\", \"Styrofoam\", \"Plastic bag\", \"Battery\", \"Clothing\")\n",
    "# config file 들고오기\n",
    "cfg = Config.fromfile('./configs/trash/cascade/cascade_rcnn_r50_fpn_1x_trash.py')\n",
    "\n",
    "PREFIX = '../../input/data/'\n"
   ]
  },
  {
   "cell_type": "code",
   "execution_count": 4,
   "metadata": {},
   "outputs": [
    {
     "name": "stderr",
     "output_type": "stream",
     "text": [
      "\u001b[34m\u001b[1mwandb\u001b[0m: \u001b[33mWARNING\u001b[0m Calling run.save without any arguments is deprecated.Changes to attributes are automatically persisted.\n"
     ]
    },
    {
     "data": {
      "text/plain": [
       "True"
      ]
     },
     "execution_count": 4,
     "metadata": {},
     "output_type": "execute_result"
    }
   ],
   "source": [
    "wandb.run.name = 'cascade_rcnn_r50_fpn_1x_trash'\n",
    "# generted run ID로 하고 싶다면 다음과 같이 쓴다.\n",
    "# wandb.run.name = wandb.run.id\n",
    "wandb.run.save()"
   ]
  },
  {
   "cell_type": "code",
   "execution_count": 12,
   "metadata": {},
   "outputs": [
    {
     "data": {
      "text/plain": [
       "dict_keys(['interval', 'hooks'])"
      ]
     },
     "execution_count": 12,
     "metadata": {},
     "output_type": "execute_result"
    }
   ],
   "source": [
    "cfg.log_config.keys()"
   ]
  },
  {
   "cell_type": "code",
   "execution_count": 5,
   "metadata": {},
   "outputs": [],
   "source": [
    "cfg.log_config.hooks = [\n",
    "\tdict(type='TextLoggerHook'),\n",
    "\tdict(\n",
    "\t\ttype='WandbLoggerHook',\n",
    "\t\tinit_kwargs=dict(\n",
    "\t\t\t\tproject=project_name,\n",
    "\t\t\t\tname='cascade_rcnn_r50_fpn_1x_trash'\n",
    "\t\t\t\t)\n",
    "\t\t)\n",
    "]"
   ]
  },
  {
   "cell_type": "code",
   "execution_count": 7,
   "metadata": {},
   "outputs": [],
   "source": [
    "# dataset 바꾸기\n",
    "cfg.data.train.classes = classes\n",
    "cfg.data.train.img_prefix = PREFIX\n",
    "cfg.data.train.ann_file = PREFIX + 'train.json'\n",
    "cfg.data.train.pipeline[2]['img_scale'] = (512, 512)\n",
    "\n",
    "cfg.data.val.classes = classes\n",
    "cfg.data.val.img_prefix = PREFIX\n",
    "cfg.data.val.ann_file = PREFIX + 'val.json'\n",
    "cfg.data.val.pipeline[1]['img_scale'] = (512, 512)\n",
    "\n",
    "cfg.data.test.classes = classes\n",
    "cfg.data.test.img_prefix = PREFIX\n",
    "cfg.data.test.ann_file = PREFIX + 'test.json'\n",
    "cfg.data.test.pipeline[1]['img_scale'] = (512, 512)\n",
    "\n",
    "# num_workers?\n",
    "cfg.data.samples_per_gpu = 4\n",
    "\n",
    "# seed\n",
    "cfg.seed=2020\n",
    "\n",
    "# ??\n",
    "cfg.gpu_ids = [0]\n",
    "\n",
    "# \n",
    "cfg.work_dir = './work_dirs/cascade_rcnn_r50_fpn_1x_trash'\n",
    "\n",
    "# ??\n",
    "# cfg.model.roi_head.bbox_head.num_classes = 11\n",
    "\n",
    "# ??\n",
    "cfg.optimizer_config.grad_clip = dict(max_norm=35, norm_type=2)"
   ]
  },
  {
   "cell_type": "code",
   "execution_count": 8,
   "metadata": {
    "pycharm": {
     "name": "#%%\n"
    }
   },
   "outputs": [
    {
     "name": "stderr",
     "output_type": "stream",
     "text": [
      "2021-05-13 07:54:10,731 - mmdet - INFO - load model from: torchvision://resnet50\n",
      "2021-05-13 07:54:10,733 - mmdet - INFO - Use load_from_torchvision loader\n",
      "2021-05-13 07:54:11,023 - mmdet - WARNING - The model and loaded state dict do not match exactly\n",
      "\n",
      "unexpected key in source state_dict: fc.weight, fc.bias\n",
      "\n"
     ]
    }
   ],
   "source": [
    "model = build_detector(cfg.model)"
   ]
  },
  {
   "cell_type": "code",
   "execution_count": 9,
   "metadata": {
    "pycharm": {
     "name": "#%%\n"
    }
   },
   "outputs": [
    {
     "name": "stdout",
     "output_type": "stream",
     "text": [
      "loading annotations into memory...\n",
      "Done (t=3.42s)\n",
      "creating index...\n",
      "index created!\n"
     ]
    }
   ],
   "source": [
    "datasets = [build_dataset(cfg.data.train)]"
   ]
  },
  {
   "cell_type": "code",
   "execution_count": 10,
   "metadata": {
    "pycharm": {
     "name": "#%%\n"
    }
   },
   "outputs": [
    {
     "name": "stdout",
     "output_type": "stream",
     "text": [
      "loading annotations into memory...\n"
     ]
    },
    {
     "name": "stderr",
     "output_type": "stream",
     "text": [
      "2021-05-13 07:54:47,185 - mmdet - INFO - Start running, host: root@a868eb526110, work_dir: /opt/ml/code/mmdetection_trash/work_dirs/cascade_rcnn_r50_fpn_1x_trash\n",
      "2021-05-13 07:54:47,190 - mmdet - INFO - workflow: [('train', 1)], max: 12 epochs\n"
     ]
    },
    {
     "name": "stdout",
     "output_type": "stream",
     "text": [
      "Done (t=1.16s)\n",
      "creating index...\n",
      "index created!\n"
     ]
    },
    {
     "data": {
      "text/html": [
       "Finishing last run (ID:2mz0n27p) before initializing another..."
      ],
      "text/plain": [
       "<IPython.core.display.HTML object>"
      ]
     },
     "metadata": {},
     "output_type": "display_data"
    },
    {
     "data": {
      "text/html": [
       "<br/>Waiting for W&B process to finish, PID 32736<br/>Program ended successfully."
      ],
      "text/plain": [
       "<IPython.core.display.HTML object>"
      ]
     },
     "metadata": {},
     "output_type": "display_data"
    },
    {
     "data": {
      "application/vnd.jupyter.widget-view+json": {
       "model_id": "",
       "version_major": 2,
       "version_minor": 0
      },
      "text/plain": [
       "VBox(children=(Label(value=' 0.00MB of 0.00MB uploaded (0.00MB deduped)\\r'), FloatProgress(value=1.0, max=1.0)…"
      ]
     },
     "metadata": {},
     "output_type": "display_data"
    },
    {
     "data": {
      "text/html": [
       "Find user logs for this run at: <code>/opt/ml/code/mmdetection_trash/wandb/run-20210513_075222-2mz0n27p/logs/debug.log</code>"
      ],
      "text/plain": [
       "<IPython.core.display.HTML object>"
      ]
     },
     "metadata": {},
     "output_type": "display_data"
    },
    {
     "data": {
      "text/html": [
       "Find internal logs for this run at: <code>/opt/ml/code/mmdetection_trash/wandb/run-20210513_075222-2mz0n27p/logs/debug-internal.log</code>"
      ],
      "text/plain": [
       "<IPython.core.display.HTML object>"
      ]
     },
     "metadata": {},
     "output_type": "display_data"
    },
    {
     "data": {
      "text/html": [
       "Synced 5 W&B file(s), 0 media file(s), 0 artifact file(s) and 0 other file(s)"
      ],
      "text/plain": [
       "<IPython.core.display.HTML object>"
      ]
     },
     "metadata": {},
     "output_type": "display_data"
    },
    {
     "data": {
      "text/html": [
       "\n",
       "                    <br/>Synced <strong style=\"color:#cdcd00\">light-rain-3</strong>: <a href=\"https://wandb.ai/jongeson/object_detection/runs/2mz0n27p\" target=\"_blank\">https://wandb.ai/jongeson/object_detection/runs/2mz0n27p</a><br/>\n",
       "                "
      ],
      "text/plain": [
       "<IPython.core.display.HTML object>"
      ]
     },
     "metadata": {},
     "output_type": "display_data"
    },
    {
     "data": {
      "text/html": [
       "...Successfully finished last run (ID:2mz0n27p). Initializing new run:<br/><br/>"
      ],
      "text/plain": [
       "<IPython.core.display.HTML object>"
      ]
     },
     "metadata": {},
     "output_type": "display_data"
    },
    {
     "data": {
      "text/html": [
       "\n",
       "                Tracking run with wandb version 0.10.30<br/>\n",
       "                Syncing run <strong style=\"color:#cdcd00\">cascade_rcnn_r50_fpn_1x_trash</strong> to <a href=\"https://wandb.ai\" target=\"_blank\">Weights & Biases</a> <a href=\"https://docs.wandb.com/integrations/jupyter.html\" target=\"_blank\">(Documentation)</a>.<br/>\n",
       "                Project page: <a href=\"https://wandb.ai/jongeson/object_detection\" target=\"_blank\">https://wandb.ai/jongeson/object_detection</a><br/>\n",
       "                Run page: <a href=\"https://wandb.ai/jongeson/object_detection/runs/1ujb4c8v\" target=\"_blank\">https://wandb.ai/jongeson/object_detection/runs/1ujb4c8v</a><br/>\n",
       "                Run data is saved locally in <code>/opt/ml/code/mmdetection_trash/wandb/run-20210513_075447-1ujb4c8v</code><br/><br/>\n",
       "            "
      ],
      "text/plain": [
       "<IPython.core.display.HTML object>"
      ]
     },
     "metadata": {},
     "output_type": "display_data"
    },
    {
     "name": "stderr",
     "output_type": "stream",
     "text": [
      "2021-05-13 07:55:21,383 - mmdet - INFO - Epoch [1][50/655]\tlr: 1.978e-03, eta: 1:09:32, time: 0.534, data_time: 0.049, memory: 2528, loss_rpn_cls: 0.4936, loss_rpn_bbox: 0.0730, s0.loss_cls: 0.8041, s0.acc: 83.6318, s0.loss_bbox: 0.1635, s1.loss_cls: 0.3322, s1.acc: 86.5410, s1.loss_bbox: 0.0479, s2.loss_cls: 0.1821, s2.acc: 82.2012, s2.loss_bbox: 0.0067, loss: 2.1031, grad_norm: 8.9631\n",
      "2021-05-13 07:55:47,129 - mmdet - INFO - Epoch [1][100/655]\tlr: 3.976e-03, eta: 1:07:50, time: 0.515, data_time: 0.006, memory: 2528, loss_rpn_cls: 0.2219, loss_rpn_bbox: 0.0683, s0.loss_cls: 0.4633, s0.acc: 89.5273, s0.loss_bbox: 0.2447, s1.loss_cls: 0.1343, s1.acc: 95.2520, s1.loss_bbox: 0.0732, s2.loss_cls: 0.0418, s2.acc: 97.5830, s2.loss_bbox: 0.0096, loss: 1.2573, grad_norm: 3.7143\n",
      "2021-05-13 07:56:12,384 - mmdet - INFO - Epoch [1][150/655]\tlr: 5.974e-03, eta: 1:06:34, time: 0.505, data_time: 0.006, memory: 2528, loss_rpn_cls: 0.1925, loss_rpn_bbox: 0.0604, s0.loss_cls: 0.5052, s0.acc: 87.9502, s0.loss_bbox: 0.2874, s1.loss_cls: 0.1420, s1.acc: 94.4043, s1.loss_bbox: 0.0945, s2.loss_cls: 0.0416, s2.acc: 97.3623, s2.loss_bbox: 0.0130, loss: 1.3366, grad_norm: 3.5986\n",
      "2021-05-13 07:56:37,768 - mmdet - INFO - Epoch [1][200/655]\tlr: 7.972e-03, eta: 1:05:48, time: 0.508, data_time: 0.007, memory: 2528, loss_rpn_cls: 0.1608, loss_rpn_bbox: 0.0656, s0.loss_cls: 0.4801, s0.acc: 88.0693, s0.loss_bbox: 0.2765, s1.loss_cls: 0.1614, s1.acc: 92.9336, s1.loss_bbox: 0.1229, s2.loss_cls: 0.0470, s2.acc: 96.7568, s2.loss_bbox: 0.0197, loss: 1.3340, grad_norm: 3.6041\n",
      "2021-05-13 07:57:02,601 - mmdet - INFO - Epoch [1][250/655]\tlr: 9.970e-03, eta: 1:04:54, time: 0.497, data_time: 0.007, memory: 2528, loss_rpn_cls: 0.1482, loss_rpn_bbox: 0.0596, s0.loss_cls: 0.4488, s0.acc: 88.7227, s0.loss_bbox: 0.2534, s1.loss_cls: 0.1666, s1.acc: 91.7441, s1.loss_bbox: 0.1482, s2.loss_cls: 0.0566, s2.acc: 95.2402, s2.loss_bbox: 0.0363, loss: 1.3177, grad_norm: 3.8337\n",
      "2021-05-13 07:57:27,929 - mmdet - INFO - Epoch [1][300/655]\tlr: 1.197e-02, eta: 1:04:22, time: 0.507, data_time: 0.006, memory: 2528, loss_rpn_cls: 0.1453, loss_rpn_bbox: 0.0584, s0.loss_cls: 0.4347, s0.acc: 89.0410, s0.loss_bbox: 0.2350, s1.loss_cls: 0.1638, s1.acc: 91.8184, s1.loss_bbox: 0.1414, s2.loss_cls: 0.0582, s2.acc: 94.9268, s2.loss_bbox: 0.0395, loss: 1.2764, grad_norm: 3.7643\n",
      "2021-05-13 07:57:52,859 - mmdet - INFO - Epoch [1][350/655]\tlr: 1.397e-02, eta: 1:03:43, time: 0.499, data_time: 0.007, memory: 2528, loss_rpn_cls: 0.1657, loss_rpn_bbox: 0.0581, s0.loss_cls: 0.4803, s0.acc: 88.1104, s0.loss_bbox: 0.2481, s1.loss_cls: 0.1902, s1.acc: 90.5439, s1.loss_bbox: 0.1570, s2.loss_cls: 0.0662, s2.acc: 93.8984, s2.loss_bbox: 0.0492, loss: 1.4148, grad_norm: 4.3344\n",
      "2021-05-13 07:58:19,004 - mmdet - INFO - Epoch [1][400/655]\tlr: 1.596e-02, eta: 1:03:30, time: 0.523, data_time: 0.008, memory: 2528, loss_rpn_cls: 0.1967, loss_rpn_bbox: 0.0725, s0.loss_cls: 0.4997, s0.acc: 87.8818, s0.loss_bbox: 0.2375, s1.loss_cls: 0.1974, s1.acc: 90.6768, s1.loss_bbox: 0.1491, s2.loss_cls: 0.0693, s2.acc: 94.0049, s2.loss_bbox: 0.0475, loss: 1.4698, grad_norm: 4.3322\n",
      "2021-05-13 07:58:43,848 - mmdet - INFO - Epoch [1][450/655]\tlr: 1.796e-02, eta: 1:02:53, time: 0.497, data_time: 0.006, memory: 2528, loss_rpn_cls: 0.1562, loss_rpn_bbox: 0.0656, s0.loss_cls: 0.4569, s0.acc: 88.6533, s0.loss_bbox: 0.2210, s1.loss_cls: 0.1850, s1.acc: 90.8057, s1.loss_bbox: 0.1490, s2.loss_cls: 0.0700, s2.acc: 93.4414, s2.loss_bbox: 0.0528, loss: 1.3566, grad_norm: 3.5362\n",
      "2021-05-13 07:59:08,623 - mmdet - INFO - Epoch [1][500/655]\tlr: 1.996e-02, eta: 1:02:18, time: 0.495, data_time: 0.007, memory: 2528, loss_rpn_cls: 0.1395, loss_rpn_bbox: 0.0595, s0.loss_cls: 0.4587, s0.acc: 89.0869, s0.loss_bbox: 0.2169, s1.loss_cls: 0.1832, s1.acc: 91.1279, s1.loss_bbox: 0.1446, s2.loss_cls: 0.0676, s2.acc: 93.5127, s2.loss_bbox: 0.0535, loss: 1.3234, grad_norm: 3.2672\n",
      "2021-05-13 07:59:33,251 - mmdet - INFO - Epoch [1][550/655]\tlr: 2.000e-02, eta: 1:01:42, time: 0.493, data_time: 0.006, memory: 2528, loss_rpn_cls: 0.1311, loss_rpn_bbox: 0.0563, s0.loss_cls: 0.4403, s0.acc: 88.6572, s0.loss_bbox: 0.2160, s1.loss_cls: 0.1870, s1.acc: 90.3064, s1.loss_bbox: 0.1522, s2.loss_cls: 0.0731, s2.acc: 92.6342, s2.loss_bbox: 0.0615, loss: 1.3174, grad_norm: 2.9252\n",
      "2021-05-13 07:59:58,091 - mmdet - INFO - Epoch [1][600/655]\tlr: 2.000e-02, eta: 1:01:11, time: 0.497, data_time: 0.006, memory: 2528, loss_rpn_cls: 0.1421, loss_rpn_bbox: 0.0631, s0.loss_cls: 0.4596, s0.acc: 88.4756, s0.loss_bbox: 0.2204, s1.loss_cls: 0.1876, s1.acc: 90.5006, s1.loss_bbox: 0.1537, s2.loss_cls: 0.0726, s2.acc: 92.8104, s2.loss_bbox: 0.0639, loss: 1.3630, grad_norm: 2.9621\n",
      "2021-05-13 08:00:23,945 - mmdet - INFO - Epoch [1][650/655]\tlr: 2.000e-02, eta: 1:00:52, time: 0.517, data_time: 0.007, memory: 2528, loss_rpn_cls: 0.1177, loss_rpn_bbox: 0.0581, s0.loss_cls: 0.4233, s0.acc: 88.8145, s0.loss_bbox: 0.2006, s1.loss_cls: 0.1887, s1.acc: 89.7900, s1.loss_bbox: 0.1597, s2.loss_cls: 0.0777, s2.acc: 91.6851, s2.loss_bbox: 0.0695, loss: 1.2953, grad_norm: 2.8288\n",
      "2021-05-13 08:00:26,422 - mmdet - INFO - Saving checkpoint at 1 epochs\n"
     ]
    },
    {
     "name": "stdout",
     "output_type": "stream",
     "text": [
      "[>>>>>>>>>>>>>>>>>>>>>>>>>>>>>] 655/655, 14.7 task/s, elapsed: 45s, ETA:     0s"
     ]
    },
    {
     "name": "stderr",
     "output_type": "stream",
     "text": [
      "2021-05-13 08:01:13,687 - mmdet - INFO - Evaluating bbox...\n"
     ]
    },
    {
     "name": "stdout",
     "output_type": "stream",
     "text": [
      "Loading and preparing results...\n",
      "DONE (t=0.64s)\n",
      "creating index...\n",
      "index created!\n",
      "Running per image evaluation...\n",
      "Evaluate annotation type *bbox*\n",
      "DONE (t=6.51s).\n",
      "Accumulating evaluation results...\n"
     ]
    },
    {
     "name": "stderr",
     "output_type": "stream",
     "text": [
      "2021-05-13 08:01:22,100 - mmdet - INFO - Epoch(val) [1][655]\tbbox_mAP: 0.0400, bbox_mAP_50: 0.0860, bbox_mAP_75: 0.0310, bbox_mAP_s: 0.0070, bbox_mAP_m: 0.0380, bbox_mAP_l: 0.0820, bbox_mAP_copypaste: 0.040 0.086 0.031 0.007 0.038 0.082\n"
     ]
    },
    {
     "name": "stdout",
     "output_type": "stream",
     "text": [
      "DONE (t=1.16s).\n",
      "Average Precision  (AP) @[ IoU=0.50:0.95 | area=   all | maxDets=100 ] = 0.040\n",
      "Average Precision  (AP) @[ IoU=0.50      | area=   all | maxDets=1000 ] = 0.086\n",
      "Average Precision  (AP) @[ IoU=0.75      | area=   all | maxDets=1000 ] = 0.031\n",
      "Average Precision  (AP) @[ IoU=0.50:0.95 | area= small | maxDets=1000 ] = 0.007\n",
      "Average Precision  (AP) @[ IoU=0.50:0.95 | area=medium | maxDets=1000 ] = 0.038\n",
      "Average Precision  (AP) @[ IoU=0.50:0.95 | area= large | maxDets=1000 ] = 0.082\n",
      "Average Recall     (AR) @[ IoU=0.50:0.95 | area=   all | maxDets=100 ] = 0.128\n",
      "Average Recall     (AR) @[ IoU=0.50:0.95 | area=   all | maxDets=300 ] = 0.128\n",
      "Average Recall     (AR) @[ IoU=0.50:0.95 | area=   all | maxDets=1000 ] = 0.128\n",
      "Average Recall     (AR) @[ IoU=0.50:0.95 | area= small | maxDets=1000 ] = 0.025\n",
      "Average Recall     (AR) @[ IoU=0.50:0.95 | area=medium | maxDets=1000 ] = 0.126\n",
      "Average Recall     (AR) @[ IoU=0.50:0.95 | area= large | maxDets=1000 ] = 0.248\n"
     ]
    },
    {
     "name": "stderr",
     "output_type": "stream",
     "text": [
      "2021-05-13 08:01:49,872 - mmdet - INFO - Epoch [2][50/655]\tlr: 2.000e-02, eta: 1:00:23, time: 0.555, data_time: 0.050, memory: 2528, loss_rpn_cls: 0.1343, loss_rpn_bbox: 0.0578, s0.loss_cls: 0.4308, s0.acc: 88.5293, s0.loss_bbox: 0.2177, s1.loss_cls: 0.1861, s1.acc: 89.8920, s1.loss_bbox: 0.1715, s2.loss_cls: 0.0752, s2.acc: 91.8678, s2.loss_bbox: 0.0725, loss: 1.3459, grad_norm: 2.9574\n",
      "2021-05-13 08:02:16,611 - mmdet - INFO - Epoch [2][100/655]\tlr: 2.000e-02, eta: 1:00:11, time: 0.535, data_time: 0.008, memory: 2528, loss_rpn_cls: 0.1229, loss_rpn_bbox: 0.0629, s0.loss_cls: 0.4008, s0.acc: 89.3467, s0.loss_bbox: 0.1900, s1.loss_cls: 0.1782, s1.acc: 90.3819, s1.loss_bbox: 0.1543, s2.loss_cls: 0.0745, s2.acc: 91.9860, s2.loss_bbox: 0.0738, loss: 1.2573, grad_norm: 2.7730\n",
      "2021-05-13 08:02:42,837 - mmdet - INFO - Epoch [2][150/655]\tlr: 2.000e-02, eta: 0:59:53, time: 0.525, data_time: 0.007, memory: 2528, loss_rpn_cls: 0.1060, loss_rpn_bbox: 0.0538, s0.loss_cls: 0.4069, s0.acc: 89.3623, s0.loss_bbox: 0.1870, s1.loss_cls: 0.1814, s1.acc: 90.3985, s1.loss_bbox: 0.1493, s2.loss_cls: 0.0758, s2.acc: 91.9087, s2.loss_bbox: 0.0695, loss: 1.2298, grad_norm: 2.8210\n",
      "2021-05-13 08:03:07,762 - mmdet - INFO - Epoch [2][200/655]\tlr: 2.000e-02, eta: 0:59:23, time: 0.498, data_time: 0.006, memory: 2528, loss_rpn_cls: 0.1054, loss_rpn_bbox: 0.0472, s0.loss_cls: 0.3961, s0.acc: 89.3828, s0.loss_bbox: 0.1873, s1.loss_cls: 0.1809, s1.acc: 90.0788, s1.loss_bbox: 0.1550, s2.loss_cls: 0.0764, s2.acc: 91.7243, s2.loss_bbox: 0.0747, loss: 1.2230, grad_norm: 2.7668\n",
      "2021-05-13 08:03:32,895 - mmdet - INFO - Epoch [2][250/655]\tlr: 2.000e-02, eta: 0:58:55, time: 0.503, data_time: 0.006, memory: 2528, loss_rpn_cls: 0.1104, loss_rpn_bbox: 0.0516, s0.loss_cls: 0.4194, s0.acc: 88.5771, s0.loss_bbox: 0.2043, s1.loss_cls: 0.1902, s1.acc: 89.4722, s1.loss_bbox: 0.1682, s2.loss_cls: 0.0806, s2.acc: 91.3116, s2.loss_bbox: 0.0776, loss: 1.3022, grad_norm: 2.6264\n",
      "2021-05-13 08:03:57,501 - mmdet - INFO - Epoch [2][300/655]\tlr: 2.000e-02, eta: 0:58:24, time: 0.492, data_time: 0.006, memory: 2528, loss_rpn_cls: 0.1355, loss_rpn_bbox: 0.0522, s0.loss_cls: 0.3834, s0.acc: 89.3340, s0.loss_bbox: 0.1940, s1.loss_cls: 0.1699, s1.acc: 90.5577, s1.loss_bbox: 0.1528, s2.loss_cls: 0.0697, s2.acc: 92.3267, s2.loss_bbox: 0.0705, loss: 1.2278, grad_norm: 2.9753\n",
      "2021-05-13 08:04:23,310 - mmdet - INFO - Epoch [2][350/655]\tlr: 2.000e-02, eta: 0:58:01, time: 0.516, data_time: 0.007, memory: 2528, loss_rpn_cls: 0.1321, loss_rpn_bbox: 0.0591, s0.loss_cls: 0.4473, s0.acc: 88.0215, s0.loss_bbox: 0.2113, s1.loss_cls: 0.2040, s1.acc: 88.8716, s1.loss_bbox: 0.1701, s2.loss_cls: 0.0858, s2.acc: 90.6116, s2.loss_bbox: 0.0788, loss: 1.3885, grad_norm: 2.6407\n",
      "2021-05-13 08:04:47,694 - mmdet - INFO - Epoch [2][400/655]\tlr: 2.000e-02, eta: 0:57:29, time: 0.488, data_time: 0.006, memory: 2528, loss_rpn_cls: 0.1051, loss_rpn_bbox: 0.0519, s0.loss_cls: 0.3932, s0.acc: 89.3760, s0.loss_bbox: 0.1821, s1.loss_cls: 0.1789, s1.acc: 90.0959, s1.loss_bbox: 0.1454, s2.loss_cls: 0.0763, s2.acc: 91.6826, s2.loss_bbox: 0.0682, loss: 1.2012, grad_norm: 2.3821\n",
      "2021-05-13 08:05:12,387 - mmdet - INFO - Epoch [2][450/655]\tlr: 2.000e-02, eta: 0:57:00, time: 0.494, data_time: 0.006, memory: 2528, loss_rpn_cls: 0.1129, loss_rpn_bbox: 0.0478, s0.loss_cls: 0.4244, s0.acc: 88.5596, s0.loss_bbox: 0.1970, s1.loss_cls: 0.1937, s1.acc: 89.4414, s1.loss_bbox: 0.1623, s2.loss_cls: 0.0820, s2.acc: 91.3143, s2.loss_bbox: 0.0766, loss: 1.2968, grad_norm: 2.5618\n",
      "2021-05-13 08:05:37,933 - mmdet - INFO - Epoch [2][500/655]\tlr: 2.000e-02, eta: 0:56:36, time: 0.511, data_time: 0.006, memory: 2528, loss_rpn_cls: 0.1107, loss_rpn_bbox: 0.0533, s0.loss_cls: 0.4115, s0.acc: 88.5693, s0.loss_bbox: 0.1963, s1.loss_cls: 0.1897, s1.acc: 89.4322, s1.loss_bbox: 0.1575, s2.loss_cls: 0.0821, s2.acc: 91.0821, s2.loss_bbox: 0.0737, loss: 1.2749, grad_norm: 2.6061\n",
      "2021-05-13 08:06:03,588 - mmdet - INFO - Epoch [2][550/655]\tlr: 2.000e-02, eta: 0:56:13, time: 0.513, data_time: 0.006, memory: 2528, loss_rpn_cls: 0.0993, loss_rpn_bbox: 0.0483, s0.loss_cls: 0.4290, s0.acc: 88.5439, s0.loss_bbox: 0.1938, s1.loss_cls: 0.1959, s1.acc: 89.4279, s1.loss_bbox: 0.1578, s2.loss_cls: 0.0832, s2.acc: 91.0410, s2.loss_bbox: 0.0760, loss: 1.2833, grad_norm: 2.6485\n",
      "2021-05-13 08:06:28,852 - mmdet - INFO - Epoch [2][600/655]\tlr: 2.000e-02, eta: 0:55:47, time: 0.505, data_time: 0.007, memory: 2528, loss_rpn_cls: 0.1055, loss_rpn_bbox: 0.0530, s0.loss_cls: 0.4293, s0.acc: 87.8789, s0.loss_bbox: 0.2137, s1.loss_cls: 0.1955, s1.acc: 88.9136, s1.loss_bbox: 0.1789, s2.loss_cls: 0.0827, s2.acc: 90.7698, s2.loss_bbox: 0.0832, loss: 1.3419, grad_norm: 2.7391\n",
      "2021-05-13 08:06:53,289 - mmdet - INFO - Epoch [2][650/655]\tlr: 2.000e-02, eta: 0:55:17, time: 0.489, data_time: 0.006, memory: 2528, loss_rpn_cls: 0.0968, loss_rpn_bbox: 0.0480, s0.loss_cls: 0.3570, s0.acc: 90.3984, s0.loss_bbox: 0.1676, s1.loss_cls: 0.1645, s1.acc: 91.0511, s1.loss_bbox: 0.1369, s2.loss_cls: 0.0716, s2.acc: 92.1983, s2.loss_bbox: 0.0633, loss: 1.1057, grad_norm: 2.3939\n",
      "2021-05-13 08:06:55,772 - mmdet - INFO - Saving checkpoint at 2 epochs\n"
     ]
    },
    {
     "name": "stdout",
     "output_type": "stream",
     "text": [
      "[>>>>>>>>>>>>>>>>>>>>>>>>>>>>>] 655/655, 14.6 task/s, elapsed: 45s, ETA:     0s"
     ]
    },
    {
     "name": "stderr",
     "output_type": "stream",
     "text": [
      "2021-05-13 08:07:42,262 - mmdet - INFO - Evaluating bbox...\n"
     ]
    },
    {
     "name": "stdout",
     "output_type": "stream",
     "text": [
      "Loading and preparing results...\n",
      "DONE (t=0.08s)\n",
      "creating index...\n",
      "index created!\n",
      "Running per image evaluation...\n",
      "Evaluate annotation type *bbox*\n",
      "DONE (t=4.66s).\n",
      "Accumulating evaluation results...\n"
     ]
    },
    {
     "name": "stderr",
     "output_type": "stream",
     "text": [
      "2021-05-13 08:07:47,751 - mmdet - INFO - Epoch(val) [2][655]\tbbox_mAP: 0.0780, bbox_mAP_50: 0.1320, bbox_mAP_75: 0.0800, bbox_mAP_s: 0.0170, bbox_mAP_m: 0.0700, bbox_mAP_l: 0.1580, bbox_mAP_copypaste: 0.078 0.132 0.080 0.017 0.070 0.158\n"
     ]
    },
    {
     "name": "stdout",
     "output_type": "stream",
     "text": [
      "DONE (t=0.68s).\n",
      "Average Precision  (AP) @[ IoU=0.50:0.95 | area=   all | maxDets=100 ] = 0.078\n",
      "Average Precision  (AP) @[ IoU=0.50      | area=   all | maxDets=1000 ] = 0.132\n",
      "Average Precision  (AP) @[ IoU=0.75      | area=   all | maxDets=1000 ] = 0.080\n",
      "Average Precision  (AP) @[ IoU=0.50:0.95 | area= small | maxDets=1000 ] = 0.017\n",
      "Average Precision  (AP) @[ IoU=0.50:0.95 | area=medium | maxDets=1000 ] = 0.070\n",
      "Average Precision  (AP) @[ IoU=0.50:0.95 | area= large | maxDets=1000 ] = 0.158\n",
      "Average Recall     (AR) @[ IoU=0.50:0.95 | area=   all | maxDets=100 ] = 0.172\n",
      "Average Recall     (AR) @[ IoU=0.50:0.95 | area=   all | maxDets=300 ] = 0.172\n",
      "Average Recall     (AR) @[ IoU=0.50:0.95 | area=   all | maxDets=1000 ] = 0.172\n",
      "Average Recall     (AR) @[ IoU=0.50:0.95 | area= small | maxDets=1000 ] = 0.034\n",
      "Average Recall     (AR) @[ IoU=0.50:0.95 | area=medium | maxDets=1000 ] = 0.146\n",
      "Average Recall     (AR) @[ IoU=0.50:0.95 | area= large | maxDets=1000 ] = 0.369\n"
     ]
    },
    {
     "name": "stderr",
     "output_type": "stream",
     "text": [
      "2021-05-13 08:08:14,974 - mmdet - INFO - Epoch [3][50/655]\tlr: 2.000e-02, eta: 0:54:46, time: 0.544, data_time: 0.052, memory: 2528, loss_rpn_cls: 0.0978, loss_rpn_bbox: 0.0474, s0.loss_cls: 0.3703, s0.acc: 89.9072, s0.loss_bbox: 0.1651, s1.loss_cls: 0.1702, s1.acc: 90.5252, s1.loss_bbox: 0.1403, s2.loss_cls: 0.0774, s2.acc: 91.5009, s2.loss_bbox: 0.0716, loss: 1.1400, grad_norm: 2.5520\n",
      "2021-05-13 08:08:40,064 - mmdet - INFO - Epoch [3][100/655]\tlr: 2.000e-02, eta: 0:54:20, time: 0.502, data_time: 0.007, memory: 2528, loss_rpn_cls: 0.0907, loss_rpn_bbox: 0.0506, s0.loss_cls: 0.4073, s0.acc: 88.3945, s0.loss_bbox: 0.1888, s1.loss_cls: 0.1885, s1.acc: 89.1957, s1.loss_bbox: 0.1610, s2.loss_cls: 0.0837, s2.acc: 90.4424, s2.loss_bbox: 0.0811, loss: 1.2518, grad_norm: 2.5675\n",
      "2021-05-13 08:09:04,862 - mmdet - INFO - Epoch [3][150/655]\tlr: 2.000e-02, eta: 0:53:53, time: 0.496, data_time: 0.007, memory: 2528, loss_rpn_cls: 0.0905, loss_rpn_bbox: 0.0497, s0.loss_cls: 0.3926, s0.acc: 89.3135, s0.loss_bbox: 0.1793, s1.loss_cls: 0.1854, s1.acc: 89.8549, s1.loss_bbox: 0.1488, s2.loss_cls: 0.0821, s2.acc: 91.0642, s2.loss_bbox: 0.0721, loss: 1.2004, grad_norm: 2.6230\n",
      "2021-05-13 08:09:29,920 - mmdet - INFO - Epoch [3][200/655]\tlr: 2.000e-02, eta: 0:53:26, time: 0.501, data_time: 0.006, memory: 2528, loss_rpn_cls: 0.0869, loss_rpn_bbox: 0.0475, s0.loss_cls: 0.3927, s0.acc: 88.9453, s0.loss_bbox: 0.1847, s1.loss_cls: 0.1785, s1.acc: 89.8590, s1.loss_bbox: 0.1518, s2.loss_cls: 0.0775, s2.acc: 91.3255, s2.loss_bbox: 0.0739, loss: 1.1935, grad_norm: 2.8564\n",
      "2021-05-13 08:09:54,605 - mmdet - INFO - Epoch [3][250/655]\tlr: 2.000e-02, eta: 0:52:59, time: 0.494, data_time: 0.006, memory: 2528, loss_rpn_cls: 0.1044, loss_rpn_bbox: 0.0545, s0.loss_cls: 0.3907, s0.acc: 89.3252, s0.loss_bbox: 0.1816, s1.loss_cls: 0.1834, s1.acc: 89.8596, s1.loss_bbox: 0.1536, s2.loss_cls: 0.0803, s2.acc: 91.2339, s2.loss_bbox: 0.0736, loss: 1.2221, grad_norm: 2.6715\n",
      "2021-05-13 08:10:19,824 - mmdet - INFO - Epoch [3][300/655]\tlr: 2.000e-02, eta: 0:52:34, time: 0.504, data_time: 0.007, memory: 2528, loss_rpn_cls: 0.0952, loss_rpn_bbox: 0.0452, s0.loss_cls: 0.3890, s0.acc: 88.9346, s0.loss_bbox: 0.1885, s1.loss_cls: 0.1768, s1.acc: 89.9660, s1.loss_bbox: 0.1600, s2.loss_cls: 0.0778, s2.acc: 90.9210, s2.loss_bbox: 0.0802, loss: 1.2128, grad_norm: 2.6165\n",
      "2021-05-13 08:10:44,544 - mmdet - INFO - Epoch [3][350/655]\tlr: 2.000e-02, eta: 0:52:06, time: 0.494, data_time: 0.007, memory: 2528, loss_rpn_cls: 0.0972, loss_rpn_bbox: 0.0449, s0.loss_cls: 0.3956, s0.acc: 88.6133, s0.loss_bbox: 0.1825, s1.loss_cls: 0.1868, s1.acc: 89.1529, s1.loss_bbox: 0.1584, s2.loss_cls: 0.0827, s2.acc: 90.4444, s2.loss_bbox: 0.0777, loss: 1.2258, grad_norm: 2.6156\n",
      "2021-05-13 08:11:10,209 - mmdet - INFO - Epoch [3][400/655]\tlr: 2.000e-02, eta: 0:51:43, time: 0.513, data_time: 0.007, memory: 2528, loss_rpn_cls: 0.1036, loss_rpn_bbox: 0.0456, s0.loss_cls: 0.3892, s0.acc: 89.1826, s0.loss_bbox: 0.1828, s1.loss_cls: 0.1801, s1.acc: 89.7890, s1.loss_bbox: 0.1518, s2.loss_cls: 0.0775, s2.acc: 91.2332, s2.loss_bbox: 0.0726, loss: 1.2033, grad_norm: 2.8611\n",
      "2021-05-13 08:11:35,117 - mmdet - INFO - Epoch [3][450/655]\tlr: 2.000e-02, eta: 0:51:17, time: 0.498, data_time: 0.007, memory: 2528, loss_rpn_cls: 0.0952, loss_rpn_bbox: 0.0499, s0.loss_cls: 0.3813, s0.acc: 89.2930, s0.loss_bbox: 0.1773, s1.loss_cls: 0.1806, s1.acc: 89.7498, s1.loss_bbox: 0.1504, s2.loss_cls: 0.0801, s2.acc: 90.9312, s2.loss_bbox: 0.0746, loss: 1.1894, grad_norm: 2.5745\n",
      "2021-05-13 08:12:00,139 - mmdet - INFO - Epoch [3][500/655]\tlr: 2.000e-02, eta: 0:50:51, time: 0.500, data_time: 0.007, memory: 2528, loss_rpn_cls: 0.1044, loss_rpn_bbox: 0.0524, s0.loss_cls: 0.3865, s0.acc: 89.1084, s0.loss_bbox: 0.1842, s1.loss_cls: 0.1805, s1.acc: 89.8620, s1.loss_bbox: 0.1534, s2.loss_cls: 0.0804, s2.acc: 90.8118, s2.loss_bbox: 0.0740, loss: 1.2158, grad_norm: 2.5741\n",
      "2021-05-13 08:12:25,461 - mmdet - INFO - Epoch [3][550/655]\tlr: 2.000e-02, eta: 0:50:26, time: 0.506, data_time: 0.007, memory: 2528, loss_rpn_cls: 0.0967, loss_rpn_bbox: 0.0400, s0.loss_cls: 0.3696, s0.acc: 89.3105, s0.loss_bbox: 0.1765, s1.loss_cls: 0.1742, s1.acc: 89.8446, s1.loss_bbox: 0.1521, s2.loss_cls: 0.0784, s2.acc: 91.0072, s2.loss_bbox: 0.0782, loss: 1.1657, grad_norm: 2.7116\n",
      "2021-05-13 08:12:50,781 - mmdet - INFO - Epoch [3][600/655]\tlr: 2.000e-02, eta: 0:50:01, time: 0.506, data_time: 0.006, memory: 2528, loss_rpn_cls: 0.0827, loss_rpn_bbox: 0.0425, s0.loss_cls: 0.3531, s0.acc: 89.9971, s0.loss_bbox: 0.1666, s1.loss_cls: 0.1650, s1.acc: 90.5155, s1.loss_bbox: 0.1379, s2.loss_cls: 0.0745, s2.acc: 91.5015, s2.loss_bbox: 0.0699, loss: 1.0921, grad_norm: 2.5968\n",
      "2021-05-13 08:13:15,862 - mmdet - INFO - Epoch [3][650/655]\tlr: 2.000e-02, eta: 0:49:35, time: 0.502, data_time: 0.007, memory: 2528, loss_rpn_cls: 0.0969, loss_rpn_bbox: 0.0484, s0.loss_cls: 0.4098, s0.acc: 88.7910, s0.loss_bbox: 0.1845, s1.loss_cls: 0.1927, s1.acc: 89.2424, s1.loss_bbox: 0.1534, s2.loss_cls: 0.0844, s2.acc: 90.5705, s2.loss_bbox: 0.0748, loss: 1.2449, grad_norm: 2.6269\n",
      "2021-05-13 08:13:18,374 - mmdet - INFO - Saving checkpoint at 3 epochs\n"
     ]
    },
    {
     "name": "stdout",
     "output_type": "stream",
     "text": [
      "[>>>>>>>>>>>>>>>>>>>>>>>>>>>>>] 655/655, 14.2 task/s, elapsed: 46s, ETA:     0s"
     ]
    },
    {
     "name": "stderr",
     "output_type": "stream",
     "text": [
      "2021-05-13 08:14:06,515 - mmdet - INFO - Evaluating bbox...\n"
     ]
    },
    {
     "name": "stdout",
     "output_type": "stream",
     "text": [
      "Loading and preparing results...\n",
      "DONE (t=0.58s)\n",
      "creating index...\n",
      "index created!\n",
      "Running per image evaluation...\n",
      "Evaluate annotation type *bbox*\n",
      "DONE (t=5.72s).\n",
      "Accumulating evaluation results...\n"
     ]
    },
    {
     "name": "stderr",
     "output_type": "stream",
     "text": [
      "2021-05-13 08:14:13,819 - mmdet - INFO - Epoch(val) [3][655]\tbbox_mAP: 0.0880, bbox_mAP_50: 0.1530, bbox_mAP_75: 0.0880, bbox_mAP_s: 0.0200, bbox_mAP_m: 0.0860, bbox_mAP_l: 0.1690, bbox_mAP_copypaste: 0.088 0.153 0.088 0.020 0.086 0.169\n"
     ]
    },
    {
     "name": "stdout",
     "output_type": "stream",
     "text": [
      "DONE (t=0.92s).\n",
      "Average Precision  (AP) @[ IoU=0.50:0.95 | area=   all | maxDets=100 ] = 0.088\n",
      "Average Precision  (AP) @[ IoU=0.50      | area=   all | maxDets=1000 ] = 0.153\n",
      "Average Precision  (AP) @[ IoU=0.75      | area=   all | maxDets=1000 ] = 0.088\n",
      "Average Precision  (AP) @[ IoU=0.50:0.95 | area= small | maxDets=1000 ] = 0.020\n",
      "Average Precision  (AP) @[ IoU=0.50:0.95 | area=medium | maxDets=1000 ] = 0.086\n",
      "Average Precision  (AP) @[ IoU=0.50:0.95 | area= large | maxDets=1000 ] = 0.169\n",
      "Average Recall     (AR) @[ IoU=0.50:0.95 | area=   all | maxDets=100 ] = 0.219\n",
      "Average Recall     (AR) @[ IoU=0.50:0.95 | area=   all | maxDets=300 ] = 0.219\n",
      "Average Recall     (AR) @[ IoU=0.50:0.95 | area=   all | maxDets=1000 ] = 0.219\n",
      "Average Recall     (AR) @[ IoU=0.50:0.95 | area= small | maxDets=1000 ] = 0.058\n",
      "Average Recall     (AR) @[ IoU=0.50:0.95 | area=medium | maxDets=1000 ] = 0.205\n",
      "Average Recall     (AR) @[ IoU=0.50:0.95 | area= large | maxDets=1000 ] = 0.415\n"
     ]
    },
    {
     "name": "stderr",
     "output_type": "stream",
     "text": [
      "2021-05-13 08:14:40,983 - mmdet - INFO - Epoch [4][50/655]\tlr: 2.000e-02, eta: 0:49:06, time: 0.543, data_time: 0.054, memory: 2528, loss_rpn_cls: 0.0857, loss_rpn_bbox: 0.0443, s0.loss_cls: 0.3444, s0.acc: 90.3027, s0.loss_bbox: 0.1594, s1.loss_cls: 0.1609, s1.acc: 90.9420, s1.loss_bbox: 0.1357, s2.loss_cls: 0.0708, s2.acc: 92.0493, s2.loss_bbox: 0.0672, loss: 1.0684, grad_norm: 2.5662\n",
      "2021-05-13 08:15:06,417 - mmdet - INFO - Epoch [4][100/655]\tlr: 2.000e-02, eta: 0:48:41, time: 0.509, data_time: 0.007, memory: 2528, loss_rpn_cls: 0.0738, loss_rpn_bbox: 0.0377, s0.loss_cls: 0.3826, s0.acc: 88.9854, s0.loss_bbox: 0.1666, s1.loss_cls: 0.1824, s1.acc: 89.4175, s1.loss_bbox: 0.1443, s2.loss_cls: 0.0840, s2.acc: 90.2753, s2.loss_bbox: 0.0787, loss: 1.1503, grad_norm: 2.6360\n",
      "2021-05-13 08:15:31,597 - mmdet - INFO - Epoch [4][150/655]\tlr: 2.000e-02, eta: 0:48:16, time: 0.504, data_time: 0.007, memory: 2528, loss_rpn_cls: 0.0704, loss_rpn_bbox: 0.0406, s0.loss_cls: 0.3321, s0.acc: 90.2803, s0.loss_bbox: 0.1559, s1.loss_cls: 0.1593, s1.acc: 90.5598, s1.loss_bbox: 0.1373, s2.loss_cls: 0.0734, s2.acc: 91.2338, s2.loss_bbox: 0.0705, loss: 1.0394, grad_norm: 2.5871\n",
      "2021-05-13 08:15:56,556 - mmdet - INFO - Epoch [4][200/655]\tlr: 2.000e-02, eta: 0:47:50, time: 0.499, data_time: 0.007, memory: 2528, loss_rpn_cls: 0.0940, loss_rpn_bbox: 0.0483, s0.loss_cls: 0.3625, s0.acc: 89.0479, s0.loss_bbox: 0.1812, s1.loss_cls: 0.1737, s1.acc: 89.4017, s1.loss_bbox: 0.1546, s2.loss_cls: 0.0805, s2.acc: 90.2335, s2.loss_bbox: 0.0797, loss: 1.1746, grad_norm: 2.7070\n",
      "2021-05-13 08:16:22,441 - mmdet - INFO - Epoch [4][250/655]\tlr: 2.000e-02, eta: 0:47:27, time: 0.518, data_time: 0.007, memory: 2528, loss_rpn_cls: 0.0937, loss_rpn_bbox: 0.0463, s0.loss_cls: 0.3867, s0.acc: 88.7129, s0.loss_bbox: 0.1819, s1.loss_cls: 0.1799, s1.acc: 89.2294, s1.loss_bbox: 0.1592, s2.loss_cls: 0.0807, s2.acc: 90.2526, s2.loss_bbox: 0.0824, loss: 1.2108, grad_norm: 2.8291\n",
      "2021-05-13 08:16:47,859 - mmdet - INFO - Epoch [4][300/655]\tlr: 2.000e-02, eta: 0:47:02, time: 0.508, data_time: 0.006, memory: 2528, loss_rpn_cls: 0.0846, loss_rpn_bbox: 0.0477, s0.loss_cls: 0.3437, s0.acc: 90.1377, s0.loss_bbox: 0.1562, s1.loss_cls: 0.1627, s1.acc: 90.4944, s1.loss_bbox: 0.1373, s2.loss_cls: 0.0748, s2.acc: 91.1831, s2.loss_bbox: 0.0703, loss: 1.0772, grad_norm: 2.4670\n",
      "2021-05-13 08:17:12,867 - mmdet - INFO - Epoch [4][350/655]\tlr: 2.000e-02, eta: 0:46:36, time: 0.500, data_time: 0.006, memory: 2528, loss_rpn_cls: 0.0784, loss_rpn_bbox: 0.0473, s0.loss_cls: 0.4031, s0.acc: 88.6172, s0.loss_bbox: 0.1735, s1.loss_cls: 0.1907, s1.acc: 89.1115, s1.loss_bbox: 0.1486, s2.loss_cls: 0.0873, s2.acc: 90.1163, s2.loss_bbox: 0.0775, loss: 1.2064, grad_norm: 2.8627\n",
      "2021-05-13 08:17:37,704 - mmdet - INFO - Epoch [4][400/655]\tlr: 2.000e-02, eta: 0:46:10, time: 0.497, data_time: 0.007, memory: 2528, loss_rpn_cls: 0.1017, loss_rpn_bbox: 0.0539, s0.loss_cls: 0.3891, s0.acc: 89.0908, s0.loss_bbox: 0.1798, s1.loss_cls: 0.1778, s1.acc: 89.8598, s1.loss_bbox: 0.1479, s2.loss_cls: 0.0780, s2.acc: 91.1321, s2.loss_bbox: 0.0756, loss: 1.2038, grad_norm: 2.8031\n",
      "2021-05-13 08:18:02,008 - mmdet - INFO - Epoch [4][450/655]\tlr: 2.000e-02, eta: 0:45:43, time: 0.486, data_time: 0.006, memory: 2528, loss_rpn_cls: 0.0876, loss_rpn_bbox: 0.0444, s0.loss_cls: 0.3647, s0.acc: 89.8076, s0.loss_bbox: 0.1637, s1.loss_cls: 0.1719, s1.acc: 90.3321, s1.loss_bbox: 0.1393, s2.loss_cls: 0.0763, s2.acc: 91.4615, s2.loss_bbox: 0.0712, loss: 1.1191, grad_norm: 2.5212\n",
      "2021-05-13 08:18:27,785 - mmdet - INFO - Epoch [4][500/655]\tlr: 2.000e-02, eta: 0:45:19, time: 0.516, data_time: 0.008, memory: 2528, loss_rpn_cls: 0.0690, loss_rpn_bbox: 0.0426, s0.loss_cls: 0.3456, s0.acc: 90.0029, s0.loss_bbox: 0.1660, s1.loss_cls: 0.1630, s1.acc: 90.4053, s1.loss_bbox: 0.1430, s2.loss_cls: 0.0731, s2.acc: 91.4152, s2.loss_bbox: 0.0712, loss: 1.0734, grad_norm: 2.3919\n",
      "2021-05-13 08:18:52,671 - mmdet - INFO - Epoch [4][550/655]\tlr: 2.000e-02, eta: 0:44:53, time: 0.498, data_time: 0.007, memory: 2528, loss_rpn_cls: 0.0799, loss_rpn_bbox: 0.0414, s0.loss_cls: 0.3731, s0.acc: 89.2773, s0.loss_bbox: 0.1666, s1.loss_cls: 0.1773, s1.acc: 89.8315, s1.loss_bbox: 0.1417, s2.loss_cls: 0.0798, s2.acc: 90.7796, s2.loss_bbox: 0.0730, loss: 1.1328, grad_norm: 2.6423\n",
      "2021-05-13 08:19:17,445 - mmdet - INFO - Epoch [4][600/655]\tlr: 2.000e-02, eta: 0:44:27, time: 0.495, data_time: 0.006, memory: 2528, loss_rpn_cls: 0.0792, loss_rpn_bbox: 0.0430, s0.loss_cls: 0.3494, s0.acc: 89.8760, s0.loss_bbox: 0.1654, s1.loss_cls: 0.1607, s1.acc: 90.6770, s1.loss_bbox: 0.1414, s2.loss_cls: 0.0723, s2.acc: 91.6912, s2.loss_bbox: 0.0722, loss: 1.0836, grad_norm: 2.5405\n",
      "2021-05-13 08:19:42,570 - mmdet - INFO - Epoch [4][650/655]\tlr: 2.000e-02, eta: 0:44:02, time: 0.503, data_time: 0.006, memory: 2528, loss_rpn_cls: 0.0846, loss_rpn_bbox: 0.0458, s0.loss_cls: 0.3409, s0.acc: 90.0088, s0.loss_bbox: 0.1700, s1.loss_cls: 0.1590, s1.acc: 90.6597, s1.loss_bbox: 0.1446, s2.loss_cls: 0.0713, s2.acc: 91.5285, s2.loss_bbox: 0.0743, loss: 1.0905, grad_norm: 2.5754\n",
      "2021-05-13 08:19:45,147 - mmdet - INFO - Saving checkpoint at 4 epochs\n"
     ]
    },
    {
     "name": "stdout",
     "output_type": "stream",
     "text": [
      "[>>>>>>>>>>>>>>>>>>>>>>>>>>>>>] 655/655, 13.7 task/s, elapsed: 48s, ETA:     0s"
     ]
    },
    {
     "name": "stderr",
     "output_type": "stream",
     "text": [
      "2021-05-13 08:20:34,775 - mmdet - INFO - Evaluating bbox...\n"
     ]
    },
    {
     "name": "stdout",
     "output_type": "stream",
     "text": [
      "Loading and preparing results...\n",
      "DONE (t=0.10s)\n",
      "creating index...\n",
      "index created!\n",
      "Running per image evaluation...\n",
      "Evaluate annotation type *bbox*\n",
      "DONE (t=5.15s).\n",
      "Accumulating evaluation results...\n"
     ]
    },
    {
     "name": "stderr",
     "output_type": "stream",
     "text": [
      "2021-05-13 08:20:40,852 - mmdet - INFO - Epoch(val) [4][655]\tbbox_mAP: 0.0990, bbox_mAP_50: 0.1640, bbox_mAP_75: 0.1020, bbox_mAP_s: 0.0190, bbox_mAP_m: 0.0910, bbox_mAP_l: 0.1890, bbox_mAP_copypaste: 0.099 0.164 0.102 0.019 0.091 0.189\n"
     ]
    },
    {
     "name": "stdout",
     "output_type": "stream",
     "text": [
      "DONE (t=0.75s).\n",
      "Average Precision  (AP) @[ IoU=0.50:0.95 | area=   all | maxDets=100 ] = 0.099\n",
      "Average Precision  (AP) @[ IoU=0.50      | area=   all | maxDets=1000 ] = 0.164\n",
      "Average Precision  (AP) @[ IoU=0.75      | area=   all | maxDets=1000 ] = 0.102\n",
      "Average Precision  (AP) @[ IoU=0.50:0.95 | area= small | maxDets=1000 ] = 0.019\n",
      "Average Precision  (AP) @[ IoU=0.50:0.95 | area=medium | maxDets=1000 ] = 0.091\n",
      "Average Precision  (AP) @[ IoU=0.50:0.95 | area= large | maxDets=1000 ] = 0.189\n",
      "Average Recall     (AR) @[ IoU=0.50:0.95 | area=   all | maxDets=100 ] = 0.199\n",
      "Average Recall     (AR) @[ IoU=0.50:0.95 | area=   all | maxDets=300 ] = 0.199\n",
      "Average Recall     (AR) @[ IoU=0.50:0.95 | area=   all | maxDets=1000 ] = 0.199\n",
      "Average Recall     (AR) @[ IoU=0.50:0.95 | area= small | maxDets=1000 ] = 0.056\n",
      "Average Recall     (AR) @[ IoU=0.50:0.95 | area=medium | maxDets=1000 ] = 0.177\n",
      "Average Recall     (AR) @[ IoU=0.50:0.95 | area= large | maxDets=1000 ] = 0.370\n"
     ]
    },
    {
     "name": "stderr",
     "output_type": "stream",
     "text": [
      "2021-05-13 08:21:08,185 - mmdet - INFO - Epoch [5][50/655]\tlr: 2.000e-02, eta: 0:43:33, time: 0.546, data_time: 0.050, memory: 2528, loss_rpn_cls: 0.0751, loss_rpn_bbox: 0.0397, s0.loss_cls: 0.3455, s0.acc: 89.7207, s0.loss_bbox: 0.1584, s1.loss_cls: 0.1638, s1.acc: 90.2824, s1.loss_bbox: 0.1410, s2.loss_cls: 0.0750, s2.acc: 90.9072, s2.loss_bbox: 0.0747, loss: 1.0731, grad_norm: 2.7273\n",
      "2021-05-13 08:21:33,421 - mmdet - INFO - Epoch [5][100/655]\tlr: 2.000e-02, eta: 0:43:08, time: 0.505, data_time: 0.006, memory: 2528, loss_rpn_cls: 0.0757, loss_rpn_bbox: 0.0433, s0.loss_cls: 0.3405, s0.acc: 89.7207, s0.loss_bbox: 0.1695, s1.loss_cls: 0.1613, s1.acc: 90.2146, s1.loss_bbox: 0.1488, s2.loss_cls: 0.0735, s2.acc: 90.8809, s2.loss_bbox: 0.0789, loss: 1.0916, grad_norm: 2.6722\n",
      "2021-05-13 08:21:58,617 - mmdet - INFO - Epoch [5][150/655]\tlr: 2.000e-02, eta: 0:42:43, time: 0.504, data_time: 0.006, memory: 2528, loss_rpn_cls: 0.0756, loss_rpn_bbox: 0.0392, s0.loss_cls: 0.3676, s0.acc: 89.3584, s0.loss_bbox: 0.1695, s1.loss_cls: 0.1779, s1.acc: 89.5713, s1.loss_bbox: 0.1550, s2.loss_cls: 0.0807, s2.acc: 90.6418, s2.loss_bbox: 0.0790, loss: 1.1444, grad_norm: 2.8972\n",
      "2021-05-13 08:22:23,651 - mmdet - INFO - Epoch [5][200/655]\tlr: 2.000e-02, eta: 0:42:17, time: 0.501, data_time: 0.007, memory: 2528, loss_rpn_cls: 0.0871, loss_rpn_bbox: 0.0501, s0.loss_cls: 0.3704, s0.acc: 89.2637, s0.loss_bbox: 0.1663, s1.loss_cls: 0.1724, s1.acc: 90.1586, s1.loss_bbox: 0.1448, s2.loss_cls: 0.0793, s2.acc: 90.7520, s2.loss_bbox: 0.0777, loss: 1.1480, grad_norm: 2.7146\n",
      "2021-05-13 08:22:48,118 - mmdet - INFO - Epoch [5][250/655]\tlr: 2.000e-02, eta: 0:41:51, time: 0.489, data_time: 0.006, memory: 2528, loss_rpn_cls: 0.0796, loss_rpn_bbox: 0.0432, s0.loss_cls: 0.3195, s0.acc: 90.5459, s0.loss_bbox: 0.1465, s1.loss_cls: 0.1507, s1.acc: 91.0535, s1.loss_bbox: 0.1271, s2.loss_cls: 0.0699, s2.acc: 91.7333, s2.loss_bbox: 0.0691, loss: 1.0055, grad_norm: 2.7065\n",
      "2021-05-13 08:23:12,943 - mmdet - INFO - Epoch [5][300/655]\tlr: 2.000e-02, eta: 0:41:25, time: 0.497, data_time: 0.006, memory: 2528, loss_rpn_cls: 0.0872, loss_rpn_bbox: 0.0453, s0.loss_cls: 0.3663, s0.acc: 89.3193, s0.loss_bbox: 0.1635, s1.loss_cls: 0.1770, s1.acc: 89.6199, s1.loss_bbox: 0.1430, s2.loss_cls: 0.0816, s2.acc: 90.4088, s2.loss_bbox: 0.0752, loss: 1.1393, grad_norm: 2.7183\n",
      "2021-05-13 08:23:37,544 - mmdet - INFO - Epoch [5][350/655]\tlr: 2.000e-02, eta: 0:40:59, time: 0.492, data_time: 0.006, memory: 2528, loss_rpn_cls: 0.0802, loss_rpn_bbox: 0.0488, s0.loss_cls: 0.3625, s0.acc: 89.3613, s0.loss_bbox: 0.1710, s1.loss_cls: 0.1702, s1.acc: 89.8030, s1.loss_bbox: 0.1466, s2.loss_cls: 0.0771, s2.acc: 90.8592, s2.loss_bbox: 0.0760, loss: 1.1323, grad_norm: 2.6573\n",
      "2021-05-13 08:24:02,179 - mmdet - INFO - Epoch [5][400/655]\tlr: 2.000e-02, eta: 0:40:33, time: 0.493, data_time: 0.006, memory: 2528, loss_rpn_cls: 0.0751, loss_rpn_bbox: 0.0481, s0.loss_cls: 0.3477, s0.acc: 89.7305, s0.loss_bbox: 0.1668, s1.loss_cls: 0.1646, s1.acc: 90.3921, s1.loss_bbox: 0.1441, s2.loss_cls: 0.0770, s2.acc: 90.9511, s2.loss_bbox: 0.0775, loss: 1.1008, grad_norm: 2.6252\n",
      "2021-05-13 08:24:27,276 - mmdet - INFO - Epoch [5][450/655]\tlr: 2.000e-02, eta: 0:40:08, time: 0.502, data_time: 0.007, memory: 2528, loss_rpn_cls: 0.0751, loss_rpn_bbox: 0.0405, s0.loss_cls: 0.3325, s0.acc: 90.2070, s0.loss_bbox: 0.1613, s1.loss_cls: 0.1565, s1.acc: 90.5613, s1.loss_bbox: 0.1370, s2.loss_cls: 0.0720, s2.acc: 91.4191, s2.loss_bbox: 0.0693, loss: 1.0443, grad_norm: 2.6917\n",
      "2021-05-13 08:24:52,338 - mmdet - INFO - Epoch [5][500/655]\tlr: 2.000e-02, eta: 0:39:43, time: 0.501, data_time: 0.006, memory: 2528, loss_rpn_cls: 0.0690, loss_rpn_bbox: 0.0351, s0.loss_cls: 0.3110, s0.acc: 91.0918, s0.loss_bbox: 0.1432, s1.loss_cls: 0.1471, s1.acc: 91.5442, s1.loss_bbox: 0.1236, s2.loss_cls: 0.0668, s2.acc: 92.1348, s2.loss_bbox: 0.0655, loss: 0.9611, grad_norm: 2.6429\n",
      "2021-05-13 08:25:18,007 - mmdet - INFO - Epoch [5][550/655]\tlr: 2.000e-02, eta: 0:39:18, time: 0.513, data_time: 0.007, memory: 2528, loss_rpn_cls: 0.0806, loss_rpn_bbox: 0.0458, s0.loss_cls: 0.3676, s0.acc: 89.3486, s0.loss_bbox: 0.1571, s1.loss_cls: 0.1781, s1.acc: 89.4811, s1.loss_bbox: 0.1328, s2.loss_cls: 0.0827, s2.acc: 90.1528, s2.loss_bbox: 0.0713, loss: 1.1159, grad_norm: 2.6478\n",
      "2021-05-13 08:25:43,282 - mmdet - INFO - Epoch [5][600/655]\tlr: 2.000e-02, eta: 0:38:53, time: 0.506, data_time: 0.007, memory: 2528, loss_rpn_cls: 0.0679, loss_rpn_bbox: 0.0377, s0.loss_cls: 0.3220, s0.acc: 90.5205, s0.loss_bbox: 0.1515, s1.loss_cls: 0.1570, s1.acc: 90.7465, s1.loss_bbox: 0.1347, s2.loss_cls: 0.0729, s2.acc: 91.5119, s2.loss_bbox: 0.0739, loss: 1.0174, grad_norm: 2.6493\n",
      "2021-05-13 08:26:08,122 - mmdet - INFO - Epoch [5][650/655]\tlr: 2.000e-02, eta: 0:38:28, time: 0.497, data_time: 0.006, memory: 2528, loss_rpn_cls: 0.0702, loss_rpn_bbox: 0.0409, s0.loss_cls: 0.3554, s0.acc: 89.8359, s0.loss_bbox: 0.1572, s1.loss_cls: 0.1721, s1.acc: 90.2309, s1.loss_bbox: 0.1422, s2.loss_cls: 0.0804, s2.acc: 90.6810, s2.loss_bbox: 0.0752, loss: 1.0937, grad_norm: 2.7336\n",
      "2021-05-13 08:26:10,722 - mmdet - INFO - Saving checkpoint at 5 epochs\n"
     ]
    },
    {
     "name": "stdout",
     "output_type": "stream",
     "text": [
      "[>>>>>>>>>>>>>>>>>>>>>>>>>>>>>] 655/655, 13.9 task/s, elapsed: 47s, ETA:     0s"
     ]
    },
    {
     "name": "stderr",
     "output_type": "stream",
     "text": [
      "2021-05-13 08:27:02,092 - mmdet - INFO - Evaluating bbox...\n"
     ]
    },
    {
     "name": "stdout",
     "output_type": "stream",
     "text": [
      "Loading and preparing results...\n",
      "DONE (t=0.14s)\n",
      "creating index...\n",
      "index created!\n",
      "Running per image evaluation...\n",
      "Evaluate annotation type *bbox*\n",
      "DONE (t=6.17s).\n",
      "Accumulating evaluation results...\n"
     ]
    },
    {
     "name": "stderr",
     "output_type": "stream",
     "text": [
      "2021-05-13 08:27:09,533 - mmdet - INFO - Epoch(val) [5][655]\tbbox_mAP: 0.1040, bbox_mAP_50: 0.1710, bbox_mAP_75: 0.1070, bbox_mAP_s: 0.0190, bbox_mAP_m: 0.1080, bbox_mAP_l: 0.2020, bbox_mAP_copypaste: 0.104 0.171 0.107 0.019 0.108 0.202\n"
     ]
    },
    {
     "name": "stdout",
     "output_type": "stream",
     "text": [
      "DONE (t=1.04s).\n",
      "Average Precision  (AP) @[ IoU=0.50:0.95 | area=   all | maxDets=100 ] = 0.104\n",
      "Average Precision  (AP) @[ IoU=0.50      | area=   all | maxDets=1000 ] = 0.171\n",
      "Average Precision  (AP) @[ IoU=0.75      | area=   all | maxDets=1000 ] = 0.107\n",
      "Average Precision  (AP) @[ IoU=0.50:0.95 | area= small | maxDets=1000 ] = 0.019\n",
      "Average Precision  (AP) @[ IoU=0.50:0.95 | area=medium | maxDets=1000 ] = 0.108\n",
      "Average Precision  (AP) @[ IoU=0.50:0.95 | area= large | maxDets=1000 ] = 0.202\n",
      "Average Recall     (AR) @[ IoU=0.50:0.95 | area=   all | maxDets=100 ] = 0.225\n",
      "Average Recall     (AR) @[ IoU=0.50:0.95 | area=   all | maxDets=300 ] = 0.225\n",
      "Average Recall     (AR) @[ IoU=0.50:0.95 | area=   all | maxDets=1000 ] = 0.225\n",
      "Average Recall     (AR) @[ IoU=0.50:0.95 | area= small | maxDets=1000 ] = 0.053\n",
      "Average Recall     (AR) @[ IoU=0.50:0.95 | area=medium | maxDets=1000 ] = 0.216\n",
      "Average Recall     (AR) @[ IoU=0.50:0.95 | area= large | maxDets=1000 ] = 0.427\n"
     ]
    },
    {
     "name": "stderr",
     "output_type": "stream",
     "text": [
      "2021-05-13 08:27:36,731 - mmdet - INFO - Epoch [6][50/655]\tlr: 2.000e-02, eta: 0:38:00, time: 0.544, data_time: 0.052, memory: 2528, loss_rpn_cls: 0.0747, loss_rpn_bbox: 0.0434, s0.loss_cls: 0.3363, s0.acc: 89.9326, s0.loss_bbox: 0.1603, s1.loss_cls: 0.1560, s1.acc: 90.6930, s1.loss_bbox: 0.1413, s2.loss_cls: 0.0707, s2.acc: 91.7187, s2.loss_bbox: 0.0742, loss: 1.0569, grad_norm: 2.6874\n",
      "2021-05-13 08:28:01,699 - mmdet - INFO - Epoch [6][100/655]\tlr: 2.000e-02, eta: 0:37:34, time: 0.499, data_time: 0.007, memory: 2528, loss_rpn_cls: 0.0733, loss_rpn_bbox: 0.0400, s0.loss_cls: 0.3350, s0.acc: 90.0391, s0.loss_bbox: 0.1505, s1.loss_cls: 0.1593, s1.acc: 90.6174, s1.loss_bbox: 0.1328, s2.loss_cls: 0.0739, s2.acc: 91.2836, s2.loss_bbox: 0.0725, loss: 1.0373, grad_norm: 2.8436\n",
      "2021-05-13 08:28:27,014 - mmdet - INFO - Epoch [6][150/655]\tlr: 2.000e-02, eta: 0:37:09, time: 0.506, data_time: 0.007, memory: 2528, loss_rpn_cls: 0.0674, loss_rpn_bbox: 0.0406, s0.loss_cls: 0.3508, s0.acc: 89.6562, s0.loss_bbox: 0.1534, s1.loss_cls: 0.1656, s1.acc: 90.0029, s1.loss_bbox: 0.1353, s2.loss_cls: 0.0763, s2.acc: 90.8244, s2.loss_bbox: 0.0752, loss: 1.0646, grad_norm: 2.9043\n",
      "2021-05-13 08:28:52,809 - mmdet - INFO - Epoch [6][200/655]\tlr: 2.000e-02, eta: 0:36:45, time: 0.516, data_time: 0.007, memory: 2528, loss_rpn_cls: 0.0830, loss_rpn_bbox: 0.0509, s0.loss_cls: 0.3481, s0.acc: 89.4766, s0.loss_bbox: 0.1659, s1.loss_cls: 0.1643, s1.acc: 90.0453, s1.loss_bbox: 0.1438, s2.loss_cls: 0.0764, s2.acc: 90.7124, s2.loss_bbox: 0.0768, loss: 1.1093, grad_norm: 2.8331\n",
      "2021-05-13 08:29:18,400 - mmdet - INFO - Epoch [6][250/655]\tlr: 2.000e-02, eta: 0:36:20, time: 0.512, data_time: 0.008, memory: 2528, loss_rpn_cls: 0.0697, loss_rpn_bbox: 0.0416, s0.loss_cls: 0.3174, s0.acc: 90.5947, s0.loss_bbox: 0.1481, s1.loss_cls: 0.1481, s1.acc: 91.0961, s1.loss_bbox: 0.1321, s2.loss_cls: 0.0693, s2.acc: 91.8650, s2.loss_bbox: 0.0715, loss: 0.9978, grad_norm: 2.7725\n",
      "2021-05-13 08:29:43,707 - mmdet - INFO - Epoch [6][300/655]\tlr: 2.000e-02, eta: 0:35:55, time: 0.506, data_time: 0.007, memory: 2528, loss_rpn_cls: 0.0654, loss_rpn_bbox: 0.0383, s0.loss_cls: 0.3255, s0.acc: 90.3252, s0.loss_bbox: 0.1441, s1.loss_cls: 0.1556, s1.acc: 90.7705, s1.loss_bbox: 0.1289, s2.loss_cls: 0.0734, s2.acc: 91.1980, s2.loss_bbox: 0.0699, loss: 1.0011, grad_norm: 2.5762\n",
      "2021-05-13 08:30:09,007 - mmdet - INFO - Epoch [6][350/655]\tlr: 2.000e-02, eta: 0:35:30, time: 0.506, data_time: 0.007, memory: 2528, loss_rpn_cls: 0.0670, loss_rpn_bbox: 0.0397, s0.loss_cls: 0.3183, s0.acc: 90.5391, s0.loss_bbox: 0.1486, s1.loss_cls: 0.1524, s1.acc: 90.8369, s1.loss_bbox: 0.1326, s2.loss_cls: 0.0698, s2.acc: 91.6692, s2.loss_bbox: 0.0682, loss: 0.9966, grad_norm: 2.6553\n",
      "2021-05-13 08:30:35,051 - mmdet - INFO - Epoch [6][400/655]\tlr: 2.000e-02, eta: 0:35:06, time: 0.521, data_time: 0.007, memory: 2528, loss_rpn_cls: 0.0683, loss_rpn_bbox: 0.0446, s0.loss_cls: 0.3293, s0.acc: 90.0518, s0.loss_bbox: 0.1534, s1.loss_cls: 0.1589, s1.acc: 90.2540, s1.loss_bbox: 0.1376, s2.loss_cls: 0.0745, s2.acc: 90.7865, s2.loss_bbox: 0.0733, loss: 1.0399, grad_norm: 2.7292\n",
      "2021-05-13 08:30:59,739 - mmdet - INFO - Epoch [6][450/655]\tlr: 2.000e-02, eta: 0:34:41, time: 0.494, data_time: 0.007, memory: 2528, loss_rpn_cls: 0.0862, loss_rpn_bbox: 0.0444, s0.loss_cls: 0.3534, s0.acc: 89.6885, s0.loss_bbox: 0.1550, s1.loss_cls: 0.1680, s1.acc: 90.2775, s1.loss_bbox: 0.1395, s2.loss_cls: 0.0799, s2.acc: 90.6359, s2.loss_bbox: 0.0779, loss: 1.1043, grad_norm: 2.9084\n",
      "2021-05-13 08:31:24,787 - mmdet - INFO - Epoch [6][500/655]\tlr: 2.000e-02, eta: 0:34:15, time: 0.501, data_time: 0.007, memory: 2528, loss_rpn_cls: 0.0786, loss_rpn_bbox: 0.0421, s0.loss_cls: 0.3344, s0.acc: 90.2422, s0.loss_bbox: 0.1522, s1.loss_cls: 0.1557, s1.acc: 90.7280, s1.loss_bbox: 0.1346, s2.loss_cls: 0.0717, s2.acc: 91.5569, s2.loss_bbox: 0.0742, loss: 1.0435, grad_norm: 2.8208\n",
      "2021-05-13 08:31:49,537 - mmdet - INFO - Epoch [6][550/655]\tlr: 2.000e-02, eta: 0:33:50, time: 0.495, data_time: 0.007, memory: 2528, loss_rpn_cls: 0.0754, loss_rpn_bbox: 0.0383, s0.loss_cls: 0.3581, s0.acc: 89.7871, s0.loss_bbox: 0.1554, s1.loss_cls: 0.1685, s1.acc: 90.3599, s1.loss_bbox: 0.1335, s2.loss_cls: 0.0776, s2.acc: 91.0663, s2.loss_bbox: 0.0712, loss: 1.0779, grad_norm: 2.8888\n",
      "2021-05-13 08:32:13,882 - mmdet - INFO - Epoch [6][600/655]\tlr: 2.000e-02, eta: 0:33:24, time: 0.487, data_time: 0.006, memory: 2528, loss_rpn_cls: 0.0763, loss_rpn_bbox: 0.0450, s0.loss_cls: 0.3457, s0.acc: 89.7344, s0.loss_bbox: 0.1576, s1.loss_cls: 0.1653, s1.acc: 90.0004, s1.loss_bbox: 0.1352, s2.loss_cls: 0.0764, s2.acc: 90.8850, s2.loss_bbox: 0.0705, loss: 1.0720, grad_norm: 2.5932\n",
      "2021-05-13 08:32:39,478 - mmdet - INFO - Epoch [6][650/655]\tlr: 2.000e-02, eta: 0:32:59, time: 0.512, data_time: 0.008, memory: 2528, loss_rpn_cls: 0.0702, loss_rpn_bbox: 0.0415, s0.loss_cls: 0.3346, s0.acc: 89.9805, s0.loss_bbox: 0.1575, s1.loss_cls: 0.1603, s1.acc: 90.3867, s1.loss_bbox: 0.1358, s2.loss_cls: 0.0727, s2.acc: 91.3172, s2.loss_bbox: 0.0725, loss: 1.0451, grad_norm: 2.6413\n",
      "2021-05-13 08:32:42,008 - mmdet - INFO - Saving checkpoint at 6 epochs\n"
     ]
    },
    {
     "name": "stdout",
     "output_type": "stream",
     "text": [
      "[>>>>>>>>>>>>>>>>>>>>>>>>>>>>>] 655/655, 14.5 task/s, elapsed: 45s, ETA:     0s"
     ]
    },
    {
     "name": "stderr",
     "output_type": "stream",
     "text": [
      "2021-05-13 08:33:31,684 - mmdet - INFO - Evaluating bbox...\n"
     ]
    },
    {
     "name": "stdout",
     "output_type": "stream",
     "text": [
      "Loading and preparing results...\n",
      "DONE (t=0.64s)\n",
      "creating index...\n",
      "index created!\n",
      "Running per image evaluation...\n",
      "Evaluate annotation type *bbox*\n",
      "DONE (t=5.71s).\n",
      "Accumulating evaluation results...\n"
     ]
    },
    {
     "name": "stderr",
     "output_type": "stream",
     "text": [
      "2021-05-13 08:33:39,242 - mmdet - INFO - Epoch(val) [6][655]\tbbox_mAP: 0.1220, bbox_mAP_50: 0.1980, bbox_mAP_75: 0.1250, bbox_mAP_s: 0.0300, bbox_mAP_m: 0.1130, bbox_mAP_l: 0.2400, bbox_mAP_copypaste: 0.122 0.198 0.125 0.030 0.113 0.240\n"
     ]
    },
    {
     "name": "stdout",
     "output_type": "stream",
     "text": [
      "DONE (t=1.10s).\n",
      "Average Precision  (AP) @[ IoU=0.50:0.95 | area=   all | maxDets=100 ] = 0.122\n",
      "Average Precision  (AP) @[ IoU=0.50      | area=   all | maxDets=1000 ] = 0.198\n",
      "Average Precision  (AP) @[ IoU=0.75      | area=   all | maxDets=1000 ] = 0.125\n",
      "Average Precision  (AP) @[ IoU=0.50:0.95 | area= small | maxDets=1000 ] = 0.030\n",
      "Average Precision  (AP) @[ IoU=0.50:0.95 | area=medium | maxDets=1000 ] = 0.113\n",
      "Average Precision  (AP) @[ IoU=0.50:0.95 | area= large | maxDets=1000 ] = 0.240\n",
      "Average Recall     (AR) @[ IoU=0.50:0.95 | area=   all | maxDets=100 ] = 0.259\n",
      "Average Recall     (AR) @[ IoU=0.50:0.95 | area=   all | maxDets=300 ] = 0.259\n",
      "Average Recall     (AR) @[ IoU=0.50:0.95 | area=   all | maxDets=1000 ] = 0.259\n",
      "Average Recall     (AR) @[ IoU=0.50:0.95 | area= small | maxDets=1000 ] = 0.081\n",
      "Average Recall     (AR) @[ IoU=0.50:0.95 | area=medium | maxDets=1000 ] = 0.260\n",
      "Average Recall     (AR) @[ IoU=0.50:0.95 | area= large | maxDets=1000 ] = 0.452\n"
     ]
    },
    {
     "name": "stderr",
     "output_type": "stream",
     "text": [
      "2021-05-13 08:34:06,836 - mmdet - INFO - Epoch [7][50/655]\tlr: 2.000e-02, eta: 0:32:31, time: 0.552, data_time: 0.051, memory: 2528, loss_rpn_cls: 0.0650, loss_rpn_bbox: 0.0369, s0.loss_cls: 0.3365, s0.acc: 89.9688, s0.loss_bbox: 0.1576, s1.loss_cls: 0.1618, s1.acc: 90.2995, s1.loss_bbox: 0.1359, s2.loss_cls: 0.0763, s2.acc: 90.9380, s2.loss_bbox: 0.0741, loss: 1.0441, grad_norm: 2.8948\n",
      "2021-05-13 08:34:31,702 - mmdet - INFO - Epoch [7][100/655]\tlr: 2.000e-02, eta: 0:32:06, time: 0.497, data_time: 0.007, memory: 2528, loss_rpn_cls: 0.0636, loss_rpn_bbox: 0.0351, s0.loss_cls: 0.3034, s0.acc: 90.9316, s0.loss_bbox: 0.1366, s1.loss_cls: 0.1418, s1.acc: 91.5045, s1.loss_bbox: 0.1224, s2.loss_cls: 0.0662, s2.acc: 92.0958, s2.loss_bbox: 0.0671, loss: 0.9360, grad_norm: 2.7423\n",
      "2021-05-13 08:34:56,481 - mmdet - INFO - Epoch [7][150/655]\tlr: 2.000e-02, eta: 0:31:40, time: 0.496, data_time: 0.007, memory: 2528, loss_rpn_cls: 0.0641, loss_rpn_bbox: 0.0373, s0.loss_cls: 0.2856, s0.acc: 91.6025, s0.loss_bbox: 0.1332, s1.loss_cls: 0.1371, s1.acc: 91.8594, s1.loss_bbox: 0.1208, s2.loss_cls: 0.0643, s2.acc: 92.4425, s2.loss_bbox: 0.0691, loss: 0.9116, grad_norm: 2.5530\n",
      "2021-05-13 08:35:21,354 - mmdet - INFO - Epoch [7][200/655]\tlr: 2.000e-02, eta: 0:31:15, time: 0.497, data_time: 0.007, memory: 2528, loss_rpn_cls: 0.0604, loss_rpn_bbox: 0.0377, s0.loss_cls: 0.2952, s0.acc: 90.7979, s0.loss_bbox: 0.1387, s1.loss_cls: 0.1414, s1.acc: 91.1129, s1.loss_bbox: 0.1217, s2.loss_cls: 0.0671, s2.acc: 91.3520, s2.loss_bbox: 0.0667, loss: 0.9291, grad_norm: 2.6816\n",
      "2021-05-13 08:35:46,936 - mmdet - INFO - Epoch [7][250/655]\tlr: 2.000e-02, eta: 0:30:50, time: 0.512, data_time: 0.007, memory: 2528, loss_rpn_cls: 0.0680, loss_rpn_bbox: 0.0414, s0.loss_cls: 0.3230, s0.acc: 90.4199, s0.loss_bbox: 0.1433, s1.loss_cls: 0.1535, s1.acc: 90.7798, s1.loss_bbox: 0.1258, s2.loss_cls: 0.0720, s2.acc: 91.6326, s2.loss_bbox: 0.0710, loss: 0.9981, grad_norm: 2.8056\n",
      "2021-05-13 08:36:12,343 - mmdet - INFO - Epoch [7][300/655]\tlr: 2.000e-02, eta: 0:30:25, time: 0.508, data_time: 0.007, memory: 2528, loss_rpn_cls: 0.0757, loss_rpn_bbox: 0.0467, s0.loss_cls: 0.3326, s0.acc: 90.0938, s0.loss_bbox: 0.1505, s1.loss_cls: 0.1586, s1.acc: 90.4543, s1.loss_bbox: 0.1326, s2.loss_cls: 0.0760, s2.acc: 91.0042, s2.loss_bbox: 0.0734, loss: 1.0461, grad_norm: 2.9863\n",
      "2021-05-13 08:36:37,978 - mmdet - INFO - Epoch [7][350/655]\tlr: 2.000e-02, eta: 0:30:01, time: 0.513, data_time: 0.007, memory: 2528, loss_rpn_cls: 0.0663, loss_rpn_bbox: 0.0384, s0.loss_cls: 0.3003, s0.acc: 91.2363, s0.loss_bbox: 0.1370, s1.loss_cls: 0.1387, s1.acc: 91.8586, s1.loss_bbox: 0.1203, s2.loss_cls: 0.0653, s2.acc: 92.3715, s2.loss_bbox: 0.0662, loss: 0.9325, grad_norm: 2.6610\n",
      "2021-05-13 08:37:02,920 - mmdet - INFO - Epoch [7][400/655]\tlr: 2.000e-02, eta: 0:29:35, time: 0.499, data_time: 0.007, memory: 2528, loss_rpn_cls: 0.0754, loss_rpn_bbox: 0.0475, s0.loss_cls: 0.3412, s0.acc: 89.6152, s0.loss_bbox: 0.1643, s1.loss_cls: 0.1600, s1.acc: 90.2757, s1.loss_bbox: 0.1393, s2.loss_cls: 0.0751, s2.acc: 90.9437, s2.loss_bbox: 0.0738, loss: 1.0765, grad_norm: 2.7209\n",
      "2021-05-13 08:37:27,470 - mmdet - INFO - Epoch [7][450/655]\tlr: 2.000e-02, eta: 0:29:10, time: 0.491, data_time: 0.007, memory: 2528, loss_rpn_cls: 0.0615, loss_rpn_bbox: 0.0362, s0.loss_cls: 0.3138, s0.acc: 90.6172, s0.loss_bbox: 0.1375, s1.loss_cls: 0.1483, s1.acc: 91.1264, s1.loss_bbox: 0.1267, s2.loss_cls: 0.0698, s2.acc: 91.6396, s2.loss_bbox: 0.0698, loss: 0.9637, grad_norm: 2.6793\n",
      "2021-05-13 08:37:52,247 - mmdet - INFO - Epoch [7][500/655]\tlr: 2.000e-02, eta: 0:28:44, time: 0.496, data_time: 0.007, memory: 2528, loss_rpn_cls: 0.0750, loss_rpn_bbox: 0.0446, s0.loss_cls: 0.3355, s0.acc: 89.9160, s0.loss_bbox: 0.1548, s1.loss_cls: 0.1575, s1.acc: 90.4195, s1.loss_bbox: 0.1388, s2.loss_cls: 0.0744, s2.acc: 90.8104, s2.loss_bbox: 0.0772, loss: 1.0578, grad_norm: 2.9429\n",
      "2021-05-13 08:38:16,961 - mmdet - INFO - Epoch [7][550/655]\tlr: 2.000e-02, eta: 0:28:19, time: 0.494, data_time: 0.007, memory: 2528, loss_rpn_cls: 0.0672, loss_rpn_bbox: 0.0400, s0.loss_cls: 0.3272, s0.acc: 90.2627, s0.loss_bbox: 0.1475, s1.loss_cls: 0.1562, s1.acc: 90.6926, s1.loss_bbox: 0.1303, s2.loss_cls: 0.0738, s2.acc: 91.2088, s2.loss_bbox: 0.0728, loss: 1.0151, grad_norm: 2.8477\n",
      "2021-05-13 08:38:42,190 - mmdet - INFO - Epoch [7][600/655]\tlr: 2.000e-02, eta: 0:27:54, time: 0.505, data_time: 0.007, memory: 2528, loss_rpn_cls: 0.0782, loss_rpn_bbox: 0.0375, s0.loss_cls: 0.3290, s0.acc: 90.3584, s0.loss_bbox: 0.1442, s1.loss_cls: 0.1540, s1.acc: 90.8790, s1.loss_bbox: 0.1272, s2.loss_cls: 0.0723, s2.acc: 91.3852, s2.loss_bbox: 0.0707, loss: 1.0132, grad_norm: 2.7976\n",
      "2021-05-13 08:39:06,725 - mmdet - INFO - Epoch [7][650/655]\tlr: 2.000e-02, eta: 0:27:28, time: 0.491, data_time: 0.007, memory: 2528, loss_rpn_cls: 0.0702, loss_rpn_bbox: 0.0515, s0.loss_cls: 0.3632, s0.acc: 89.2227, s0.loss_bbox: 0.1706, s1.loss_cls: 0.1716, s1.acc: 89.7224, s1.loss_bbox: 0.1477, s2.loss_cls: 0.0787, s2.acc: 90.6469, s2.loss_bbox: 0.0765, loss: 1.1300, grad_norm: 2.8509\n",
      "2021-05-13 08:39:09,296 - mmdet - INFO - Saving checkpoint at 7 epochs\n"
     ]
    },
    {
     "name": "stdout",
     "output_type": "stream",
     "text": [
      "[>>>>>>>>>>>>>>>>>>>>>>>>>>>>>] 655/655, 14.2 task/s, elapsed: 46s, ETA:     0s"
     ]
    },
    {
     "name": "stderr",
     "output_type": "stream",
     "text": [
      "2021-05-13 08:39:57,902 - mmdet - INFO - Evaluating bbox...\n"
     ]
    },
    {
     "name": "stdout",
     "output_type": "stream",
     "text": [
      "Loading and preparing results...\n",
      "DONE (t=0.09s)\n",
      "creating index...\n",
      "index created!\n",
      "Running per image evaluation...\n",
      "Evaluate annotation type *bbox*\n",
      "DONE (t=5.16s).\n",
      "Accumulating evaluation results...\n"
     ]
    },
    {
     "name": "stderr",
     "output_type": "stream",
     "text": [
      "2021-05-13 08:40:03,988 - mmdet - INFO - Epoch(val) [7][655]\tbbox_mAP: 0.1210, bbox_mAP_50: 0.1950, bbox_mAP_75: 0.1270, bbox_mAP_s: 0.0200, bbox_mAP_m: 0.1040, bbox_mAP_l: 0.2500, bbox_mAP_copypaste: 0.121 0.195 0.127 0.020 0.104 0.250\n"
     ]
    },
    {
     "name": "stdout",
     "output_type": "stream",
     "text": [
      "DONE (t=0.76s).\n",
      "Average Precision  (AP) @[ IoU=0.50:0.95 | area=   all | maxDets=100 ] = 0.121\n",
      "Average Precision  (AP) @[ IoU=0.50      | area=   all | maxDets=1000 ] = 0.195\n",
      "Average Precision  (AP) @[ IoU=0.75      | area=   all | maxDets=1000 ] = 0.127\n",
      "Average Precision  (AP) @[ IoU=0.50:0.95 | area= small | maxDets=1000 ] = 0.020\n",
      "Average Precision  (AP) @[ IoU=0.50:0.95 | area=medium | maxDets=1000 ] = 0.104\n",
      "Average Precision  (AP) @[ IoU=0.50:0.95 | area= large | maxDets=1000 ] = 0.250\n",
      "Average Recall     (AR) @[ IoU=0.50:0.95 | area=   all | maxDets=100 ] = 0.227\n",
      "Average Recall     (AR) @[ IoU=0.50:0.95 | area=   all | maxDets=300 ] = 0.227\n",
      "Average Recall     (AR) @[ IoU=0.50:0.95 | area=   all | maxDets=1000 ] = 0.227\n",
      "Average Recall     (AR) @[ IoU=0.50:0.95 | area= small | maxDets=1000 ] = 0.061\n",
      "Average Recall     (AR) @[ IoU=0.50:0.95 | area=medium | maxDets=1000 ] = 0.186\n",
      "Average Recall     (AR) @[ IoU=0.50:0.95 | area= large | maxDets=1000 ] = 0.446\n"
     ]
    },
    {
     "name": "stderr",
     "output_type": "stream",
     "text": [
      "2021-05-13 08:40:31,683 - mmdet - INFO - Epoch [8][50/655]\tlr: 2.000e-02, eta: 0:27:00, time: 0.554, data_time: 0.052, memory: 2528, loss_rpn_cls: 0.0582, loss_rpn_bbox: 0.0413, s0.loss_cls: 0.3219, s0.acc: 90.1943, s0.loss_bbox: 0.1489, s1.loss_cls: 0.1516, s1.acc: 90.7035, s1.loss_bbox: 0.1344, s2.loss_cls: 0.0718, s2.acc: 91.1068, s2.loss_bbox: 0.0738, loss: 1.0020, grad_norm: 2.7497\n",
      "2021-05-13 08:40:56,399 - mmdet - INFO - Epoch [8][100/655]\tlr: 2.000e-02, eta: 0:26:35, time: 0.494, data_time: 0.007, memory: 2528, loss_rpn_cls: 0.0572, loss_rpn_bbox: 0.0377, s0.loss_cls: 0.2907, s0.acc: 90.9209, s0.loss_bbox: 0.1429, s1.loss_cls: 0.1344, s1.acc: 91.5973, s1.loss_bbox: 0.1279, s2.loss_cls: 0.0629, s2.acc: 92.2087, s2.loss_bbox: 0.0712, loss: 0.9250, grad_norm: 2.6981\n",
      "2021-05-13 08:41:21,572 - mmdet - INFO - Epoch [8][150/655]\tlr: 2.000e-02, eta: 0:26:10, time: 0.503, data_time: 0.007, memory: 2528, loss_rpn_cls: 0.0563, loss_rpn_bbox: 0.0372, s0.loss_cls: 0.3051, s0.acc: 90.8662, s0.loss_bbox: 0.1355, s1.loss_cls: 0.1436, s1.acc: 91.4132, s1.loss_bbox: 0.1196, s2.loss_cls: 0.0690, s2.acc: 91.9370, s2.loss_bbox: 0.0710, loss: 0.9373, grad_norm: 2.7801\n",
      "2021-05-13 08:41:47,290 - mmdet - INFO - Epoch [8][200/655]\tlr: 2.000e-02, eta: 0:25:45, time: 0.514, data_time: 0.008, memory: 2528, loss_rpn_cls: 0.0549, loss_rpn_bbox: 0.0372, s0.loss_cls: 0.3215, s0.acc: 90.4541, s0.loss_bbox: 0.1412, s1.loss_cls: 0.1550, s1.acc: 91.0570, s1.loss_bbox: 0.1258, s2.loss_cls: 0.0741, s2.acc: 91.4809, s2.loss_bbox: 0.0706, loss: 0.9803, grad_norm: 2.8539\n",
      "2021-05-13 08:42:12,361 - mmdet - INFO - Epoch [8][250/655]\tlr: 2.000e-02, eta: 0:25:20, time: 0.501, data_time: 0.007, memory: 2528, loss_rpn_cls: 0.0586, loss_rpn_bbox: 0.0350, s0.loss_cls: 0.2839, s0.acc: 91.6182, s0.loss_bbox: 0.1269, s1.loss_cls: 0.1344, s1.acc: 92.2478, s1.loss_bbox: 0.1083, s2.loss_cls: 0.0632, s2.acc: 92.7159, s2.loss_bbox: 0.0601, loss: 0.8705, grad_norm: 2.6573\n",
      "2021-05-13 08:42:37,644 - mmdet - INFO - Epoch [8][300/655]\tlr: 2.000e-02, eta: 0:24:55, time: 0.506, data_time: 0.007, memory: 2528, loss_rpn_cls: 0.0574, loss_rpn_bbox: 0.0363, s0.loss_cls: 0.2933, s0.acc: 91.1230, s0.loss_bbox: 0.1350, s1.loss_cls: 0.1392, s1.acc: 91.6213, s1.loss_bbox: 0.1210, s2.loss_cls: 0.0667, s2.acc: 91.7855, s2.loss_bbox: 0.0697, loss: 0.9186, grad_norm: 2.8242\n",
      "2021-05-13 08:43:02,797 - mmdet - INFO - Epoch [8][350/655]\tlr: 2.000e-02, eta: 0:24:30, time: 0.503, data_time: 0.007, memory: 2528, loss_rpn_cls: 0.0699, loss_rpn_bbox: 0.0443, s0.loss_cls: 0.3454, s0.acc: 89.6650, s0.loss_bbox: 0.1660, s1.loss_cls: 0.1613, s1.acc: 90.2986, s1.loss_bbox: 0.1434, s2.loss_cls: 0.0753, s2.acc: 90.9928, s2.loss_bbox: 0.0762, loss: 1.0818, grad_norm: 3.1154\n",
      "2021-05-13 08:43:28,413 - mmdet - INFO - Epoch [8][400/655]\tlr: 2.000e-02, eta: 0:24:05, time: 0.512, data_time: 0.007, memory: 2528, loss_rpn_cls: 0.0572, loss_rpn_bbox: 0.0356, s0.loss_cls: 0.3048, s0.acc: 90.8145, s0.loss_bbox: 0.1357, s1.loss_cls: 0.1434, s1.acc: 91.2299, s1.loss_bbox: 0.1199, s2.loss_cls: 0.0678, s2.acc: 91.6119, s2.loss_bbox: 0.0691, loss: 0.9334, grad_norm: 2.8093\n",
      "2021-05-13 08:43:53,753 - mmdet - INFO - Epoch [8][450/655]\tlr: 2.000e-02, eta: 0:23:40, time: 0.507, data_time: 0.007, memory: 2528, loss_rpn_cls: 0.0700, loss_rpn_bbox: 0.0443, s0.loss_cls: 0.3214, s0.acc: 90.3115, s0.loss_bbox: 0.1482, s1.loss_cls: 0.1507, s1.acc: 91.0833, s1.loss_bbox: 0.1291, s2.loss_cls: 0.0712, s2.acc: 91.5600, s2.loss_bbox: 0.0712, loss: 1.0061, grad_norm: 2.7422\n",
      "2021-05-13 08:44:18,814 - mmdet - INFO - Epoch [8][500/655]\tlr: 2.000e-02, eta: 0:23:15, time: 0.501, data_time: 0.007, memory: 2528, loss_rpn_cls: 0.0695, loss_rpn_bbox: 0.0450, s0.loss_cls: 0.3072, s0.acc: 90.7471, s0.loss_bbox: 0.1365, s1.loss_cls: 0.1473, s1.acc: 91.0867, s1.loss_bbox: 0.1181, s2.loss_cls: 0.0695, s2.acc: 91.6878, s2.loss_bbox: 0.0648, loss: 0.9579, grad_norm: 2.6820\n",
      "2021-05-13 08:44:43,976 - mmdet - INFO - Epoch [8][550/655]\tlr: 2.000e-02, eta: 0:22:50, time: 0.503, data_time: 0.008, memory: 2528, loss_rpn_cls: 0.0617, loss_rpn_bbox: 0.0400, s0.loss_cls: 0.3141, s0.acc: 90.5449, s0.loss_bbox: 0.1466, s1.loss_cls: 0.1476, s1.acc: 91.1186, s1.loss_bbox: 0.1317, s2.loss_cls: 0.0701, s2.acc: 91.6427, s2.loss_bbox: 0.0754, loss: 0.9872, grad_norm: 2.8162\n",
      "2021-05-13 08:45:08,461 - mmdet - INFO - Epoch [8][600/655]\tlr: 2.000e-02, eta: 0:22:24, time: 0.490, data_time: 0.007, memory: 2528, loss_rpn_cls: 0.0809, loss_rpn_bbox: 0.0408, s0.loss_cls: 0.3303, s0.acc: 90.0957, s0.loss_bbox: 0.1487, s1.loss_cls: 0.1602, s1.acc: 90.3658, s1.loss_bbox: 0.1249, s2.loss_cls: 0.0754, s2.acc: 90.9719, s2.loss_bbox: 0.0681, loss: 1.0293, grad_norm: 2.9638\n",
      "2021-05-13 08:45:33,511 - mmdet - INFO - Epoch [8][650/655]\tlr: 2.000e-02, eta: 0:21:59, time: 0.501, data_time: 0.007, memory: 2528, loss_rpn_cls: 0.0653, loss_rpn_bbox: 0.0388, s0.loss_cls: 0.3109, s0.acc: 90.4199, s0.loss_bbox: 0.1471, s1.loss_cls: 0.1478, s1.acc: 90.8898, s1.loss_bbox: 0.1291, s2.loss_cls: 0.0706, s2.acc: 91.4880, s2.loss_bbox: 0.0732, loss: 0.9829, grad_norm: 2.9117\n",
      "2021-05-13 08:45:36,088 - mmdet - INFO - Saving checkpoint at 8 epochs\n"
     ]
    },
    {
     "name": "stdout",
     "output_type": "stream",
     "text": [
      "[>>>>>>>>>>>>>>>>>>>>>>>>>>>>>] 655/655, 13.3 task/s, elapsed: 49s, ETA:     0s"
     ]
    },
    {
     "name": "stderr",
     "output_type": "stream",
     "text": [
      "2021-05-13 08:46:27,073 - mmdet - INFO - Evaluating bbox...\n"
     ]
    },
    {
     "name": "stdout",
     "output_type": "stream",
     "text": [
      "Loading and preparing results...\n",
      "DONE (t=0.55s)\n",
      "creating index...\n",
      "index created!\n",
      "Running per image evaluation...\n",
      "Evaluate annotation type *bbox*\n",
      "DONE (t=5.37s).\n",
      "Accumulating evaluation results...\n"
     ]
    },
    {
     "name": "stderr",
     "output_type": "stream",
     "text": [
      "2021-05-13 08:46:33,938 - mmdet - INFO - Epoch(val) [8][655]\tbbox_mAP: 0.1310, bbox_mAP_50: 0.2160, bbox_mAP_75: 0.1340, bbox_mAP_s: 0.0280, bbox_mAP_m: 0.1140, bbox_mAP_l: 0.2800, bbox_mAP_copypaste: 0.131 0.216 0.134 0.028 0.114 0.280\n"
     ]
    },
    {
     "name": "stdout",
     "output_type": "stream",
     "text": [
      "DONE (t=0.86s).\n",
      "Average Precision  (AP) @[ IoU=0.50:0.95 | area=   all | maxDets=100 ] = 0.131\n",
      "Average Precision  (AP) @[ IoU=0.50      | area=   all | maxDets=1000 ] = 0.216\n",
      "Average Precision  (AP) @[ IoU=0.75      | area=   all | maxDets=1000 ] = 0.134\n",
      "Average Precision  (AP) @[ IoU=0.50:0.95 | area= small | maxDets=1000 ] = 0.028\n",
      "Average Precision  (AP) @[ IoU=0.50:0.95 | area=medium | maxDets=1000 ] = 0.114\n",
      "Average Precision  (AP) @[ IoU=0.50:0.95 | area= large | maxDets=1000 ] = 0.280\n",
      "Average Recall     (AR) @[ IoU=0.50:0.95 | area=   all | maxDets=100 ] = 0.268\n",
      "Average Recall     (AR) @[ IoU=0.50:0.95 | area=   all | maxDets=300 ] = 0.268\n",
      "Average Recall     (AR) @[ IoU=0.50:0.95 | area=   all | maxDets=1000 ] = 0.268\n",
      "Average Recall     (AR) @[ IoU=0.50:0.95 | area= small | maxDets=1000 ] = 0.074\n",
      "Average Recall     (AR) @[ IoU=0.50:0.95 | area=medium | maxDets=1000 ] = 0.243\n",
      "Average Recall     (AR) @[ IoU=0.50:0.95 | area= large | maxDets=1000 ] = 0.545\n"
     ]
    },
    {
     "name": "stderr",
     "output_type": "stream",
     "text": [
      "2021-05-13 08:47:01,376 - mmdet - INFO - Epoch [9][50/655]\tlr: 2.000e-03, eta: 0:21:31, time: 0.548, data_time: 0.051, memory: 2528, loss_rpn_cls: 0.0481, loss_rpn_bbox: 0.0323, s0.loss_cls: 0.2678, s0.acc: 91.7754, s0.loss_bbox: 0.1257, s1.loss_cls: 0.1232, s1.acc: 92.5649, s1.loss_bbox: 0.1153, s2.loss_cls: 0.0598, s2.acc: 92.5864, s2.loss_bbox: 0.0682, loss: 0.8403, grad_norm: 2.4321\n",
      "2021-05-13 08:47:26,131 - mmdet - INFO - Epoch [9][100/655]\tlr: 2.000e-03, eta: 0:21:06, time: 0.495, data_time: 0.007, memory: 2528, loss_rpn_cls: 0.0477, loss_rpn_bbox: 0.0379, s0.loss_cls: 0.2551, s0.acc: 91.8066, s0.loss_bbox: 0.1274, s1.loss_cls: 0.1205, s1.acc: 92.3277, s1.loss_bbox: 0.1114, s2.loss_cls: 0.0576, s2.acc: 92.6827, s2.loss_bbox: 0.0630, loss: 0.8208, grad_norm: 2.2896\n",
      "2021-05-13 08:47:51,185 - mmdet - INFO - Epoch [9][150/655]\tlr: 2.000e-03, eta: 0:20:41, time: 0.501, data_time: 0.008, memory: 2528, loss_rpn_cls: 0.0446, loss_rpn_bbox: 0.0323, s0.loss_cls: 0.2580, s0.acc: 91.8428, s0.loss_bbox: 0.1293, s1.loss_cls: 0.1182, s1.acc: 92.5997, s1.loss_bbox: 0.1126, s2.loss_cls: 0.0573, s2.acc: 92.9486, s2.loss_bbox: 0.0659, loss: 0.8181, grad_norm: 2.4627\n",
      "2021-05-13 08:48:15,697 - mmdet - INFO - Epoch [9][200/655]\tlr: 2.000e-03, eta: 0:20:15, time: 0.490, data_time: 0.007, memory: 2528, loss_rpn_cls: 0.0431, loss_rpn_bbox: 0.0314, s0.loss_cls: 0.2393, s0.acc: 92.4141, s0.loss_bbox: 0.1200, s1.loss_cls: 0.1119, s1.acc: 92.9295, s1.loss_bbox: 0.1097, s2.loss_cls: 0.0547, s2.acc: 93.0216, s2.loss_bbox: 0.0651, loss: 0.7752, grad_norm: 2.3728\n",
      "2021-05-13 08:48:40,580 - mmdet - INFO - Epoch [9][250/655]\tlr: 2.000e-03, eta: 0:19:50, time: 0.498, data_time: 0.007, memory: 2528, loss_rpn_cls: 0.0420, loss_rpn_bbox: 0.0268, s0.loss_cls: 0.2327, s0.acc: 92.5566, s0.loss_bbox: 0.1195, s1.loss_cls: 0.1072, s1.acc: 93.2136, s1.loss_bbox: 0.1116, s2.loss_cls: 0.0536, s2.acc: 93.2365, s2.loss_bbox: 0.0677, loss: 0.7611, grad_norm: 2.3994\n",
      "2021-05-13 08:49:05,457 - mmdet - INFO - Epoch [9][300/655]\tlr: 2.000e-03, eta: 0:19:25, time: 0.498, data_time: 0.007, memory: 2528, loss_rpn_cls: 0.0395, loss_rpn_bbox: 0.0313, s0.loss_cls: 0.2630, s0.acc: 91.8193, s0.loss_bbox: 0.1228, s1.loss_cls: 0.1211, s1.acc: 92.4541, s1.loss_bbox: 0.1140, s2.loss_cls: 0.0578, s2.acc: 92.9572, s2.loss_bbox: 0.0666, loss: 0.8161, grad_norm: 2.5622\n",
      "2021-05-13 08:49:30,674 - mmdet - INFO - Epoch [9][350/655]\tlr: 2.000e-03, eta: 0:19:00, time: 0.504, data_time: 0.007, memory: 2528, loss_rpn_cls: 0.0418, loss_rpn_bbox: 0.0298, s0.loss_cls: 0.2549, s0.acc: 91.8477, s0.loss_bbox: 0.1249, s1.loss_cls: 0.1163, s1.acc: 92.6870, s1.loss_bbox: 0.1114, s2.loss_cls: 0.0572, s2.acc: 92.8954, s2.loss_bbox: 0.0653, loss: 0.8017, grad_norm: 2.4249\n",
      "2021-05-13 08:49:56,443 - mmdet - INFO - Epoch [9][400/655]\tlr: 2.000e-03, eta: 0:18:35, time: 0.515, data_time: 0.007, memory: 2528, loss_rpn_cls: 0.0391, loss_rpn_bbox: 0.0299, s0.loss_cls: 0.2281, s0.acc: 92.6953, s0.loss_bbox: 0.1078, s1.loss_cls: 0.1065, s1.acc: 93.2385, s1.loss_bbox: 0.1006, s2.loss_cls: 0.0537, s2.acc: 93.1151, s2.loss_bbox: 0.0619, loss: 0.7277, grad_norm: 2.3467\n",
      "2021-05-13 08:50:21,045 - mmdet - INFO - Epoch [9][450/655]\tlr: 2.000e-03, eta: 0:18:10, time: 0.492, data_time: 0.007, memory: 2528, loss_rpn_cls: 0.0394, loss_rpn_bbox: 0.0274, s0.loss_cls: 0.2341, s0.acc: 92.4512, s0.loss_bbox: 0.1139, s1.loss_cls: 0.1098, s1.acc: 92.9931, s1.loss_bbox: 0.1051, s2.loss_cls: 0.0536, s2.acc: 93.1332, s2.loss_bbox: 0.0634, loss: 0.7466, grad_norm: 2.4691\n",
      "2021-05-13 08:50:46,390 - mmdet - INFO - Epoch [9][500/655]\tlr: 2.000e-03, eta: 0:17:45, time: 0.507, data_time: 0.007, memory: 2528, loss_rpn_cls: 0.0421, loss_rpn_bbox: 0.0353, s0.loss_cls: 0.2522, s0.acc: 91.8262, s0.loss_bbox: 0.1227, s1.loss_cls: 0.1204, s1.acc: 92.3870, s1.loss_bbox: 0.1063, s2.loss_cls: 0.0600, s2.acc: 92.4328, s2.loss_bbox: 0.0615, loss: 0.8004, grad_norm: 2.4937\n",
      "2021-05-13 08:51:11,589 - mmdet - INFO - Epoch [9][550/655]\tlr: 2.000e-03, eta: 0:17:20, time: 0.504, data_time: 0.007, memory: 2528, loss_rpn_cls: 0.0377, loss_rpn_bbox: 0.0306, s0.loss_cls: 0.2428, s0.acc: 92.2236, s0.loss_bbox: 0.1174, s1.loss_cls: 0.1103, s1.acc: 92.9662, s1.loss_bbox: 0.1065, s2.loss_cls: 0.0544, s2.acc: 92.9092, s2.loss_bbox: 0.0624, loss: 0.7621, grad_norm: 2.4328\n",
      "2021-05-13 08:51:36,702 - mmdet - INFO - Epoch [9][600/655]\tlr: 2.000e-03, eta: 0:16:54, time: 0.502, data_time: 0.007, memory: 2528, loss_rpn_cls: 0.0423, loss_rpn_bbox: 0.0292, s0.loss_cls: 0.2473, s0.acc: 92.1406, s0.loss_bbox: 0.1253, s1.loss_cls: 0.1137, s1.acc: 92.9063, s1.loss_bbox: 0.1125, s2.loss_cls: 0.0558, s2.acc: 93.0415, s2.loss_bbox: 0.0665, loss: 0.7926, grad_norm: 2.4798\n",
      "2021-05-13 08:52:01,572 - mmdet - INFO - Epoch [9][650/655]\tlr: 2.000e-03, eta: 0:16:29, time: 0.497, data_time: 0.007, memory: 2528, loss_rpn_cls: 0.0333, loss_rpn_bbox: 0.0276, s0.loss_cls: 0.2442, s0.acc: 92.1631, s0.loss_bbox: 0.1165, s1.loss_cls: 0.1133, s1.acc: 92.9197, s1.loss_bbox: 0.1093, s2.loss_cls: 0.0564, s2.acc: 92.8867, s2.loss_bbox: 0.0644, loss: 0.7648, grad_norm: 2.6981\n",
      "2021-05-13 08:52:04,154 - mmdet - INFO - Saving checkpoint at 9 epochs\n"
     ]
    },
    {
     "name": "stdout",
     "output_type": "stream",
     "text": [
      "[>>>>>>>>>>>>>>>>>>>>>>>>>>>>>] 655/655, 14.0 task/s, elapsed: 47s, ETA:     0s"
     ]
    },
    {
     "name": "stderr",
     "output_type": "stream",
     "text": [
      "2021-05-13 08:52:52,873 - mmdet - INFO - Evaluating bbox...\n"
     ]
    },
    {
     "name": "stdout",
     "output_type": "stream",
     "text": [
      "Loading and preparing results...\n",
      "DONE (t=0.56s)\n",
      "creating index...\n",
      "index created!\n",
      "Running per image evaluation...\n",
      "Evaluate annotation type *bbox*\n",
      "DONE (t=4.75s).\n",
      "Accumulating evaluation results...\n"
     ]
    },
    {
     "name": "stderr",
     "output_type": "stream",
     "text": [
      "2021-05-13 08:52:58,967 - mmdet - INFO - Epoch(val) [9][655]\tbbox_mAP: 0.1690, bbox_mAP_50: 0.2680, bbox_mAP_75: 0.1770, bbox_mAP_s: 0.0350, bbox_mAP_m: 0.1510, bbox_mAP_l: 0.3500, bbox_mAP_copypaste: 0.169 0.268 0.177 0.035 0.151 0.350\n"
     ]
    },
    {
     "name": "stdout",
     "output_type": "stream",
     "text": [
      "DONE (t=0.72s).\n",
      "Average Precision  (AP) @[ IoU=0.50:0.95 | area=   all | maxDets=100 ] = 0.169\n",
      "Average Precision  (AP) @[ IoU=0.50      | area=   all | maxDets=1000 ] = 0.268\n",
      "Average Precision  (AP) @[ IoU=0.75      | area=   all | maxDets=1000 ] = 0.177\n",
      "Average Precision  (AP) @[ IoU=0.50:0.95 | area= small | maxDets=1000 ] = 0.035\n",
      "Average Precision  (AP) @[ IoU=0.50:0.95 | area=medium | maxDets=1000 ] = 0.151\n",
      "Average Precision  (AP) @[ IoU=0.50:0.95 | area= large | maxDets=1000 ] = 0.350\n",
      "Average Recall     (AR) @[ IoU=0.50:0.95 | area=   all | maxDets=100 ] = 0.324\n",
      "Average Recall     (AR) @[ IoU=0.50:0.95 | area=   all | maxDets=300 ] = 0.324\n",
      "Average Recall     (AR) @[ IoU=0.50:0.95 | area=   all | maxDets=1000 ] = 0.324\n",
      "Average Recall     (AR) @[ IoU=0.50:0.95 | area= small | maxDets=1000 ] = 0.107\n",
      "Average Recall     (AR) @[ IoU=0.50:0.95 | area=medium | maxDets=1000 ] = 0.303\n",
      "Average Recall     (AR) @[ IoU=0.50:0.95 | area= large | maxDets=1000 ] = 0.585\n"
     ]
    },
    {
     "name": "stderr",
     "output_type": "stream",
     "text": [
      "2021-05-13 08:53:26,180 - mmdet - INFO - Epoch [10][50/655]\tlr: 2.000e-03, eta: 0:16:01, time: 0.544, data_time: 0.051, memory: 2528, loss_rpn_cls: 0.0344, loss_rpn_bbox: 0.0295, s0.loss_cls: 0.2239, s0.acc: 92.6963, s0.loss_bbox: 0.1111, s1.loss_cls: 0.1017, s1.acc: 93.4758, s1.loss_bbox: 0.1009, s2.loss_cls: 0.0499, s2.acc: 93.6617, s2.loss_bbox: 0.0621, loss: 0.7134, grad_norm: 2.4227\n",
      "2021-05-13 08:53:50,950 - mmdet - INFO - Epoch [10][100/655]\tlr: 2.000e-03, eta: 0:15:36, time: 0.495, data_time: 0.007, memory: 2528, loss_rpn_cls: 0.0352, loss_rpn_bbox: 0.0270, s0.loss_cls: 0.2315, s0.acc: 92.6475, s0.loss_bbox: 0.1132, s1.loss_cls: 0.1046, s1.acc: 93.4470, s1.loss_bbox: 0.1016, s2.loss_cls: 0.0516, s2.acc: 93.4325, s2.loss_bbox: 0.0608, loss: 0.7255, grad_norm: 2.4586\n",
      "2021-05-13 08:54:16,270 - mmdet - INFO - Epoch [10][150/655]\tlr: 2.000e-03, eta: 0:15:11, time: 0.506, data_time: 0.007, memory: 2528, loss_rpn_cls: 0.0350, loss_rpn_bbox: 0.0260, s0.loss_cls: 0.2168, s0.acc: 92.9141, s0.loss_bbox: 0.1073, s1.loss_cls: 0.1006, s1.acc: 93.6048, s1.loss_bbox: 0.0984, s2.loss_cls: 0.0503, s2.acc: 93.7424, s2.loss_bbox: 0.0598, loss: 0.6943, grad_norm: 2.3876\n",
      "2021-05-13 08:54:41,669 - mmdet - INFO - Epoch [10][200/655]\tlr: 2.000e-03, eta: 0:14:46, time: 0.508, data_time: 0.007, memory: 2528, loss_rpn_cls: 0.0373, loss_rpn_bbox: 0.0299, s0.loss_cls: 0.2221, s0.acc: 92.8516, s0.loss_bbox: 0.1069, s1.loss_cls: 0.1014, s1.acc: 93.6800, s1.loss_bbox: 0.0958, s2.loss_cls: 0.0495, s2.acc: 93.8330, s2.loss_bbox: 0.0570, loss: 0.6998, grad_norm: 2.4553\n",
      "2021-05-13 08:55:06,491 - mmdet - INFO - Epoch [10][250/655]\tlr: 2.000e-03, eta: 0:14:21, time: 0.496, data_time: 0.007, memory: 2528, loss_rpn_cls: 0.0353, loss_rpn_bbox: 0.0266, s0.loss_cls: 0.2130, s0.acc: 93.1084, s0.loss_bbox: 0.1047, s1.loss_cls: 0.0962, s1.acc: 93.8399, s1.loss_bbox: 0.0943, s2.loss_cls: 0.0484, s2.acc: 93.9465, s2.loss_bbox: 0.0580, loss: 0.6766, grad_norm: 2.3410\n",
      "2021-05-13 08:55:31,421 - mmdet - INFO - Epoch [10][300/655]\tlr: 2.000e-03, eta: 0:13:56, time: 0.499, data_time: 0.007, memory: 2528, loss_rpn_cls: 0.0342, loss_rpn_bbox: 0.0342, s0.loss_cls: 0.2440, s0.acc: 92.0459, s0.loss_bbox: 0.1243, s1.loss_cls: 0.1098, s1.acc: 93.0024, s1.loss_bbox: 0.1112, s2.loss_cls: 0.0539, s2.acc: 93.1165, s2.loss_bbox: 0.0668, loss: 0.7785, grad_norm: 2.6552\n",
      "2021-05-13 08:55:56,351 - mmdet - INFO - Epoch [10][350/655]\tlr: 2.000e-03, eta: 0:13:31, time: 0.499, data_time: 0.007, memory: 2528, loss_rpn_cls: 0.0363, loss_rpn_bbox: 0.0282, s0.loss_cls: 0.2290, s0.acc: 92.4707, s0.loss_bbox: 0.1144, s1.loss_cls: 0.1038, s1.acc: 93.2428, s1.loss_bbox: 0.1036, s2.loss_cls: 0.0521, s2.acc: 93.3401, s2.loss_bbox: 0.0624, loss: 0.7299, grad_norm: 2.5518\n",
      "2021-05-13 08:56:22,209 - mmdet - INFO - Epoch [10][400/655]\tlr: 2.000e-03, eta: 0:13:06, time: 0.517, data_time: 0.009, memory: 2528, loss_rpn_cls: 0.0396, loss_rpn_bbox: 0.0280, s0.loss_cls: 0.2354, s0.acc: 92.5459, s0.loss_bbox: 0.1184, s1.loss_cls: 0.1061, s1.acc: 93.3952, s1.loss_bbox: 0.1066, s2.loss_cls: 0.0514, s2.acc: 93.7334, s2.loss_bbox: 0.0639, loss: 0.7493, grad_norm: 2.5920\n",
      "2021-05-13 08:56:47,872 - mmdet - INFO - Epoch [10][450/655]\tlr: 2.000e-03, eta: 0:12:41, time: 0.513, data_time: 0.009, memory: 2528, loss_rpn_cls: 0.0359, loss_rpn_bbox: 0.0314, s0.loss_cls: 0.2399, s0.acc: 92.3223, s0.loss_bbox: 0.1175, s1.loss_cls: 0.1105, s1.acc: 93.0756, s1.loss_bbox: 0.1057, s2.loss_cls: 0.0548, s2.acc: 93.0087, s2.loss_bbox: 0.0630, loss: 0.7587, grad_norm: 2.6163\n",
      "2021-05-13 08:57:14,248 - mmdet - INFO - Epoch [10][500/655]\tlr: 2.000e-03, eta: 0:12:16, time: 0.527, data_time: 0.008, memory: 2528, loss_rpn_cls: 0.0331, loss_rpn_bbox: 0.0298, s0.loss_cls: 0.2324, s0.acc: 92.5918, s0.loss_bbox: 0.1154, s1.loss_cls: 0.1066, s1.acc: 93.3534, s1.loss_bbox: 0.1042, s2.loss_cls: 0.0531, s2.acc: 93.4494, s2.loss_bbox: 0.0613, loss: 0.7359, grad_norm: 2.5618\n",
      "2021-05-13 08:57:40,243 - mmdet - INFO - Epoch [10][550/655]\tlr: 2.000e-03, eta: 0:11:51, time: 0.520, data_time: 0.008, memory: 2528, loss_rpn_cls: 0.0359, loss_rpn_bbox: 0.0325, s0.loss_cls: 0.2379, s0.acc: 92.0986, s0.loss_bbox: 0.1178, s1.loss_cls: 0.1127, s1.acc: 92.4969, s1.loss_bbox: 0.1095, s2.loss_cls: 0.0566, s2.acc: 92.4700, s2.loss_bbox: 0.0645, loss: 0.7675, grad_norm: 2.5665\n",
      "2021-05-13 08:58:05,756 - mmdet - INFO - Epoch [10][600/655]\tlr: 2.000e-03, eta: 0:11:26, time: 0.510, data_time: 0.008, memory: 2528, loss_rpn_cls: 0.0291, loss_rpn_bbox: 0.0248, s0.loss_cls: 0.2206, s0.acc: 93.0195, s0.loss_bbox: 0.1052, s1.loss_cls: 0.1021, s1.acc: 93.6886, s1.loss_bbox: 0.0964, s2.loss_cls: 0.0512, s2.acc: 93.7079, s2.loss_bbox: 0.0605, loss: 0.6900, grad_norm: 2.6368\n",
      "2021-05-13 08:58:32,732 - mmdet - INFO - Epoch [10][650/655]\tlr: 2.000e-03, eta: 0:11:01, time: 0.540, data_time: 0.009, memory: 2528, loss_rpn_cls: 0.0320, loss_rpn_bbox: 0.0288, s0.loss_cls: 0.2257, s0.acc: 92.7305, s0.loss_bbox: 0.1160, s1.loss_cls: 0.1023, s1.acc: 93.4887, s1.loss_bbox: 0.1051, s2.loss_cls: 0.0503, s2.acc: 93.5189, s2.loss_bbox: 0.0619, loss: 0.7219, grad_norm: 2.5781\n",
      "2021-05-13 08:58:35,384 - mmdet - INFO - Saving checkpoint at 10 epochs\n"
     ]
    },
    {
     "name": "stdout",
     "output_type": "stream",
     "text": [
      "[>>>>>>>>>>>>>>>>>>>>>>>>>>>>>] 655/655, 13.8 task/s, elapsed: 47s, ETA:     0s"
     ]
    },
    {
     "name": "stderr",
     "output_type": "stream",
     "text": [
      "2021-05-13 08:59:25,602 - mmdet - INFO - Evaluating bbox...\n"
     ]
    },
    {
     "name": "stdout",
     "output_type": "stream",
     "text": [
      "Loading and preparing results...\n",
      "DONE (t=0.09s)\n",
      "creating index...\n",
      "index created!\n",
      "Running per image evaluation...\n",
      "Evaluate annotation type *bbox*\n",
      "DONE (t=5.03s).\n",
      "Accumulating evaluation results...\n"
     ]
    },
    {
     "name": "stderr",
     "output_type": "stream",
     "text": [
      "2021-05-13 08:59:31,546 - mmdet - INFO - Epoch(val) [10][655]\tbbox_mAP: 0.1740, bbox_mAP_50: 0.2780, bbox_mAP_75: 0.1770, bbox_mAP_s: 0.0340, bbox_mAP_m: 0.1530, bbox_mAP_l: 0.3810, bbox_mAP_copypaste: 0.174 0.278 0.177 0.034 0.153 0.381\n"
     ]
    },
    {
     "name": "stdout",
     "output_type": "stream",
     "text": [
      "DONE (t=0.75s).\n",
      "Average Precision  (AP) @[ IoU=0.50:0.95 | area=   all | maxDets=100 ] = 0.174\n",
      "Average Precision  (AP) @[ IoU=0.50      | area=   all | maxDets=1000 ] = 0.278\n",
      "Average Precision  (AP) @[ IoU=0.75      | area=   all | maxDets=1000 ] = 0.177\n",
      "Average Precision  (AP) @[ IoU=0.50:0.95 | area= small | maxDets=1000 ] = 0.034\n",
      "Average Precision  (AP) @[ IoU=0.50:0.95 | area=medium | maxDets=1000 ] = 0.153\n",
      "Average Precision  (AP) @[ IoU=0.50:0.95 | area= large | maxDets=1000 ] = 0.381\n",
      "Average Recall     (AR) @[ IoU=0.50:0.95 | area=   all | maxDets=100 ] = 0.329\n",
      "Average Recall     (AR) @[ IoU=0.50:0.95 | area=   all | maxDets=300 ] = 0.329\n",
      "Average Recall     (AR) @[ IoU=0.50:0.95 | area=   all | maxDets=1000 ] = 0.329\n",
      "Average Recall     (AR) @[ IoU=0.50:0.95 | area= small | maxDets=1000 ] = 0.103\n",
      "Average Recall     (AR) @[ IoU=0.50:0.95 | area=medium | maxDets=1000 ] = 0.301\n",
      "Average Recall     (AR) @[ IoU=0.50:0.95 | area= large | maxDets=1000 ] = 0.610\n"
     ]
    },
    {
     "name": "stderr",
     "output_type": "stream",
     "text": [
      "2021-05-13 08:59:59,699 - mmdet - INFO - Epoch [11][50/655]\tlr: 2.000e-03, eta: 0:10:33, time: 0.563, data_time: 0.053, memory: 2528, loss_rpn_cls: 0.0276, loss_rpn_bbox: 0.0254, s0.loss_cls: 0.2080, s0.acc: 93.2236, s0.loss_bbox: 0.1034, s1.loss_cls: 0.0951, s1.acc: 93.8682, s1.loss_bbox: 0.0977, s2.loss_cls: 0.0478, s2.acc: 93.9793, s2.loss_bbox: 0.0601, loss: 0.6652, grad_norm: 2.4248\n",
      "2021-05-13 09:00:25,747 - mmdet - INFO - Epoch [11][100/655]\tlr: 2.000e-03, eta: 0:10:08, time: 0.521, data_time: 0.009, memory: 2528, loss_rpn_cls: 0.0321, loss_rpn_bbox: 0.0271, s0.loss_cls: 0.2211, s0.acc: 92.9316, s0.loss_bbox: 0.1104, s1.loss_cls: 0.0999, s1.acc: 93.7345, s1.loss_bbox: 0.0983, s2.loss_cls: 0.0496, s2.acc: 93.9419, s2.loss_bbox: 0.0585, loss: 0.6969, grad_norm: 2.4665\n",
      "2021-05-13 09:00:50,892 - mmdet - INFO - Epoch [11][150/655]\tlr: 2.000e-03, eta: 0:09:43, time: 0.503, data_time: 0.007, memory: 2528, loss_rpn_cls: 0.0305, loss_rpn_bbox: 0.0290, s0.loss_cls: 0.2161, s0.acc: 93.1221, s0.loss_bbox: 0.1156, s1.loss_cls: 0.0975, s1.acc: 93.8759, s1.loss_bbox: 0.1032, s2.loss_cls: 0.0480, s2.acc: 94.0447, s2.loss_bbox: 0.0614, loss: 0.7014, grad_norm: 2.4506\n",
      "2021-05-13 09:01:15,302 - mmdet - INFO - Epoch [11][200/655]\tlr: 2.000e-03, eta: 0:09:18, time: 0.488, data_time: 0.007, memory: 2528, loss_rpn_cls: 0.0330, loss_rpn_bbox: 0.0271, s0.loss_cls: 0.1991, s0.acc: 93.5742, s0.loss_bbox: 0.1035, s1.loss_cls: 0.0883, s1.acc: 94.4982, s1.loss_bbox: 0.0936, s2.loss_cls: 0.0453, s2.acc: 94.3943, s2.loss_bbox: 0.0568, loss: 0.6468, grad_norm: 2.4369\n",
      "2021-05-13 09:01:40,167 - mmdet - INFO - Epoch [11][250/655]\tlr: 2.000e-03, eta: 0:08:53, time: 0.497, data_time: 0.007, memory: 2528, loss_rpn_cls: 0.0368, loss_rpn_bbox: 0.0281, s0.loss_cls: 0.2431, s0.acc: 92.2393, s0.loss_bbox: 0.1182, s1.loss_cls: 0.1107, s1.acc: 92.9878, s1.loss_bbox: 0.1054, s2.loss_cls: 0.0555, s2.acc: 93.0334, s2.loss_bbox: 0.0654, loss: 0.7631, grad_norm: 2.7104\n",
      "2021-05-13 09:02:05,049 - mmdet - INFO - Epoch [11][300/655]\tlr: 2.000e-03, eta: 0:08:28, time: 0.498, data_time: 0.007, memory: 2528, loss_rpn_cls: 0.0358, loss_rpn_bbox: 0.0291, s0.loss_cls: 0.2189, s0.acc: 92.9062, s0.loss_bbox: 0.1142, s1.loss_cls: 0.0983, s1.acc: 93.7447, s1.loss_bbox: 0.1024, s2.loss_cls: 0.0484, s2.acc: 93.7815, s2.loss_bbox: 0.0617, loss: 0.7089, grad_norm: 2.5906\n",
      "2021-05-13 09:02:29,914 - mmdet - INFO - Epoch [11][350/655]\tlr: 2.000e-03, eta: 0:08:02, time: 0.497, data_time: 0.006, memory: 2528, loss_rpn_cls: 0.0351, loss_rpn_bbox: 0.0295, s0.loss_cls: 0.2185, s0.acc: 92.7842, s0.loss_bbox: 0.1158, s1.loss_cls: 0.0997, s1.acc: 93.5200, s1.loss_bbox: 0.1053, s2.loss_cls: 0.0492, s2.acc: 93.6735, s2.loss_bbox: 0.0617, loss: 0.7149, grad_norm: 2.6556\n",
      "2021-05-13 09:02:54,631 - mmdet - INFO - Epoch [11][400/655]\tlr: 2.000e-03, eta: 0:07:37, time: 0.494, data_time: 0.007, memory: 2528, loss_rpn_cls: 0.0299, loss_rpn_bbox: 0.0305, s0.loss_cls: 0.1949, s0.acc: 93.5371, s0.loss_bbox: 0.1035, s1.loss_cls: 0.0884, s1.acc: 94.2448, s1.loss_bbox: 0.0917, s2.loss_cls: 0.0441, s2.acc: 94.4015, s2.loss_bbox: 0.0552, loss: 0.6382, grad_norm: 2.4227\n",
      "2021-05-13 09:03:19,005 - mmdet - INFO - Epoch [11][450/655]\tlr: 2.000e-03, eta: 0:07:12, time: 0.487, data_time: 0.006, memory: 2528, loss_rpn_cls: 0.0271, loss_rpn_bbox: 0.0256, s0.loss_cls: 0.2130, s0.acc: 93.0713, s0.loss_bbox: 0.1047, s1.loss_cls: 0.0963, s1.acc: 93.7438, s1.loss_bbox: 0.0958, s2.loss_cls: 0.0470, s2.acc: 93.9454, s2.loss_bbox: 0.0602, loss: 0.6696, grad_norm: 2.7282\n",
      "2021-05-13 09:03:43,661 - mmdet - INFO - Epoch [11][500/655]\tlr: 2.000e-03, eta: 0:06:47, time: 0.493, data_time: 0.007, memory: 2528, loss_rpn_cls: 0.0317, loss_rpn_bbox: 0.0334, s0.loss_cls: 0.2280, s0.acc: 92.5820, s0.loss_bbox: 0.1144, s1.loss_cls: 0.1019, s1.acc: 93.6378, s1.loss_bbox: 0.1029, s2.loss_cls: 0.0502, s2.acc: 93.7713, s2.loss_bbox: 0.0614, loss: 0.7240, grad_norm: 2.7188\n",
      "2021-05-13 09:04:08,048 - mmdet - INFO - Epoch [11][550/655]\tlr: 2.000e-03, eta: 0:06:22, time: 0.488, data_time: 0.007, memory: 2528, loss_rpn_cls: 0.0346, loss_rpn_bbox: 0.0299, s0.loss_cls: 0.2316, s0.acc: 92.5615, s0.loss_bbox: 0.1096, s1.loss_cls: 0.1053, s1.acc: 93.3376, s1.loss_bbox: 0.1010, s2.loss_cls: 0.0521, s2.acc: 93.2666, s2.loss_bbox: 0.0602, loss: 0.7242, grad_norm: 2.6878\n",
      "2021-05-13 09:04:33,496 - mmdet - INFO - Epoch [11][600/655]\tlr: 2.000e-03, eta: 0:05:56, time: 0.509, data_time: 0.008, memory: 2528, loss_rpn_cls: 0.0280, loss_rpn_bbox: 0.0245, s0.loss_cls: 0.2057, s0.acc: 93.3066, s0.loss_bbox: 0.1013, s1.loss_cls: 0.0917, s1.acc: 94.0760, s1.loss_bbox: 0.0940, s2.loss_cls: 0.0453, s2.acc: 94.2354, s2.loss_bbox: 0.0585, loss: 0.6490, grad_norm: 2.6676\n",
      "2021-05-13 09:04:58,047 - mmdet - INFO - Epoch [11][650/655]\tlr: 2.000e-03, eta: 0:05:31, time: 0.491, data_time: 0.007, memory: 2528, loss_rpn_cls: 0.0342, loss_rpn_bbox: 0.0295, s0.loss_cls: 0.2172, s0.acc: 92.9199, s0.loss_bbox: 0.1047, s1.loss_cls: 0.0989, s1.acc: 93.6659, s1.loss_bbox: 0.0955, s2.loss_cls: 0.0497, s2.acc: 93.6100, s2.loss_bbox: 0.0591, loss: 0.6889, grad_norm: 2.5906\n",
      "2021-05-13 09:05:00,488 - mmdet - INFO - Saving checkpoint at 11 epochs\n"
     ]
    },
    {
     "name": "stdout",
     "output_type": "stream",
     "text": [
      "[>>>>>>>>>>>>>>>>>>>>>>>>>>>>>] 655/655, 13.9 task/s, elapsed: 47s, ETA:     0s"
     ]
    },
    {
     "name": "stderr",
     "output_type": "stream",
     "text": [
      "2021-05-13 09:05:50,251 - mmdet - INFO - Evaluating bbox...\n"
     ]
    },
    {
     "name": "stdout",
     "output_type": "stream",
     "text": [
      "Loading and preparing results...\n",
      "DONE (t=0.09s)\n",
      "creating index...\n",
      "index created!\n",
      "Running per image evaluation...\n",
      "Evaluate annotation type *bbox*\n",
      "DONE (t=5.30s).\n",
      "Accumulating evaluation results...\n"
     ]
    },
    {
     "name": "stderr",
     "output_type": "stream",
     "text": [
      "2021-05-13 09:05:56,438 - mmdet - INFO - Epoch(val) [11][655]\tbbox_mAP: 0.1770, bbox_mAP_50: 0.2800, bbox_mAP_75: 0.1830, bbox_mAP_s: 0.0350, bbox_mAP_m: 0.1570, bbox_mAP_l: 0.3480, bbox_mAP_copypaste: 0.177 0.280 0.183 0.035 0.157 0.348\n"
     ]
    },
    {
     "name": "stdout",
     "output_type": "stream",
     "text": [
      "DONE (t=0.72s).\n",
      "Average Precision  (AP) @[ IoU=0.50:0.95 | area=   all | maxDets=100 ] = 0.177\n",
      "Average Precision  (AP) @[ IoU=0.50      | area=   all | maxDets=1000 ] = 0.280\n",
      "Average Precision  (AP) @[ IoU=0.75      | area=   all | maxDets=1000 ] = 0.183\n",
      "Average Precision  (AP) @[ IoU=0.50:0.95 | area= small | maxDets=1000 ] = 0.035\n",
      "Average Precision  (AP) @[ IoU=0.50:0.95 | area=medium | maxDets=1000 ] = 0.157\n",
      "Average Precision  (AP) @[ IoU=0.50:0.95 | area= large | maxDets=1000 ] = 0.348\n",
      "Average Recall     (AR) @[ IoU=0.50:0.95 | area=   all | maxDets=100 ] = 0.332\n",
      "Average Recall     (AR) @[ IoU=0.50:0.95 | area=   all | maxDets=300 ] = 0.332\n",
      "Average Recall     (AR) @[ IoU=0.50:0.95 | area=   all | maxDets=1000 ] = 0.332\n",
      "Average Recall     (AR) @[ IoU=0.50:0.95 | area= small | maxDets=1000 ] = 0.107\n",
      "Average Recall     (AR) @[ IoU=0.50:0.95 | area=medium | maxDets=1000 ] = 0.298\n",
      "Average Recall     (AR) @[ IoU=0.50:0.95 | area= large | maxDets=1000 ] = 0.610\n"
     ]
    },
    {
     "name": "stderr",
     "output_type": "stream",
     "text": [
      "2021-05-13 09:06:22,864 - mmdet - INFO - Epoch [12][50/655]\tlr: 2.000e-04, eta: 0:05:04, time: 0.528, data_time: 0.051, memory: 2528, loss_rpn_cls: 0.0278, loss_rpn_bbox: 0.0266, s0.loss_cls: 0.2052, s0.acc: 93.3857, s0.loss_bbox: 0.1055, s1.loss_cls: 0.0890, s1.acc: 94.5285, s1.loss_bbox: 0.0946, s2.loss_cls: 0.0448, s2.acc: 94.4436, s2.loss_bbox: 0.0579, loss: 0.6514, grad_norm: 2.3540\n",
      "2021-05-13 09:06:47,312 - mmdet - INFO - Epoch [12][100/655]\tlr: 2.000e-04, eta: 0:04:38, time: 0.489, data_time: 0.007, memory: 2528, loss_rpn_cls: 0.0286, loss_rpn_bbox: 0.0281, s0.loss_cls: 0.2025, s0.acc: 93.2764, s0.loss_bbox: 0.1051, s1.loss_cls: 0.0925, s1.acc: 94.0799, s1.loss_bbox: 0.0956, s2.loss_cls: 0.0468, s2.acc: 94.0626, s2.loss_bbox: 0.0569, loss: 0.6561, grad_norm: 2.3555\n",
      "2021-05-13 09:07:12,015 - mmdet - INFO - Epoch [12][150/655]\tlr: 2.000e-04, eta: 0:04:13, time: 0.494, data_time: 0.007, memory: 2528, loss_rpn_cls: 0.0286, loss_rpn_bbox: 0.0271, s0.loss_cls: 0.2157, s0.acc: 93.0088, s0.loss_bbox: 0.1077, s1.loss_cls: 0.0947, s1.acc: 93.9514, s1.loss_bbox: 0.0971, s2.loss_cls: 0.0468, s2.acc: 94.1943, s2.loss_bbox: 0.0602, loss: 0.6780, grad_norm: 2.4730\n",
      "2021-05-13 09:07:37,700 - mmdet - INFO - Epoch [12][200/655]\tlr: 2.000e-04, eta: 0:03:48, time: 0.514, data_time: 0.008, memory: 2528, loss_rpn_cls: 0.0255, loss_rpn_bbox: 0.0229, s0.loss_cls: 0.1786, s0.acc: 94.1299, s0.loss_bbox: 0.0951, s1.loss_cls: 0.0796, s1.acc: 94.8959, s1.loss_bbox: 0.0883, s2.loss_cls: 0.0401, s2.acc: 95.0030, s2.loss_bbox: 0.0537, loss: 0.5838, grad_norm: 2.3631\n",
      "2021-05-13 09:08:02,261 - mmdet - INFO - Epoch [12][250/655]\tlr: 2.000e-04, eta: 0:03:23, time: 0.491, data_time: 0.006, memory: 2528, loss_rpn_cls: 0.0311, loss_rpn_bbox: 0.0287, s0.loss_cls: 0.1982, s0.acc: 93.5361, s0.loss_bbox: 0.1096, s1.loss_cls: 0.0890, s1.acc: 94.2711, s1.loss_bbox: 0.0959, s2.loss_cls: 0.0452, s2.acc: 94.2495, s2.loss_bbox: 0.0578, loss: 0.6555, grad_norm: 2.4443\n",
      "2021-05-13 09:08:27,267 - mmdet - INFO - Epoch [12][300/655]\tlr: 2.000e-04, eta: 0:02:58, time: 0.500, data_time: 0.007, memory: 2528, loss_rpn_cls: 0.0258, loss_rpn_bbox: 0.0261, s0.loss_cls: 0.1986, s0.acc: 93.5781, s0.loss_bbox: 0.0985, s1.loss_cls: 0.0892, s1.acc: 94.4836, s1.loss_bbox: 0.0880, s2.loss_cls: 0.0444, s2.acc: 94.4176, s2.loss_bbox: 0.0536, loss: 0.6241, grad_norm: 2.4054\n",
      "2021-05-13 09:08:52,105 - mmdet - INFO - Epoch [12][350/655]\tlr: 2.000e-04, eta: 0:02:33, time: 0.497, data_time: 0.007, memory: 2528, loss_rpn_cls: 0.0331, loss_rpn_bbox: 0.0319, s0.loss_cls: 0.2208, s0.acc: 92.8730, s0.loss_bbox: 0.1095, s1.loss_cls: 0.0988, s1.acc: 93.7571, s1.loss_bbox: 0.0982, s2.loss_cls: 0.0490, s2.acc: 93.9919, s2.loss_bbox: 0.0590, loss: 0.7005, grad_norm: 2.4946\n",
      "2021-05-13 09:09:16,624 - mmdet - INFO - Epoch [12][400/655]\tlr: 2.000e-04, eta: 0:02:08, time: 0.490, data_time: 0.007, memory: 2528, loss_rpn_cls: 0.0281, loss_rpn_bbox: 0.0267, s0.loss_cls: 0.2051, s0.acc: 93.1729, s0.loss_bbox: 0.1109, s1.loss_cls: 0.0909, s1.acc: 94.1093, s1.loss_bbox: 0.0971, s2.loss_cls: 0.0448, s2.acc: 94.2905, s2.loss_bbox: 0.0586, loss: 0.6622, grad_norm: 2.5112\n",
      "2021-05-13 09:09:41,293 - mmdet - INFO - Epoch [12][450/655]\tlr: 2.000e-04, eta: 0:01:42, time: 0.493, data_time: 0.007, memory: 2528, loss_rpn_cls: 0.0281, loss_rpn_bbox: 0.0244, s0.loss_cls: 0.1946, s0.acc: 93.6445, s0.loss_bbox: 0.1043, s1.loss_cls: 0.0856, s1.acc: 94.6155, s1.loss_bbox: 0.0949, s2.loss_cls: 0.0425, s2.acc: 94.6062, s2.loss_bbox: 0.0566, loss: 0.6309, grad_norm: 2.4793\n",
      "2021-05-13 09:10:05,682 - mmdet - INFO - Epoch [12][500/655]\tlr: 2.000e-04, eta: 0:01:17, time: 0.488, data_time: 0.007, memory: 2528, loss_rpn_cls: 0.0264, loss_rpn_bbox: 0.0249, s0.loss_cls: 0.1985, s0.acc: 93.3691, s0.loss_bbox: 0.1070, s1.loss_cls: 0.0881, s1.acc: 94.1037, s1.loss_bbox: 0.0947, s2.loss_cls: 0.0446, s2.acc: 94.1379, s2.loss_bbox: 0.0582, loss: 0.6423, grad_norm: 2.4910\n",
      "2021-05-13 09:10:30,640 - mmdet - INFO - Epoch [12][550/655]\tlr: 2.000e-04, eta: 0:00:52, time: 0.499, data_time: 0.007, memory: 2528, loss_rpn_cls: 0.0296, loss_rpn_bbox: 0.0269, s0.loss_cls: 0.1941, s0.acc: 93.6445, s0.loss_bbox: 0.1014, s1.loss_cls: 0.0840, s1.acc: 94.7298, s1.loss_bbox: 0.0926, s2.loss_cls: 0.0413, s2.acc: 94.7725, s2.loss_bbox: 0.0578, loss: 0.6276, grad_norm: 2.4489\n",
      "2021-05-13 09:10:55,054 - mmdet - INFO - Epoch [12][600/655]\tlr: 2.000e-04, eta: 0:00:27, time: 0.488, data_time: 0.007, memory: 2528, loss_rpn_cls: 0.0273, loss_rpn_bbox: 0.0261, s0.loss_cls: 0.1890, s0.acc: 93.7480, s0.loss_bbox: 0.0951, s1.loss_cls: 0.0861, s1.acc: 94.4889, s1.loss_bbox: 0.0870, s2.loss_cls: 0.0432, s2.acc: 94.4316, s2.loss_bbox: 0.0543, loss: 0.6082, grad_norm: 2.4914\n",
      "2021-05-13 09:11:19,683 - mmdet - INFO - Epoch [12][650/655]\tlr: 2.000e-04, eta: 0:00:02, time: 0.493, data_time: 0.007, memory: 2528, loss_rpn_cls: 0.0322, loss_rpn_bbox: 0.0282, s0.loss_cls: 0.2083, s0.acc: 93.3193, s0.loss_bbox: 0.1031, s1.loss_cls: 0.0940, s1.acc: 94.0228, s1.loss_bbox: 0.0944, s2.loss_cls: 0.0480, s2.acc: 94.0192, s2.loss_bbox: 0.0600, loss: 0.6683, grad_norm: 2.5409\n",
      "2021-05-13 09:11:22,302 - mmdet - INFO - Saving checkpoint at 12 epochs\n"
     ]
    },
    {
     "name": "stdout",
     "output_type": "stream",
     "text": [
      "[>>>>>>>>>>>>>>>>>>>>>>>>>>>>>] 655/655, 13.7 task/s, elapsed: 48s, ETA:     0s"
     ]
    },
    {
     "name": "stderr",
     "output_type": "stream",
     "text": [
      "2021-05-13 09:12:12,464 - mmdet - INFO - Evaluating bbox...\n"
     ]
    },
    {
     "name": "stdout",
     "output_type": "stream",
     "text": [
      "Loading and preparing results...\n",
      "DONE (t=0.53s)\n",
      "creating index...\n",
      "index created!\n",
      "Running per image evaluation...\n",
      "Evaluate annotation type *bbox*\n",
      "DONE (t=4.37s).\n",
      "Accumulating evaluation results...\n"
     ]
    },
    {
     "name": "stderr",
     "output_type": "stream",
     "text": [
      "2021-05-13 09:12:18,117 - mmdet - INFO - Epoch(val) [12][655]\tbbox_mAP: 0.1790, bbox_mAP_50: 0.2860, bbox_mAP_75: 0.1870, bbox_mAP_s: 0.0350, bbox_mAP_m: 0.1560, bbox_mAP_l: 0.3610, bbox_mAP_copypaste: 0.179 0.286 0.187 0.035 0.156 0.361\n"
     ]
    },
    {
     "name": "stdout",
     "output_type": "stream",
     "text": [
      "DONE (t=0.68s).\n",
      "Average Precision  (AP) @[ IoU=0.50:0.95 | area=   all | maxDets=100 ] = 0.179\n",
      "Average Precision  (AP) @[ IoU=0.50      | area=   all | maxDets=1000 ] = 0.286\n",
      "Average Precision  (AP) @[ IoU=0.75      | area=   all | maxDets=1000 ] = 0.187\n",
      "Average Precision  (AP) @[ IoU=0.50:0.95 | area= small | maxDets=1000 ] = 0.035\n",
      "Average Precision  (AP) @[ IoU=0.50:0.95 | area=medium | maxDets=1000 ] = 0.156\n",
      "Average Precision  (AP) @[ IoU=0.50:0.95 | area= large | maxDets=1000 ] = 0.361\n",
      "Average Recall     (AR) @[ IoU=0.50:0.95 | area=   all | maxDets=100 ] = 0.321\n",
      "Average Recall     (AR) @[ IoU=0.50:0.95 | area=   all | maxDets=300 ] = 0.321\n",
      "Average Recall     (AR) @[ IoU=0.50:0.95 | area=   all | maxDets=1000 ] = 0.321\n",
      "Average Recall     (AR) @[ IoU=0.50:0.95 | area= small | maxDets=1000 ] = 0.100\n",
      "Average Recall     (AR) @[ IoU=0.50:0.95 | area=medium | maxDets=1000 ] = 0.286\n",
      "Average Recall     (AR) @[ IoU=0.50:0.95 | area= large | maxDets=1000 ] = 0.601\n"
     ]
    },
    {
     "data": {
      "text/html": [
       "<br/>Waiting for W&B process to finish, PID 322<br/>Program ended successfully."
      ],
      "text/plain": [
       "<IPython.core.display.HTML object>"
      ]
     },
     "metadata": {},
     "output_type": "display_data"
    },
    {
     "data": {
      "application/vnd.jupyter.widget-view+json": {
       "model_id": "",
       "version_major": 2,
       "version_minor": 0
      },
      "text/plain": [
       "VBox(children=(Label(value=' 0.00MB of 0.00MB uploaded (0.00MB deduped)\\r'), FloatProgress(value=1.0, max=1.0)…"
      ]
     },
     "metadata": {},
     "output_type": "display_data"
    },
    {
     "data": {
      "text/html": [
       "Find user logs for this run at: <code>/opt/ml/code/mmdetection_trash/wandb/run-20210513_075447-1ujb4c8v/logs/debug.log</code>"
      ],
      "text/plain": [
       "<IPython.core.display.HTML object>"
      ]
     },
     "metadata": {},
     "output_type": "display_data"
    },
    {
     "data": {
      "text/html": [
       "Find internal logs for this run at: <code>/opt/ml/code/mmdetection_trash/wandb/run-20210513_075447-1ujb4c8v/logs/debug-internal.log</code>"
      ],
      "text/plain": [
       "<IPython.core.display.HTML object>"
      ]
     },
     "metadata": {},
     "output_type": "display_data"
    },
    {
     "data": {
      "text/html": [
       "<h3>Run summary:</h3><br/><style>\n",
       "    table.wandb td:nth-child(1) { padding: 0 10px; text-align: right }\n",
       "    </style><table class=\"wandb\">\n",
       "<tr><td>train/loss_rpn_cls</td><td>0.03221</td></tr><tr><td>train/loss_rpn_bbox</td><td>0.02819</td></tr><tr><td>train/s0.loss_cls</td><td>0.20829</td></tr><tr><td>train/s0.acc</td><td>93.31934</td></tr><tr><td>train/s0.loss_bbox</td><td>0.10313</td></tr><tr><td>train/s1.loss_cls</td><td>0.09403</td></tr><tr><td>train/s1.acc</td><td>94.02276</td></tr><tr><td>train/s1.loss_bbox</td><td>0.09442</td></tr><tr><td>train/s2.loss_cls</td><td>0.04802</td></tr><tr><td>train/s2.acc</td><td>94.0192</td></tr><tr><td>train/s2.loss_bbox</td><td>0.05998</td></tr><tr><td>train/loss</td><td>0.66826</td></tr><tr><td>train/grad_norm</td><td>2.5409</td></tr><tr><td>learning_rate</td><td>0.0002</td></tr><tr><td>momentum</td><td>0.9</td></tr><tr><td>_runtime</td><td>4648</td></tr><tr><td>_timestamp</td><td>1620897138</td></tr><tr><td>_step</td><td>7861</td></tr><tr><td>val/bbox_mAP</td><td>0.179</td></tr><tr><td>val/bbox_mAP_50</td><td>0.286</td></tr><tr><td>val/bbox_mAP_75</td><td>0.187</td></tr><tr><td>val/bbox_mAP_s</td><td>0.035</td></tr><tr><td>val/bbox_mAP_m</td><td>0.156</td></tr><tr><td>val/bbox_mAP_l</td><td>0.361</td></tr></table>"
      ],
      "text/plain": [
       "<IPython.core.display.HTML object>"
      ]
     },
     "metadata": {},
     "output_type": "display_data"
    },
    {
     "data": {
      "text/html": [
       "<h3>Run history:</h3><br/><style>\n",
       "    table.wandb td:nth-child(1) { padding: 0 10px; text-align: right }\n",
       "    </style><table class=\"wandb\">\n",
       "<tr><td>train/loss_rpn_cls</td><td>█▆▇▅▄▅▄▃▃▄▃▃▃▃▃▃▂▂▂▃▂▃▃▂▂▃▂▂▁▂▁▁▁▁▁▁▁▁▁▁</td></tr><tr><td>train/loss_rpn_bbox</td><td>▇▇█▇▅▆▄▅▄▅▄▄▄▄▅▄▃▃▃▃▃▄▄▃▃▄▃▂▂▂▁▂▂▁▂▂▁▂▁▂</td></tr><tr><td>train/s0.loss_cls</td><td>▇██▇▆▇▆▆▅▅▄▅▅▄▅▅▄▅▄▅▃▄▄▄▃▄▄▂▂▂▂▂▂▂▂▂▁▁▁▁</td></tr><tr><td>train/s0.acc</td><td>▃▁▁▂▃▁▂▂▂▂▄▂▃▄▃▃▄▃▄▃▅▄▃▄▆▄▄▇▇▆▇▇▆▇▇▇████</td></tr><tr><td>train/s0.loss_bbox</td><td>▇█▆▆▄▅▅▄▄▄▃▄▃▄▄▄▃▃▃▃▂▃▃▃▂▃▃▂▁▂▁▁▂▁▁▁▁▁▁▁</td></tr><tr><td>train/s1.loss_cls</td><td>▄▅█▇▇██▇▆▇▅▇▆▅▆▆▅▆▅▆▄▅▅▅▄▅▅▃▂▃▂▂▃▂▂▂▁▁▁▂</td></tr><tr><td>train/s1.acc</td><td>█▅▃▃▃▁▂▁▂▂▃▁▃▃▂▃▃▂▃▃▄▃▃▃▅▃▃▅▆▅▆▆▅▆▆▆▇▇▇▇</td></tr><tr><td>train/s1.loss_bbox</td><td>▁▅▆▇▆█▇▇▇▇▆▇▆▆▆▆▅▅▅▅▅▅▆▅▄▅▅▄▃▄▃▃▄▃▃▃▃▃▃▃</td></tr><tr><td>train/s2.loss_cls</td><td>▁▂▅▆▆███▇▇▆▇▆▆▇▇▆▆▅▇▅▆▆▆▄▆▆▃▃▃▂▃▃▂▂▂▁▂▁▂</td></tr><tr><td>train/s2.acc</td><td>█▇▅▃▃▁▂▁▂▂▃▁▂▂▁▂▂▂▂▂▃▂▂▂▃▂▂▄▄▄▄▄▃▅▄▄▅▅▅▅</td></tr><tr><td>train/s2.loss_bbox</td><td>▁▂▅▆▇█▇██▇▇█▇▇██▇▇▇▇▇▇█▇▆▇▇▆▆▆▆▆▆▆▆▆▆▆▆▆</td></tr><tr><td>train/loss</td><td>▆▇█▇▆▇▆▆▆▆▅▆▅▅▅▅▄▅▄▅▄▄▅▄▃▄▄▂▂▂▂▂▂▂▂▂▁▁▁▁</td></tr><tr><td>train/grad_norm</td><td>▆▅█▃▃▂▂▂▂▂▂▃▂▂▂▂▂▃▂▃▂▃▃▂▂▂▃▁▁▁▁▂▂▁▂▂▁▁▁▂</td></tr><tr><td>learning_rate</td><td>▂▅█████████████████████████▂▂▂▂▂▂▂▂▂▂▁▁▁</td></tr><tr><td>momentum</td><td>▁▁▁▁▁▁▁▁▁▁▁▁▁▁▁▁▁▁▁▁▁▁▁▁▁▁▁▁▁▁▁▁▁▁▁▁▁▁▁▁</td></tr><tr><td>_runtime</td><td>▁▁▁▂▂▂▂▂▂▃▃▃▃▃▃▄▄▄▄▄▅▅▅▅▅▅▆▆▆▆▆▆▇▇▇▇▇███</td></tr><tr><td>_timestamp</td><td>▁▁▁▂▂▂▂▂▂▃▃▃▃▃▃▄▄▄▄▄▅▅▅▅▅▅▆▆▆▆▆▆▇▇▇▇▇███</td></tr><tr><td>_step</td><td>▁▁▁▂▂▂▂▂▂▃▃▃▃▃▃▄▄▄▄▄▅▅▅▅▅▅▆▆▆▆▆▆▇▇▇▇▇███</td></tr><tr><td>val/bbox_mAP</td><td>▁▃▃▄▄▅▅▆▇███</td></tr><tr><td>val/bbox_mAP_50</td><td>▁▃▃▄▄▅▅▆▇███</td></tr><tr><td>val/bbox_mAP_75</td><td>▁▃▄▄▄▅▅▆████</td></tr><tr><td>val/bbox_mAP_s</td><td>▁▄▄▄▄▇▄▆████</td></tr><tr><td>val/bbox_mAP_m</td><td>▁▃▄▄▅▅▅▅████</td></tr><tr><td>val/bbox_mAP_l</td><td>▁▃▃▄▄▅▅▆▇█▇█</td></tr></table><br/>"
      ],
      "text/plain": [
       "<IPython.core.display.HTML object>"
      ]
     },
     "metadata": {},
     "output_type": "display_data"
    },
    {
     "data": {
      "text/html": [
       "Synced 5 W&B file(s), 0 media file(s), 0 artifact file(s) and 0 other file(s)"
      ],
      "text/plain": [
       "<IPython.core.display.HTML object>"
      ]
     },
     "metadata": {},
     "output_type": "display_data"
    },
    {
     "data": {
      "text/html": [
       "\n",
       "                    <br/>Synced <strong style=\"color:#cdcd00\">cascade_rcnn_r50_fpn_1x_trash</strong>: <a href=\"https://wandb.ai/jongeson/object_detection/runs/1ujb4c8v\" target=\"_blank\">https://wandb.ai/jongeson/object_detection/runs/1ujb4c8v</a><br/>\n",
       "                "
      ],
      "text/plain": [
       "<IPython.core.display.HTML object>"
      ]
     },
     "metadata": {},
     "output_type": "display_data"
    }
   ],
   "source": [
    "train_detector(model, datasets[0], cfg, distributed=False, validate=True)"
   ]
  },
  {
   "cell_type": "code",
   "execution_count": null,
   "metadata": {},
   "outputs": [],
   "source": []
  }
 ],
 "metadata": {
  "kernelspec": {
   "display_name": "Python 3",
   "language": "python",
   "name": "python3"
  },
  "language_info": {
   "codemirror_mode": {
    "name": "ipython",
    "version": 3
   },
   "file_extension": ".py",
   "mimetype": "text/x-python",
   "name": "python",
   "nbconvert_exporter": "python",
   "pygments_lexer": "ipython3",
   "version": "3.7.7"
  },
  "pycharm": {
   "stem_cell": {
    "cell_type": "raw",
    "metadata": {
     "collapsed": false
    },
    "source": []
   }
  }
 },
 "nbformat": 4,
 "nbformat_minor": 4
}
