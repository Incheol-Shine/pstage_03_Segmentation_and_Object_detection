{
 "cells": [
  {
   "cell_type": "code",
   "execution_count": 1,
   "metadata": {
    "pycharm": {
     "name": "#%%\n"
    }
   },
   "outputs": [],
   "source": [
    "from mmcv import Config\n",
    "from mmdet.datasets import build_dataset\n",
    "from mmdet.models import build_detector\n",
    "from mmdet.apis import train_detector\n",
    "from mmdet.datasets import (build_dataloader, build_dataset,\n",
    "                            replace_ImageToTensor)"
   ]
  },
  {
   "cell_type": "code",
   "execution_count": 2,
   "metadata": {},
   "outputs": [
    {
     "output_type": "stream",
     "name": "stderr",
     "text": [
      "Failed to detect the name of this notebook, you can set it manually with the WANDB_NOTEBOOK_NAME environment variable to enable code saving.\n",
      "\u001b[34m\u001b[1mwandb\u001b[0m: Currently logged in as: \u001b[33mjongeson\u001b[0m (use `wandb login --relogin` to force relogin)\n"
     ]
    },
    {
     "output_type": "display_data",
     "data": {
      "text/plain": "<IPython.core.display.HTML object>",
      "text/html": "\n                Tracking run with wandb version 0.10.30<br/>\n                Syncing run <strong style=\"color:#cdcd00\">iconic-bush-21</strong> to <a href=\"https://wandb.ai\" target=\"_blank\">Weights & Biases</a> <a href=\"https://docs.wandb.com/integrations/jupyter.html\" target=\"_blank\">(Documentation)</a>.<br/>\n                Project page: <a href=\"https://wandb.ai/jongeson/object_detection\" target=\"_blank\">https://wandb.ai/jongeson/object_detection</a><br/>\n                Run page: <a href=\"https://wandb.ai/jongeson/object_detection/runs/38ijz15o\" target=\"_blank\">https://wandb.ai/jongeson/object_detection/runs/38ijz15o</a><br/>\n                Run data is saved locally in <code>/opt/ml/code/mmdetection_trash/wandb/run-20210517_084630-38ijz15o</code><br/><br/>\n            "
     },
     "metadata": {}
    },
    {
     "output_type": "stream",
     "name": "stderr",
     "text": [
      "\u001b[34m\u001b[1mwandb\u001b[0m: \u001b[33mWARNING\u001b[0m Calling run.save without any arguments is deprecated.Changes to attributes are automatically persisted.\n"
     ]
    },
    {
     "output_type": "execute_result",
     "data": {
      "text/plain": [
       "True"
      ]
     },
     "metadata": {},
     "execution_count": 2
    }
   ],
   "source": [
    "import wandb\n",
    "project_name = \"object_detection\"\n",
    "wandb.init(project=project_name, reinit=True)\n",
    "\n",
    "wandb.run.name = 'baseline.ipynb'\n",
    "# generted run ID로 하고 싶다면 다음과 같이 쓴다.\n",
    "# wandb.run.name = wandb.run.id\n",
    "wandb.run.save()"
   ]
  },
  {
   "cell_type": "code",
   "execution_count": 3,
   "metadata": {
    "pycharm": {
     "name": "#%%\n"
    }
   },
   "outputs": [],
   "source": [
    "classes = (\"UNKNOWN\", \"General trash\", \"Paper\", \"Paper pack\", \"Metal\", \"Glass\", \n",
    "           \"Plastic\", \"Styrofoam\", \"Plastic bag\", \"Battery\", \"Clothing\")\n",
    "# config file 들고오기\n",
    "# cfg = Config.fromfile('./configs/faster_rcnn/faster_rcnn_r50_fpn_1x_coco.py')\n",
    "cfg = Config.fromfile('./configs/trash/faster_rcnn/faster_rcnn_r50_fpn_1x_trash.py')\n",
    "PREFIX = '../../input/data/'\n"
   ]
  },
  {
   "source": [
    "print(cfg.dump())"
   ],
   "cell_type": "code",
   "metadata": {},
   "execution_count": 4,
   "outputs": [
    {
     "output_type": "stream",
     "name": "stdout",
     "text": [
      "model = dict(\n    type='FasterRCNN',\n    pretrained='torchvision://resnet50',\n    backbone=dict(\n        type='ResNet',\n        depth=50,\n        num_stages=4,\n        out_indices=(0, 1, 2, 3),\n        frozen_stages=1,\n        norm_cfg=dict(type='BN', requires_grad=True),\n        norm_eval=True,\n        style='pytorch'),\n    neck=dict(\n        type='FPN',\n        in_channels=[256, 512, 1024, 2048],\n        out_channels=256,\n        num_outs=5),\n    rpn_head=dict(\n        type='RPNHead',\n        in_channels=256,\n        feat_channels=256,\n        anchor_generator=dict(\n            type='AnchorGenerator',\n            scales=[8],\n            ratios=[0.5, 1.0, 2.0],\n            strides=[4, 8, 16, 32, 64]),\n        bbox_coder=dict(\n            type='DeltaXYWHBBoxCoder',\n            target_means=[0.0, 0.0, 0.0, 0.0],\n            target_stds=[1.0, 1.0, 1.0, 1.0]),\n        loss_cls=dict(\n            type='CrossEntropyLoss', use_sigmoid=True, loss_weight=1.0),\n        loss_bbox=dict(type='L1Loss', loss_weight=1.0)),\n    roi_head=dict(\n        type='StandardRoIHead',\n        bbox_roi_extractor=dict(\n            type='SingleRoIExtractor',\n            roi_layer=dict(type='RoIAlign', output_size=7, sampling_ratio=0),\n            out_channels=256,\n            featmap_strides=[4, 8, 16, 32]),\n        bbox_head=dict(\n            type='Shared2FCBBoxHead',\n            in_channels=256,\n            fc_out_channels=1024,\n            roi_feat_size=7,\n            num_classes=11,\n            bbox_coder=dict(\n                type='DeltaXYWHBBoxCoder',\n                target_means=[0.0, 0.0, 0.0, 0.0],\n                target_stds=[0.1, 0.1, 0.2, 0.2]),\n            reg_class_agnostic=False,\n            loss_cls=dict(\n                type='CrossEntropyLoss', use_sigmoid=False, loss_weight=1.0),\n            loss_bbox=dict(type='L1Loss', loss_weight=1.0))),\n    train_cfg=dict(\n        rpn=dict(\n            assigner=dict(\n                type='MaxIoUAssigner',\n                pos_iou_thr=0.7,\n                neg_iou_thr=0.3,\n                min_pos_iou=0.3,\n                match_low_quality=True,\n                ignore_iof_thr=-1),\n            sampler=dict(\n                type='RandomSampler',\n                num=256,\n                pos_fraction=0.5,\n                neg_pos_ub=-1,\n                add_gt_as_proposals=False),\n            allowed_border=-1,\n            pos_weight=-1,\n            debug=False),\n        rpn_proposal=dict(\n            nms_pre=2000,\n            max_per_img=1000,\n            nms=dict(type='nms', iou_threshold=0.7),\n            min_bbox_size=0),\n        rcnn=dict(\n            assigner=dict(\n                type='MaxIoUAssigner',\n                pos_iou_thr=0.5,\n                neg_iou_thr=0.5,\n                min_pos_iou=0.5,\n                match_low_quality=False,\n                ignore_iof_thr=-1),\n            sampler=dict(\n                type='RandomSampler',\n                num=512,\n                pos_fraction=0.25,\n                neg_pos_ub=-1,\n                add_gt_as_proposals=True),\n            pos_weight=-1,\n            debug=False)),\n    test_cfg=dict(\n        rpn=dict(\n            nms_pre=1000,\n            max_per_img=1000,\n            nms=dict(type='nms', iou_threshold=0.7),\n            min_bbox_size=0),\n        rcnn=dict(\n            score_thr=0.05,\n            nms=dict(type='nms', iou_threshold=0.5),\n            max_per_img=100)))\ndataset_type = 'CocoDataset'\ndata_root = '../../input/data/'\nimg_norm_cfg = dict(\n    mean=[123.675, 116.28, 103.53], std=[58.395, 57.12, 57.375], to_rgb=True)\ntrain_pipeline = [\n    dict(type='LoadImageFromFile'),\n    dict(type='LoadAnnotations', with_bbox=True),\n    dict(type='Resize', img_scale=(512, 512), keep_ratio=True),\n    dict(type='RandomFlip', flip_ratio=0.5),\n    dict(\n        type='Normalize',\n        mean=[123.675, 116.28, 103.53],\n        std=[58.395, 57.12, 57.375],\n        to_rgb=True),\n    dict(type='DefaultFormatBundle'),\n    dict(type='Collect', keys=['img', 'gt_bboxes', 'gt_labels'])\n]\ntest_pipeline = [\n    dict(type='LoadImageFromFile'),\n    dict(\n        type='MultiScaleFlipAug',\n        img_scale=(512, 512),\n        flip=False,\n        transforms=[\n            dict(type='Resize', keep_ratio=True),\n            dict(type='RandomFlip'),\n            dict(\n                type='Normalize',\n                mean=[123.675, 116.28, 103.53],\n                std=[58.395, 57.12, 57.375],\n                to_rgb=True),\n            dict(type='ImageToTensor', keys=['img']),\n            dict(type='Collect', keys=['img'])\n        ])\n]\nclasses = ('UNKNOWN', 'General trash', 'Paper', 'Paper pack', 'Metal', 'Glass',\n           'Plastic', 'Styrofoam', 'Plastic bag', 'Battery', 'Clothing')\ndata = dict(\n    samples_per_gpu=4,\n    workers_per_gpu=2,\n    train=dict(\n        type='CocoDataset',\n        classes=('UNKNOWN', 'General trash', 'Paper', 'Paper pack', 'Metal',\n                 'Glass', 'Plastic', 'Styrofoam', 'Plastic bag', 'Battery',\n                 'Clothing'),\n        ann_file='../../input/data/train.json',\n        img_prefix='../../input/data/',\n        pipeline=[\n            dict(type='LoadImageFromFile'),\n            dict(type='LoadAnnotations', with_bbox=True),\n            dict(type='Resize', img_scale=(512, 512), keep_ratio=True),\n            dict(type='RandomFlip', flip_ratio=0.5),\n            dict(\n                type='Normalize',\n                mean=[123.675, 116.28, 103.53],\n                std=[58.395, 57.12, 57.375],\n                to_rgb=True),\n            dict(type='DefaultFormatBundle'),\n            dict(type='Collect', keys=['img', 'gt_bboxes', 'gt_labels'])\n        ]),\n    val=dict(\n        type='CocoDataset',\n        classes=('UNKNOWN', 'General trash', 'Paper', 'Paper pack', 'Metal',\n                 'Glass', 'Plastic', 'Styrofoam', 'Plastic bag', 'Battery',\n                 'Clothing'),\n        ann_file='../../input/data/val.json',\n        img_prefix='../../input/data/',\n        pipeline=[\n            dict(type='LoadImageFromFile'),\n            dict(\n                type='MultiScaleFlipAug',\n                img_scale=(512, 512),\n                flip=False,\n                transforms=[\n                    dict(type='Resize', keep_ratio=True),\n                    dict(type='RandomFlip'),\n                    dict(\n                        type='Normalize',\n                        mean=[123.675, 116.28, 103.53],\n                        std=[58.395, 57.12, 57.375],\n                        to_rgb=True),\n                    dict(type='ImageToTensor', keys=['img']),\n                    dict(type='Collect', keys=['img'])\n                ])\n        ]),\n    test=dict(\n        type='CocoDataset',\n        classes=('UNKNOWN', 'General trash', 'Paper', 'Paper pack', 'Metal',\n                 'Glass', 'Plastic', 'Styrofoam', 'Plastic bag', 'Battery',\n                 'Clothing'),\n        ann_file='../../input/data/test.json',\n        img_prefix='../../input/data/',\n        pipeline=[\n            dict(type='LoadImageFromFile'),\n            dict(\n                type='MultiScaleFlipAug',\n                img_scale=(512, 512),\n                flip=False,\n                transforms=[\n                    dict(type='Resize', keep_ratio=True),\n                    dict(type='RandomFlip'),\n                    dict(\n                        type='Normalize',\n                        mean=[123.675, 116.28, 103.53],\n                        std=[58.395, 57.12, 57.375],\n                        to_rgb=True),\n                    dict(type='ImageToTensor', keys=['img']),\n                    dict(type='Collect', keys=['img'])\n                ])\n        ]))\noptimizer = dict(type='SGD', lr=0.02, momentum=0.9, weight_decay=0.0001)\noptimizer_config = dict(grad_clip=dict(max_norm=35, norm_type=2))\nlr_config = dict(\n    policy='step',\n    warmup='linear',\n    warmup_iters=500,\n    warmup_ratio=0.001,\n    step=[8, 11])\nrunner = dict(type='EpochBasedRunner', max_epochs=12)\ncheckpoint_config = dict(interval=1, max_keep_ckpts=1)\nlog_config = dict(\n    interval=50,\n    hooks=[\n        dict(type='TextLoggerHook'),\n        dict(\n            type='WandbLoggerHook',\n            init_kwargs=dict(project='프로젝트 이름 아무나', name='run 이름 아무나'),\n            with_step=False)\n    ])\ncustom_hooks = [dict(type='NumClassCheckHook')]\ndist_params = dict(backend='nccl')\nlog_level = 'INFO'\nload_from = None\nresume_from = None\nworkflow = [('train', 1)]\nevaluation = dict(interval=1, metric='bbox', save_best='bbox_mAP_50')\n\n"
     ]
    }
   ]
  },
  {
   "cell_type": "code",
   "execution_count": 5,
   "metadata": {},
   "outputs": [],
   "source": [
    "cfg.log_config.hooks[1].init_kwargs.project = project_name\r\n",
    "cfg.log_config.hooks[1].init_kwargs.name = wandb.run.name\r\n",
    "cfg.runner.max_epochs 2 4"
   ]
  },
  {
   "cell_type": "code",
   "execution_count": 6,
   "metadata": {},
   "outputs": [],
   "source": [
    "# dataset 바꾸기\n",
    "cfg.data.train.classes = classes\n",
    "cfg.data.train.img_prefix = PREFIX\n",
    "cfg.data.train.ann_file = PREFIX + 'train.json'\n",
    "cfg.data.train.pipeline[2]['img_scale'] = (512, 512)\n",
    "\n",
    "cfg.data.val.classes = classes\n",
    "cfg.data.val.img_prefix = PREFIX\n",
    "cfg.data.val.ann_file = PREFIX + 'val.json'\n",
    "cfg.data.val.pipeline[1]['img_scale'] = (512, 512)\n",
    "\n",
    "cfg.data.test.classes = classes\n",
    "cfg.data.test.img_prefix = PREFIX\n",
    "cfg.data.test.ann_file = PREFIX + 'test.json'\n",
    "cfg.data.test.pipeline[1]['img_scale'] = (512, 512)\n",
    "\n",
    "# num_workers?\n",
    "cfg.data.samples_per_gpu = 4\n",
    "\n",
    "# seed\n",
    "cfg.seed=2020\n",
    "\n",
    "# ??\n",
    "cfg.gpu_ids = [0]\n",
    "\n",
    "# 새롭게 만든 모델을 저장할 장소\n",
    "cfg.work_dir = './work_dirs/faster_rcnn_r50_fpn_1x_trash'\n",
    "\n",
    "# class 개수 11개로 수정\n",
    "cfg.model.roi_head.bbox_head.num_classes = 11\n",
    "\n",
    "# ??\n",
    "cfg.optimizer_config.grad_clip = dict(max_norm=35, norm_type=2)"
   ]
  },
  {
   "cell_type": "code",
   "execution_count": 7,
   "metadata": {
    "pycharm": {
     "name": "#%%\n"
    }
   },
   "outputs": [
    {
     "output_type": "stream",
     "name": "stderr",
     "text": [
      "2021-05-17 08:46:52,612 - mmdet - INFO - load model from: torchvision://resnet50\n",
      "2021-05-17 08:46:52,614 - mmdet - INFO - Use load_from_torchvision loader\n",
      "2021-05-17 08:46:52,866 - mmdet - WARNING - The model and loaded state dict do not match exactly\n",
      "\n",
      "unexpected key in source state_dict: fc.weight, fc.bias\n",
      "\n"
     ]
    }
   ],
   "source": [
    "model = build_detector(cfg.model)"
   ]
  },
  {
   "source": [
    "datasets = [build_dataset(cfg.data.train)]"
   ],
   "cell_type": "code",
   "metadata": {
    "pycharm": {
     "name": "#%%\n"
    }
   },
   "execution_count": 8,
   "outputs": [
    {
     "output_type": "stream",
     "name": "stdout",
     "text": [
      "loading annotations into memory...\n",
      "Done (t=3.43s)\n",
      "creating index...\n",
      "index created!\n"
     ]
    }
   ]
  },
  {
   "cell_type": "code",
   "execution_count": null,
   "metadata": {},
   "outputs": [],
   "source": [
    "\n",
    "# # cfg.checkpoint_config\n",
    "\n",
    "# wandb.login()\n",
    "# cfg.log_config.hooks = [\n",
    "#     dict(type='TextLoggerHook'),\n",
    "#     dict(\n",
    "#         type='WandbLoggerHook',\n",
    "#         init_kwargs=dict(\n",
    "#             project='p32',\n",
    "#             name=save_file_name\n",
    "#         ),\n",
    "#         with_step=False # 아우 자꾸 저장 해대 ㅡㅡ\n",
    "#     )\n",
    "# ]\n"
   ]
  },
  {
   "cell_type": "code",
   "execution_count": 9,
   "metadata": {
    "pycharm": {
     "name": "#%%\n"
    },
    "tags": []
   },
   "outputs": [
    {
     "output_type": "stream",
     "name": "stdout",
     "text": [
      "loading annotations into memory...\n",
      "2021-05-17 08:47:07,043 - mmdet - INFO - Start running, host: root@a868eb526110, work_dir: /opt/ml/code/mmdetection_trash/work_dirs/faster_rcnn_r50_fpn_1x_trash\n",
      "2021-05-17 08:47:07,047 - mmdet - INFO - workflow: [('train', 1)], max: 2 epochs\n",
      "Done (t=1.16s)\n",
      "creating index...\n",
      "index created!\n",
      "/opt/ml/code/mmdetection_trash/mmdet/core/evaluation/eval_hooks.py:113: UserWarning: runner.meta is None. Creating a empty one.\n",
      "  warnings.warn('runner.meta is None. Creating a empty one.')\n"
     ]
    },
    {
     "output_type": "display_data",
     "data": {
      "text/plain": "<IPython.core.display.HTML object>",
      "text/html": "Finishing last run (ID:38ijz15o) before initializing another..."
     },
     "metadata": {}
    },
    {
     "output_type": "display_data",
     "data": {
      "text/plain": "<IPython.core.display.HTML object>",
      "text/html": "<br/>Waiting for W&B process to finish, PID 12867<br/>Program ended successfully."
     },
     "metadata": {}
    },
    {
     "output_type": "display_data",
     "data": {
      "text/plain": "VBox(children=(Label(value=' 0.00MB of 0.00MB uploaded (0.00MB deduped)\\r'), FloatProgress(value=1.0, max=1.0)…",
      "application/vnd.jupyter.widget-view+json": {
       "version_major": 2,
       "version_minor": 0,
       "model_id": "5e0d1d9241d74d18be2dd5ca0090eb33"
      }
     },
     "metadata": {}
    },
    {
     "output_type": "display_data",
     "data": {
      "text/plain": "<IPython.core.display.HTML object>",
      "text/html": "Find user logs for this run at: <code>/opt/ml/code/mmdetection_trash/wandb/run-20210517_084630-38ijz15o/logs/debug.log</code>"
     },
     "metadata": {}
    },
    {
     "output_type": "display_data",
     "data": {
      "text/plain": "<IPython.core.display.HTML object>",
      "text/html": "Find internal logs for this run at: <code>/opt/ml/code/mmdetection_trash/wandb/run-20210517_084630-38ijz15o/logs/debug-internal.log</code>"
     },
     "metadata": {}
    },
    {
     "output_type": "display_data",
     "data": {
      "text/plain": "<IPython.core.display.HTML object>",
      "text/html": "Synced 6 W&B file(s), 0 media file(s), 0 artifact file(s) and 0 other file(s)"
     },
     "metadata": {}
    },
    {
     "output_type": "display_data",
     "data": {
      "text/plain": "<IPython.core.display.HTML object>",
      "text/html": "\n                    <br/>Synced <strong style=\"color:#cdcd00\">iconic-bush-21</strong>: <a href=\"https://wandb.ai/jongeson/object_detection/runs/38ijz15o\" target=\"_blank\">https://wandb.ai/jongeson/object_detection/runs/38ijz15o</a><br/>\n                "
     },
     "metadata": {}
    },
    {
     "output_type": "display_data",
     "data": {
      "text/plain": "<IPython.core.display.HTML object>",
      "text/html": "...Successfully finished last run (ID:38ijz15o). Initializing new run:<br/><br/>"
     },
     "metadata": {}
    },
    {
     "output_type": "display_data",
     "data": {
      "text/plain": "<IPython.core.display.HTML object>",
      "text/html": "\n                Tracking run with wandb version 0.10.30<br/>\n                Syncing run <strong style=\"color:#cdcd00\">baseline.ipynb</strong> to <a href=\"https://wandb.ai\" target=\"_blank\">Weights & Biases</a> <a href=\"https://docs.wandb.com/integrations/jupyter.html\" target=\"_blank\">(Documentation)</a>.<br/>\n                Project page: <a href=\"https://wandb.ai/jongeson/object_detection\" target=\"_blank\">https://wandb.ai/jongeson/object_detection</a><br/>\n                Run page: <a href=\"https://wandb.ai/jongeson/object_detection/runs/33g5hr4p\" target=\"_blank\">https://wandb.ai/jongeson/object_detection/runs/33g5hr4p</a><br/>\n                Run data is saved locally in <code>/opt/ml/code/mmdetection_trash/wandb/run-20210517_084707-33g5hr4p</code><br/><br/>\n            "
     },
     "metadata": {}
    },
    {
     "output_type": "stream",
     "name": "stderr",
     "text": [
      "2021-05-17 08:47:33,879 - mmdet - INFO - Epoch [1][50/655]\tlr: 1.978e-03, eta: 0:07:34, time: 0.360, data_time: 0.049, memory: 2100, loss_rpn_cls: 0.5602, loss_rpn_bbox: 0.0997, loss_cls: 0.7469, acc: 86.1191, loss_bbox: 0.1906, loss: 1.5975, grad_norm: 6.7101\n",
      "2021-05-17 08:47:49,879 - mmdet - INFO - Epoch [1][100/655]\tlr: 3.976e-03, eta: 0:06:51, time: 0.320, data_time: 0.006, memory: 2100, loss_rpn_cls: 0.2254, loss_rpn_bbox: 0.0813, loss_cls: 0.4346, acc: 90.3828, loss_bbox: 0.3500, loss: 1.0912, grad_norm: 2.5466\n",
      "2021-05-17 08:48:05,624 - mmdet - INFO - Epoch [1][150/655]\tlr: 5.974e-03, eta: 0:06:24, time: 0.315, data_time: 0.006, memory: 2100, loss_rpn_cls: 0.1678, loss_rpn_bbox: 0.0729, loss_cls: 0.4222, acc: 90.4180, loss_bbox: 0.3595, loss: 1.0223, grad_norm: 2.9491\n",
      "2021-05-17 08:48:21,235 - mmdet - INFO - Epoch [1][200/655]\tlr: 7.972e-03, eta: 0:06:02, time: 0.312, data_time: 0.006, memory: 2100, loss_rpn_cls: 0.1666, loss_rpn_bbox: 0.0827, loss_cls: 0.4629, acc: 88.8135, loss_bbox: 0.4218, loss: 1.1340, grad_norm: 3.3454\n",
      "2021-05-17 08:48:36,724 - mmdet - INFO - Epoch [1][250/655]\tlr: 9.970e-03, eta: 0:05:42, time: 0.310, data_time: 0.006, memory: 2100, loss_rpn_cls: 0.1775, loss_rpn_bbox: 0.0755, loss_cls: 0.4306, acc: 89.3359, loss_bbox: 0.3877, loss: 1.0714, grad_norm: 3.5858\n",
      "2021-05-17 08:48:52,366 - mmdet - INFO - Epoch [1][300/655]\tlr: 1.197e-02, eta: 0:05:24, time: 0.313, data_time: 0.006, memory: 2100, loss_rpn_cls: 0.1645, loss_rpn_bbox: 0.0765, loss_cls: 0.4321, acc: 89.2314, loss_bbox: 0.3985, loss: 1.0716, grad_norm: 3.4048\n",
      "2021-05-17 08:49:07,939 - mmdet - INFO - Epoch [1][350/655]\tlr: 1.397e-02, eta: 0:05:07, time: 0.311, data_time: 0.006, memory: 2100, loss_rpn_cls: 0.1537, loss_rpn_bbox: 0.0809, loss_cls: 0.4328, acc: 88.6396, loss_bbox: 0.4178, loss: 1.0852, grad_norm: 2.9344\n",
      "2021-05-17 08:49:23,648 - mmdet - INFO - Epoch [1][400/655]\tlr: 1.596e-02, eta: 0:04:50, time: 0.314, data_time: 0.006, memory: 2100, loss_rpn_cls: 0.1633, loss_rpn_bbox: 0.0771, loss_cls: 0.4496, acc: 89.4736, loss_bbox: 0.3812, loss: 1.0713, grad_norm: 3.3932\n",
      "2021-05-17 08:49:39,437 - mmdet - INFO - Epoch [1][450/655]\tlr: 1.796e-02, eta: 0:04:34, time: 0.316, data_time: 0.006, memory: 2100, loss_rpn_cls: 0.2043, loss_rpn_bbox: 0.0889, loss_cls: 0.5008, acc: 89.1113, loss_bbox: 0.3794, loss: 1.1734, grad_norm: 3.4296\n",
      "2021-05-17 08:49:55,158 - mmdet - INFO - Epoch [1][500/655]\tlr: 1.996e-02, eta: 0:04:18, time: 0.314, data_time: 0.006, memory: 2100, loss_rpn_cls: 0.1442, loss_rpn_bbox: 0.0819, loss_cls: 0.4827, acc: 87.7725, loss_bbox: 0.4223, loss: 1.1312, grad_norm: 2.5304\n",
      "2021-05-17 08:50:10,643 - mmdet - INFO - Epoch [1][550/655]\tlr: 2.000e-02, eta: 0:04:01, time: 0.310, data_time: 0.006, memory: 2100, loss_rpn_cls: 0.1619, loss_rpn_bbox: 0.0824, loss_cls: 0.4932, acc: 88.5566, loss_bbox: 0.3897, loss: 1.1272, grad_norm: 2.8779\n",
      "2021-05-17 08:50:26,178 - mmdet - INFO - Epoch [1][600/655]\tlr: 2.000e-02, eta: 0:03:45, time: 0.311, data_time: 0.006, memory: 2100, loss_rpn_cls: 0.1363, loss_rpn_bbox: 0.0761, loss_cls: 0.4350, acc: 89.0020, loss_bbox: 0.3774, loss: 1.0248, grad_norm: 2.4213\n",
      "2021-05-17 08:50:41,687 - mmdet - INFO - Epoch [1][650/655]\tlr: 2.000e-02, eta: 0:03:28, time: 0.310, data_time: 0.006, memory: 2100, loss_rpn_cls: 0.1397, loss_rpn_bbox: 0.0731, loss_cls: 0.4599, acc: 88.5605, loss_bbox: 0.3867, loss: 1.0595, grad_norm: 2.2993\n",
      "2021-05-17 08:50:43,275 - mmdet - INFO - Saving checkpoint at 1 epochs\n",
      "[>>>>>>>>>>>>>>>>>>>>>>>>>>>>>] 655/655, 22.0 task/s, elapsed: 30s, ETA:     0s2021-05-17 08:51:14,570 - mmdet - INFO - Evaluating bbox...\n",
      "Loading and preparing results...\n",
      "DONE (t=0.57s)\n",
      "creating index...\n",
      "index created!\n",
      "Running per image evaluation...\n",
      "Evaluate annotation type *bbox*\n",
      "DONE (t=5.88s).\n",
      "Accumulating evaluation results...\n",
      "DONE (t=0.94s).\n",
      "Average Precision  (AP) @[ IoU=0.50:0.95 | area=   all | maxDets=100 ] = 0.038\n",
      "Average Precision  (AP) @[ IoU=0.50      | area=   all | maxDets=1000 ] = 0.087\n",
      "Average Precision  (AP) @[ IoU=0.75      | area=   all | maxDets=1000 ] = 0.027\n",
      "Average Precision  (AP) @[ IoU=0.50:0.95 | area= small | maxDets=1000 ] = 0.007\n",
      "Average Precision  (AP) @[ IoU=0.50:0.95 | area=medium | maxDets=1000 ] = 0.043\n",
      "Average Precision  (AP) @[ IoU=0.50:0.95 | area= large | maxDets=1000 ] = 0.076\n",
      "Average Recall     (AR) @[ IoU=0.50:0.95 | area=   all | maxDets=100 ] = 0.117\n",
      "Average Recall     (AR) @[ IoU=0.50:0.95 | area=   all | maxDets=300 ] = 0.117\n",
      "Average Recall     (AR) @[ IoU=0.50:0.95 | area=   all | maxDets=1000 ] = 0.117\n",
      "Average Recall     (AR) @[ IoU=0.50:0.95 | area= small | maxDets=1000 ] = 0.028\n",
      "Average Recall     (AR) @[ IoU=0.50:0.95 | area=medium | maxDets=1000 ] = 0.104\n",
      "Average Recall     (AR) @[ IoU=0.50:0.95 | area= large | maxDets=1000 ] = 0.238\n",
      "2021-05-17 08:51:23,564 - mmdet - INFO - Now best checkpoint is epoch_1.pth.Best bbox_mAP_50 is 0.0870\n",
      "2021-05-17 08:51:23,571 - mmdet - INFO - Epoch(val) [1][655]\tbbox_mAP: 0.0380, bbox_mAP_50: 0.0870, bbox_mAP_75: 0.0270, bbox_mAP_s: 0.0070, bbox_mAP_m: 0.0430, bbox_mAP_l: 0.0760, bbox_mAP_copypaste: 0.038 0.087 0.027 0.007 0.043 0.076\n",
      "2021-05-17 08:51:41,324 - mmdet - INFO - Epoch [2][50/655]\tlr: 2.000e-02, eta: 0:03:11, time: 0.355, data_time: 0.049, memory: 2100, loss_rpn_cls: 0.1232, loss_rpn_bbox: 0.0773, loss_cls: 0.4230, acc: 88.7812, loss_bbox: 0.3775, loss: 1.0009, grad_norm: 2.2116\n",
      "2021-05-17 08:51:56,815 - mmdet - INFO - Epoch [2][100/655]\tlr: 2.000e-02, eta: 0:02:55, time: 0.310, data_time: 0.006, memory: 2100, loss_rpn_cls: 0.1224, loss_rpn_bbox: 0.0705, loss_cls: 0.4314, acc: 88.5371, loss_bbox: 0.3760, loss: 1.0003, grad_norm: 2.2862\n",
      "2021-05-17 08:52:12,307 - mmdet - INFO - Epoch [2][150/655]\tlr: 2.000e-02, eta: 0:02:39, time: 0.310, data_time: 0.006, memory: 2100, loss_rpn_cls: 0.1158, loss_rpn_bbox: 0.0785, loss_cls: 0.4356, acc: 88.6152, loss_bbox: 0.3813, loss: 1.0112, grad_norm: 2.3246\n",
      "2021-05-17 08:52:27,820 - mmdet - INFO - Epoch [2][200/655]\tlr: 2.000e-02, eta: 0:02:23, time: 0.310, data_time: 0.006, memory: 2100, loss_rpn_cls: 0.1109, loss_rpn_bbox: 0.0726, loss_cls: 0.4156, acc: 88.5098, loss_bbox: 0.3848, loss: 0.9839, grad_norm: 2.0589\n",
      "2021-05-17 08:52:43,275 - mmdet - INFO - Epoch [2][250/655]\tlr: 2.000e-02, eta: 0:02:07, time: 0.309, data_time: 0.006, memory: 2100, loss_rpn_cls: 0.1329, loss_rpn_bbox: 0.0670, loss_cls: 0.4226, acc: 89.1338, loss_bbox: 0.3533, loss: 0.9758, grad_norm: 2.6575\n",
      "2021-05-17 08:52:58,701 - mmdet - INFO - Epoch [2][300/655]\tlr: 2.000e-02, eta: 0:01:51, time: 0.309, data_time: 0.006, memory: 2100, loss_rpn_cls: 0.1308, loss_rpn_bbox: 0.0712, loss_cls: 0.4354, acc: 88.9980, loss_bbox: 0.3566, loss: 0.9941, grad_norm: 2.3264\n",
      "2021-05-17 08:53:14,144 - mmdet - INFO - Epoch [2][350/655]\tlr: 2.000e-02, eta: 0:01:36, time: 0.309, data_time: 0.006, memory: 2100, loss_rpn_cls: 0.1021, loss_rpn_bbox: 0.0646, loss_cls: 0.4385, acc: 88.2598, loss_bbox: 0.3730, loss: 0.9782, grad_norm: 2.0687\n",
      "2021-05-17 08:53:29,730 - mmdet - INFO - Epoch [2][400/655]\tlr: 2.000e-02, eta: 0:01:20, time: 0.312, data_time: 0.006, memory: 2100, loss_rpn_cls: 0.1037, loss_rpn_bbox: 0.0696, loss_cls: 0.4394, acc: 88.0703, loss_bbox: 0.3761, loss: 0.9887, grad_norm: 2.0924\n",
      "2021-05-17 08:53:45,422 - mmdet - INFO - Epoch [2][450/655]\tlr: 2.000e-02, eta: 0:01:04, time: 0.314, data_time: 0.006, memory: 2100, loss_rpn_cls: 0.1032, loss_rpn_bbox: 0.0631, loss_cls: 0.4572, acc: 87.6230, loss_bbox: 0.3997, loss: 1.0231, grad_norm: 2.2041\n",
      "2021-05-17 08:54:00,926 - mmdet - INFO - Epoch [2][500/655]\tlr: 2.000e-02, eta: 0:00:48, time: 0.310, data_time: 0.006, memory: 2100, loss_rpn_cls: 0.1199, loss_rpn_bbox: 0.0690, loss_cls: 0.4093, acc: 88.9551, loss_bbox: 0.3555, loss: 0.9537, grad_norm: 2.1653\n",
      "2021-05-17 08:54:16,322 - mmdet - INFO - Epoch [2][550/655]\tlr: 2.000e-02, eta: 0:00:32, time: 0.308, data_time: 0.006, memory: 2100, loss_rpn_cls: 0.1062, loss_rpn_bbox: 0.0623, loss_cls: 0.3980, acc: 89.3887, loss_bbox: 0.3436, loss: 0.9101, grad_norm: 2.0510\n",
      "2021-05-17 08:54:31,784 - mmdet - INFO - Epoch [2][600/655]\tlr: 2.000e-02, eta: 0:00:17, time: 0.309, data_time: 0.006, memory: 2100, loss_rpn_cls: 0.1125, loss_rpn_bbox: 0.0718, loss_cls: 0.4237, acc: 88.5576, loss_bbox: 0.3662, loss: 0.9741, grad_norm: 2.0209\n",
      "2021-05-17 08:54:47,243 - mmdet - INFO - Epoch [2][650/655]\tlr: 2.000e-02, eta: 0:00:01, time: 0.309, data_time: 0.006, memory: 2100, loss_rpn_cls: 0.0931, loss_rpn_bbox: 0.0721, loss_cls: 0.4091, acc: 88.7402, loss_bbox: 0.3582, loss: 0.9326, grad_norm: 1.9970\n",
      "2021-05-17 08:54:48,915 - mmdet - INFO - Saving checkpoint at 2 epochs\n",
      "[>>>>>>>>>>>>>>>>>>>>>>>>>>>>>] 655/655, 21.5 task/s, elapsed: 30s, ETA:     0s2021-05-17 08:55:21,001 - mmdet - INFO - Evaluating bbox...\n",
      "Loading and preparing results...\n",
      "DONE (t=1.07s)\n",
      "creating index...\n",
      "index created!\n",
      "Running per image evaluation...\n",
      "Evaluate annotation type *bbox*\n",
      "DONE (t=7.28s).\n",
      "Accumulating evaluation results...\n",
      "DONE (t=1.16s).\n",
      "Average Precision  (AP) @[ IoU=0.50:0.95 | area=   all | maxDets=100 ] = 0.056\n",
      "Average Precision  (AP) @[ IoU=0.50      | area=   all | maxDets=1000 ] = 0.110\n",
      "Average Precision  (AP) @[ IoU=0.75      | area=   all | maxDets=1000 ] = 0.052\n",
      "Average Precision  (AP) @[ IoU=0.50:0.95 | area= small | maxDets=1000 ] = 0.013\n",
      "Average Precision  (AP) @[ IoU=0.50:0.95 | area=medium | maxDets=1000 ] = 0.059\n",
      "Average Precision  (AP) @[ IoU=0.50:0.95 | area= large | maxDets=1000 ] = 0.104\n",
      "Average Recall     (AR) @[ IoU=0.50:0.95 | area=   all | maxDets=100 ] = 0.143\n",
      "Average Recall     (AR) @[ IoU=0.50:0.95 | area=   all | maxDets=300 ] = 0.143\n",
      "Average Recall     (AR) @[ IoU=0.50:0.95 | area=   all | maxDets=1000 ] = 0.143\n",
      "Average Recall     (AR) @[ IoU=0.50:0.95 | area= small | maxDets=1000 ] = 0.037\n",
      "Average Recall     (AR) @[ IoU=0.50:0.95 | area=medium | maxDets=1000 ] = 0.132\n",
      "Average Recall     (AR) @[ IoU=0.50:0.95 | area= large | maxDets=1000 ] = 0.277\n",
      "2021-05-17 08:55:32,148 - mmdet - INFO - Now best checkpoint is epoch_2.pth.Best bbox_mAP_50 is 0.1100\n",
      "2021-05-17 08:55:32,155 - mmdet - INFO - Epoch(val) [2][655]\tbbox_mAP: 0.0560, bbox_mAP_50: 0.1100, bbox_mAP_75: 0.0520, bbox_mAP_s: 0.0130, bbox_mAP_m: 0.0590, bbox_mAP_l: 0.1040, bbox_mAP_copypaste: 0.056 0.110 0.052 0.013 0.059 0.104\n"
     ]
    },
    {
     "output_type": "display_data",
     "data": {
      "text/plain": "<IPython.core.display.HTML object>",
      "text/html": "<br/>Waiting for W&B process to finish, PID 12967<br/>Program ended successfully."
     },
     "metadata": {}
    },
    {
     "output_type": "display_data",
     "data": {
      "text/plain": "VBox(children=(Label(value=' 0.00MB of 0.00MB uploaded (0.00MB deduped)\\r'), FloatProgress(value=1.0, max=1.0)…",
      "application/vnd.jupyter.widget-view+json": {
       "version_major": 2,
       "version_minor": 0,
       "model_id": "5c6b2a83b0504d27868ef83cb51bf2c5"
      }
     },
     "metadata": {}
    },
    {
     "output_type": "display_data",
     "data": {
      "text/plain": "<IPython.core.display.HTML object>",
      "text/html": "Find user logs for this run at: <code>/opt/ml/code/mmdetection_trash/wandb/run-20210517_084707-33g5hr4p/logs/debug.log</code>"
     },
     "metadata": {}
    },
    {
     "output_type": "display_data",
     "data": {
      "text/plain": "<IPython.core.display.HTML object>",
      "text/html": "Find internal logs for this run at: <code>/opt/ml/code/mmdetection_trash/wandb/run-20210517_084707-33g5hr4p/logs/debug-internal.log</code>"
     },
     "metadata": {}
    },
    {
     "output_type": "display_data",
     "data": {
      "text/plain": "<IPython.core.display.HTML object>",
      "text/html": "<h3>Run summary:</h3><br/><style>\n    table.wandb td:nth-child(1) { padding: 0 10px; text-align: right }\n    </style><table class=\"wandb\">\n<tr><td>train/loss_rpn_cls</td><td>0.09311</td></tr><tr><td>train/loss_rpn_bbox</td><td>0.07209</td></tr><tr><td>train/loss_cls</td><td>0.40912</td></tr><tr><td>train/acc</td><td>88.74023</td></tr><tr><td>train/loss_bbox</td><td>0.35825</td></tr><tr><td>train/loss</td><td>0.93257</td></tr><tr><td>train/grad_norm</td><td>1.99701</td></tr><tr><td>learning_rate</td><td>0.02</td></tr><tr><td>momentum</td><td>0.9</td></tr><tr><td>global_step</td><td>1311</td></tr><tr><td>_runtime</td><td>502</td></tr><tr><td>_timestamp</td><td>1621241732</td></tr><tr><td>_step</td><td>27</td></tr><tr><td>val/bbox_mAP</td><td>0.056</td></tr><tr><td>val/bbox_mAP_50</td><td>0.11</td></tr><tr><td>val/bbox_mAP_75</td><td>0.052</td></tr><tr><td>val/bbox_mAP_s</td><td>0.013</td></tr><tr><td>val/bbox_mAP_m</td><td>0.059</td></tr><tr><td>val/bbox_mAP_l</td><td>0.104</td></tr></table>"
     },
     "metadata": {}
    },
    {
     "output_type": "display_data",
     "data": {
      "text/plain": "<IPython.core.display.HTML object>",
      "text/html": "<h3>Run history:</h3><br/><style>\n    table.wandb td:nth-child(1) { padding: 0 10px; text-align: right }\n    </style><table class=\"wandb\">\n<tr><td>train/loss_rpn_cls</td><td>█▃▂▂▂▂▂▂▃▂▂▂▂▁▁▁▁▂▂▁▁▁▁▁▁▁</td></tr><tr><td>train/loss_rpn_bbox</td><td>█▅▃▅▃▄▄▄▆▅▅▄▃▄▃▄▃▂▃▁▂▁▂▁▃▃</td></tr><tr><td>train/loss_cls</td><td>█▂▁▂▂▂▂▂▃▃▃▂▂▂▂▂▁▁▂▂▂▂▁▁▂▁</td></tr><tr><td>train/acc</td><td>▁██▅▆▆▅▆▆▄▅▆▅▅▅▅▅▆▆▄▄▃▆▆▅▅</td></tr><tr><td>train/loss_bbox</td><td>▁▆▆█▇▇█▇▇█▇▇▇▇▇▇▇▆▆▇▇▇▆▆▆▆</td></tr><tr><td>train/loss</td><td>█▃▂▃▃▃▃▃▄▃▃▂▃▂▂▂▂▂▂▂▂▂▁▁▂▁</td></tr><tr><td>train/grad_norm</td><td>█▂▂▃▃▃▂▃▃▂▂▂▁▁▁▁▁▂▁▁▁▁▁▁▁▁</td></tr><tr><td>learning_rate</td><td>▁▂▃▃▄▅▆▆▇███████████████████</td></tr><tr><td>momentum</td><td>▁▁▁▁▁▁▁▁▁▁▁▁▁▁▁▁▁▁▁▁▁▁▁▁▁▁▁▁</td></tr><tr><td>global_step</td><td>▁▁▂▂▂▂▃▃▃▃▄▄▄▄▅▅▅▅▆▆▆▇▇▇▇███</td></tr><tr><td>_runtime</td><td>▁▁▁▂▂▂▂▃▃▃▃▄▄▄▅▅▅▅▆▆▆▆▆▇▇▇▇█</td></tr><tr><td>_timestamp</td><td>▁▁▁▂▂▂▂▃▃▃▃▄▄▄▅▅▅▅▆▆▆▆▆▇▇▇▇█</td></tr><tr><td>_step</td><td>▁▁▂▂▂▂▃▃▃▃▄▄▄▄▅▅▅▅▆▆▆▆▇▇▇▇██</td></tr><tr><td>val/bbox_mAP</td><td>▁█</td></tr><tr><td>val/bbox_mAP_50</td><td>▁█</td></tr><tr><td>val/bbox_mAP_75</td><td>▁█</td></tr><tr><td>val/bbox_mAP_s</td><td>▁█</td></tr><tr><td>val/bbox_mAP_m</td><td>▁█</td></tr><tr><td>val/bbox_mAP_l</td><td>▁█</td></tr></table><br/>"
     },
     "metadata": {}
    },
    {
     "output_type": "display_data",
     "data": {
      "text/plain": "<IPython.core.display.HTML object>",
      "text/html": "Synced 6 W&B file(s), 0 media file(s), 0 artifact file(s) and 0 other file(s)"
     },
     "metadata": {}
    },
    {
     "output_type": "display_data",
     "data": {
      "text/plain": "<IPython.core.display.HTML object>",
      "text/html": "\n                    <br/>Synced <strong style=\"color:#cdcd00\">baseline.ipynb</strong>: <a href=\"https://wandb.ai/jongeson/object_detection/runs/33g5hr4p\" target=\"_blank\">https://wandb.ai/jongeson/object_detection/runs/33g5hr4p</a><br/>\n                "
     },
     "metadata": {}
    }
   ],
   "source": [
    "train_detector(model, datasets[0], cfg, distributed=False, validate=True)"
   ]
  },
  {
   "cell_type": "code",
   "execution_count": null,
   "metadata": {},
   "outputs": [],
   "source": []
  },
  {
   "cell_type": "code",
   "execution_count": null,
   "metadata": {},
   "outputs": [],
   "source": []
  }
 ],
 "metadata": {
  "kernelspec": {
   "display_name": "Python 3",
   "language": "python",
   "name": "python3"
  },
  "language_info": {
   "codemirror_mode": {
    "name": "ipython",
    "version": 3
   },
   "file_extension": ".py",
   "mimetype": "text/x-python",
   "name": "python",
   "nbconvert_exporter": "python",
   "pygments_lexer": "ipython3",
   "version": "3.7.7"
  },
  "pycharm": {
   "stem_cell": {
    "cell_type": "raw",
    "metadata": {
     "collapsed": false
    },
    "source": []
   }
  }
 },
 "nbformat": 4,
 "nbformat_minor": 4
}