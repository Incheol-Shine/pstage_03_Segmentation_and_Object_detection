{
 "cells": [
  {
   "cell_type": "code",
   "execution_count": 1,
   "id": "4f0d2b7f-f19c-44e6-a228-8a860496d10b",
   "metadata": {},
   "outputs": [],
   "source": [
    "from pycocotools.coco import COCO\n",
    "from pycocotools.cocoeval import COCOeval\n",
    "import numpy as np\n",
    "import cv2\n",
    "import os\n",
    "\n",
    "import albumentations as A\n",
    "from albumentations.pytorch.transforms import ToTensorV2\n",
    "\n",
    "import torch\n",
    "# faster rcnn model이 포함된 library\n",
    "import torchvision\n",
    "\n",
    "from torchvision.models.detection.faster_rcnn import FastRCNNPredictor\n",
    "\n",
    "from torch.utils.data import DataLoader, Dataset\n",
    "import pandas as pd\n",
    "from tqdm import tqdm"
   ]
  },
  {
   "cell_type": "code",
   "execution_count": 2,
   "id": "84961229-6875-497c-b7c4-078e8329036f",
   "metadata": {},
   "outputs": [],
   "source": [
    "class CustomDataset(Dataset):\n",
    "    '''\n",
    "      data_dir: data가 존재하는 폴더 경로\n",
    "      transforms: data transform (resize, crop, Totensor, etc,,,)\n",
    "    '''\n",
    "\n",
    "    def __init__(self, annotation, data_dir, transforms=None):\n",
    "        super().__init__()\n",
    "        self.data_dir = data_dir\n",
    "        # coco annotation 불러오기 (coco API)\n",
    "        self.coco = COCO(annotation)\n",
    "        self.predictions = {\n",
    "            \"images\": self.coco.dataset[\"images\"].copy(),\n",
    "            \"categories\": self.coco.dataset[\"categories\"].copy(),\n",
    "            \"annotations\": None\n",
    "        }\n",
    "        self.transforms = transforms\n",
    "\n",
    "    def __getitem__(self, index: int):\n",
    "        \n",
    "        image_id = self.coco.getImgIds(imgIds=index)\n",
    "\n",
    "        image_info = self.coco.loadImgs(image_id)[0]\n",
    "        \n",
    "        image = cv2.imread(os.path.join(self.data_dir, image_info['file_name']))\n",
    "        image = cv2.cvtColor(image, cv2.COLOR_BGR2RGB).astype(np.float32)\n",
    "        image /= 255.0\n",
    "\n",
    "        ann_ids = self.coco.getAnnIds(imgIds=image_info['id'])\n",
    "        anns = self.coco.loadAnns(ann_ids)\n",
    "\n",
    "        boxes = np.array([x['bbox'] for x in anns])\n",
    "\n",
    "        # boxex (x_min, y_min, x_max, y_max)\n",
    "        boxes[:, 2] = boxes[:, 0] + boxes[:, 2]\n",
    "        boxes[:, 3] = boxes[:, 1] + boxes[:, 3]\n",
    "        \n",
    "        labels = np.array([x['category_id'] for x in anns])\n",
    "        labels = torch.as_tensor(labels, dtype=torch.int64)\n",
    "        \n",
    "        areas = np.array([x['area'] for x in anns])\n",
    "        areas = torch.as_tensor(areas, dtype=torch.float32)\n",
    "                                \n",
    "        is_crowds = np.array([x['iscrowd'] for x in anns])\n",
    "        is_crowds = torch.as_tensor(is_crowds, dtype=torch.int64)\n",
    "                                \n",
    "        segmentation = np.array([x['segmentation'] for x in anns], dtype=object)\n",
    "\n",
    "        target = {'boxes': boxes, 'labels': labels, 'image_id': torch.tensor([index]), 'area': areas,\n",
    "                  'iscrowd': is_crowds}\n",
    "\n",
    "        # transform\n",
    "        if self.transforms:\n",
    "            sample = {\n",
    "                'image': image,\n",
    "                'bboxes': target['boxes'],\n",
    "                'labels': labels\n",
    "            }\n",
    "            sample = self.transforms(**sample)\n",
    "            image = sample['image']\n",
    "            target['boxes'] = torch.tensor(sample['bboxes'], dtype=torch.float32)\n",
    "\n",
    "        return image, target, image_id\n",
    "    \n",
    "    def __len__(self) -> int:\n",
    "        return len(self.coco.getImgIds())"
   ]
  },
  {
   "cell_type": "code",
   "execution_count": 3,
   "id": "8237b963-05fd-4956-9356-5cfaf85eff12",
   "metadata": {},
   "outputs": [],
   "source": [
    "def get_train_transform():\n",
    "    return A.Compose([\n",
    "        A.Resize(512, 512),\n",
    "        A.Flip(p=0.5),\n",
    "        ToTensorV2(p=1.0)\n",
    "    ], bbox_params={'format': 'pascal_voc', 'label_fields': ['labels']})"
   ]
  },
  {
   "cell_type": "code",
   "execution_count": 4,
   "id": "e3d1d8ac-393c-4978-804c-ba2f5d68d431",
   "metadata": {},
   "outputs": [
    {
     "name": "stdout",
     "output_type": "stream",
     "text": [
      "loading annotations into memory...\n",
      "Done (t=3.59s)\n",
      "creating index...\n",
      "index created!\n"
     ]
    }
   ],
   "source": [
    "annotation = '../input/data/train.json'\n",
    "data_dir = '../input/data'\n",
    "train_dataset = CustomDataset(annotation, data_dir, get_train_transform())"
   ]
  },
  {
   "cell_type": "code",
   "execution_count": null,
   "id": "fb8a9559-3057-4214-b6f1-5c42a6b3ef02",
   "metadata": {},
   "outputs": [],
   "source": [
    "train_loader = "
   ]
  },
  {
   "cell_type": "code",
   "execution_count": 14,
   "id": "0e669cee-b35e-4ec9-bc47-6648811500fc",
   "metadata": {},
   "outputs": [
    {
     "data": {
      "text/plain": [
       "(tensor([[[0.3961, 0.3922, 0.3922,  ..., 0.6039, 0.6039, 0.6000],\n",
       "          [0.3961, 0.3961, 0.3922,  ..., 0.6000, 0.6000, 0.6000],\n",
       "          [0.3961, 0.3961, 0.3961,  ..., 0.5961, 0.5961, 0.5961],\n",
       "          ...,\n",
       "          [0.4824, 0.4824, 0.4784,  ..., 0.5098, 0.5059, 0.5020],\n",
       "          [0.4863, 0.4824, 0.4784,  ..., 0.5137, 0.5059, 0.5059],\n",
       "          [0.4863, 0.4824, 0.4784,  ..., 0.5137, 0.5137, 0.5098]],\n",
       " \n",
       "         [[0.2235, 0.2196, 0.2196,  ..., 0.4627, 0.4627, 0.4588],\n",
       "          [0.2235, 0.2235, 0.2196,  ..., 0.4588, 0.4588, 0.4588],\n",
       "          [0.2235, 0.2235, 0.2235,  ..., 0.4549, 0.4549, 0.4549],\n",
       "          ...,\n",
       "          [0.4039, 0.4039, 0.3961,  ..., 0.4196, 0.4157, 0.4118],\n",
       "          [0.4078, 0.4039, 0.3961,  ..., 0.4235, 0.4157, 0.4157],\n",
       "          [0.4078, 0.4039, 0.3961,  ..., 0.4235, 0.4235, 0.4196]],\n",
       " \n",
       "         [[0.0784, 0.0745, 0.0745,  ..., 0.3608, 0.3608, 0.3569],\n",
       "          [0.0784, 0.0784, 0.0745,  ..., 0.3569, 0.3569, 0.3569],\n",
       "          [0.0784, 0.0784, 0.0784,  ..., 0.3529, 0.3529, 0.3529],\n",
       "          ...,\n",
       "          [0.3098, 0.3098, 0.3137,  ..., 0.3490, 0.3451, 0.3412],\n",
       "          [0.3137, 0.3098, 0.3137,  ..., 0.3529, 0.3451, 0.3451],\n",
       "          [0.3137, 0.3098, 0.3137,  ..., 0.3529, 0.3529, 0.3490]]]),\n",
       " {'boxes': tensor([[  2.5000,  56.2000, 383.8000, 405.0000],\n",
       "          [115.3000, 270.2000, 180.1000, 318.6000],\n",
       "          [125.3000, 262.1000, 155.8000, 279.2000],\n",
       "          [248.4000, 298.3000, 285.3000, 328.6000],\n",
       "          [225.2000, 303.0000, 256.0000, 330.3000],\n",
       "          [181.2000, 298.8000, 247.7000, 326.9000],\n",
       "          [165.4000, 284.6000, 217.7000, 319.4000],\n",
       "          [252.3000, 263.4000, 281.9000, 300.1000],\n",
       "          [209.0000, 267.7000, 275.5000, 302.9000],\n",
       "          [219.4000, 284.3000, 244.1000, 293.6000],\n",
       "          [238.9000, 288.9000, 262.9000, 310.5000],\n",
       "          [326.6000, 243.7000, 357.2000, 279.9000],\n",
       "          [275.7000, 246.7000, 337.3000, 304.4000],\n",
       "          [427.9000, 148.6000, 512.0000, 333.1000]]),\n",
       "  'labels': tensor([8, 8, 8, 1, 1, 1, 1, 8, 1, 1, 8, 8, 1, 1]),\n",
       "  'image_id': tensor([0]),\n",
       "  'area': tensor([79999.0000,  1623.0000,   327.5000,   369.5000,   400.0000,  1043.0000,\n",
       "            655.5000,   373.0000,  1273.0000,   153.0000,   211.5000,   680.5000,\n",
       "           2249.0000,  7564.5000]),\n",
       "  'iscrowd': tensor([0, 0, 0, 0, 0, 0, 0, 0, 0, 0, 0, 0, 0, 0])},\n",
       " [0])"
      ]
     },
     "execution_count": 14,
     "metadata": {},
     "output_type": "execute_result"
    }
   ],
   "source": [
    "# image, target, image_id = train_dataset[0]\n",
    "train_dataset[0]"
   ]
  },
  {
   "cell_type": "code",
   "execution_count": 15,
   "id": "0f331b5a-bbc4-43a9-b930-7ad53f787452",
   "metadata": {},
   "outputs": [
    {
     "name": "stdout",
     "output_type": "stream",
     "text": [
      "loading annotations into memory...\n",
      "Done (t=3.95s)\n",
      "creating index...\n",
      "index created!\n"
     ]
    }
   ],
   "source": [
    "coco_test = COCO(annotation)\n"
   ]
  },
  {
   "cell_type": "code",
   "execution_count": 18,
   "id": "23beb02c-9403-4a21-afef-0e7f666a302d",
   "metadata": {},
   "outputs": [
    {
     "data": {
      "text/plain": [
       "[{'license': 0,\n",
       "  'url': None,\n",
       "  'file_name': 'batch_01_vt/0006.jpg',\n",
       "  'height': 512,\n",
       "  'width': 512,\n",
       "  'date_captured': None,\n",
       "  'id': 2}]"
      ]
     },
     "execution_count": 18,
     "metadata": {},
     "output_type": "execute_result"
    }
   ],
   "source": [
    "coco_test.loadImgs([2])"
   ]
  },
  {
   "cell_type": "code",
   "execution_count": 17,
   "id": "d1a95e36-1a5b-4c97-8925-7de9ce2dfa98",
   "metadata": {},
   "outputs": [
    {
     "data": {
      "text/plain": [
       "{'license': 0,\n",
       " 'url': None,\n",
       " 'file_name': 'batch_01_vt/0003.jpg',\n",
       " 'height': 512,\n",
       " 'width': 512,\n",
       " 'date_captured': None,\n",
       " 'id': 0}"
      ]
     },
     "execution_count": 17,
     "metadata": {},
     "output_type": "execute_result"
    }
   ],
   "source": [
    "coco_test.loadImgs(image_id)[0]   ### list 를 벗겨낸 것"
   ]
  }
 ],
 "metadata": {
  "kernelspec": {
   "display_name": "Python 3",
   "language": "python",
   "name": "python3"
  },
  "language_info": {
   "codemirror_mode": {
    "name": "ipython",
    "version": 3
   },
   "file_extension": ".py",
   "mimetype": "text/x-python",
   "name": "python",
   "nbconvert_exporter": "python",
   "pygments_lexer": "ipython3",
   "version": "3.7.7"
  }
 },
 "nbformat": 4,
 "nbformat_minor": 5
}
